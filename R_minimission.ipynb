{
 "cells": [
  {
   "cell_type": "code",
   "execution_count": 15,
   "metadata": {
    "executionInfo": {
     "elapsed": 496,
     "status": "ok",
     "timestamp": 1631162635566,
     "user": {
      "displayName": "Young Min Hong",
      "photoUrl": "",
      "userId": "02710847191408309946"
     },
     "user_tz": -540
    },
    "id": "aTFY5gh40eG4"
   },
   "outputs": [],
   "source": [
    "import pandas as pd\n",
    "import csv\n",
    "import matplotlib.pyplot as plt"
   ]
  },
  {
   "cell_type": "code",
   "execution_count": 109,
   "metadata": {
    "executionInfo": {
     "elapsed": 373,
     "status": "ok",
     "timestamp": 1631165895171,
     "user": {
      "displayName": "Young Min Hong",
      "photoUrl": "",
      "userId": "02710847191408309946"
     },
     "user_tz": -540
    },
    "id": "mKJ0VW-f1T2M"
   },
   "outputs": [],
   "source": [
    "col = ['number','name','korean','math','english']\n",
    "james = [1,'James',30,50,70]\n",
    "jessy = [2,'Jessy',50,60,80]\n",
    "kim = [3, 'Kim',80,90,100]\n",
    "koo = [4,'Koo',40,50,80]\n",
    "eli = [5,'Eli',50,60,30]\n",
    "K = [col,james,jessy,kim,koo,eli]"
   ]
  },
  {
   "cell_type": "code",
   "execution_count": 110,
   "metadata": {
    "executionInfo": {
     "elapsed": 5,
     "status": "ok",
     "timestamp": 1631165896825,
     "user": {
      "displayName": "Young Min Hong",
      "photoUrl": "",
      "userId": "02710847191408309946"
     },
     "user_tz": -540
    },
    "id": "DcvPmb291E3n"
   },
   "outputs": [],
   "source": [
    "import csv\n",
    "\n",
    "f = open('/content/drive/Othercomputers/내 노트북/Ubion/Jupyter/excel.csv', 'w')\n",
    "\n",
    "# create the csv writer\n",
    "writer = csv.writer(f)\n",
    "\n",
    "\n",
    "for i in K :\n",
    "    writer.writerow(i)\n",
    "\n",
    "\n",
    "# close the file\n",
    "f.close()"
   ]
  },
  {
   "cell_type": "code",
   "execution_count": 112,
   "metadata": {
    "colab": {
     "base_uri": "https://localhost:8080/"
    },
    "executionInfo": {
     "elapsed": 383,
     "status": "ok",
     "timestamp": 1631165918768,
     "user": {
      "displayName": "Young Min Hong",
      "photoUrl": "",
      "userId": "02710847191408309946"
     },
     "user_tz": -540
    },
    "id": "PZ9GL-LN9SSe",
    "outputId": "630c2d8a-856d-4172-8982-94ba49ef1f60"
   },
   "outputs": [
    {
     "name": "stdout",
     "output_type": "stream",
     "text": [
      "       number  korean  math  english\n",
      "name                                \n",
      "James       1      30    50       70\n",
      "Jessy       2      50    60       80\n",
      "Kim         3      80    90      100\n",
      "Koo         4      40    50       80\n",
      "Eli         5      50    60       30\n"
     ]
    }
   ],
   "source": [
    "df = pd.read_csv('/content/drive/Othercomputers/내 노트북/Ubion/Jupyter/excel.csv')\n",
    "df = df.set_index('name')\n",
    "print(df)"
   ]
  },
  {
   "cell_type": "code",
   "execution_count": 163,
   "metadata": {
    "executionInfo": {
     "elapsed": 383,
     "status": "ok",
     "timestamp": 1631168214733,
     "user": {
      "displayName": "Young Min Hong",
      "photoUrl": "",
      "userId": "02710847191408309946"
     },
     "user_tz": -540
    },
    "id": "SHtU2xsk0lLC"
   },
   "outputs": [],
   "source": [
    "class Person ():\n",
    "    def __init__(self,df,name1):\n",
    "        self.name = name1\n",
    "        self.korean = df.loc[name1,'korean']\n",
    "        self.english = df.loc[name1,'english']\n",
    "        self.math = df.loc[name1,'math']\n",
    "        self.x = ['korean','math','english']\n",
    "        self.y = [self.korean,self.math,self.english]\n",
    "\n",
    "    def totaln (self):\n",
    "        self.result = self.korean + self.math + self.english\n",
    "        return self.result\n",
    "\n",
    "    def avern (self):\n",
    "        self.avg = self.result/3\n",
    "        print(self.avg)\n",
    "\n",
    "    def showBar(self):\n",
    "\n",
    "        plt.plot(self.x,self.y)\n",
    "        plt.show()\n",
    "\n",
    "\n",
    "    def showPie(self):\n",
    "        plt.pie(self.y,labels = self.x,autopct = '%.1f%%')\n",
    "        plt.show()  \n",
    "\n",
    "    def showLine(self):\n",
    "        plt.bar(self.x,self.y)\n",
    "        plt.show()\n",
    "\n",
    "    def showPerson(self): #모든 값들을 불러와야 함\n",
    "        self.totaln()\n",
    "        self.avern()\n",
    "        self.showBar()\n",
    "        self.showPie()\n",
    "        self.showLine()\n",
    "\n"
   ]
  },
  {
   "cell_type": "code",
   "execution_count": 164,
   "metadata": {
    "colab": {
     "base_uri": "https://localhost:8080/",
     "height": 762
    },
    "executionInfo": {
     "elapsed": 530,
     "status": "ok",
     "timestamp": 1631168217397,
     "user": {
      "displayName": "Young Min Hong",
      "photoUrl": "",
      "userId": "02710847191408309946"
     },
     "user_tz": -540
    },
    "id": "bTSJffgV94Wf",
    "outputId": "07a49944-0702-42ba-9541-9f0b59eb7974"
   },
   "outputs": [
    {
     "name": "stdout",
     "output_type": "stream",
     "text": [
      "90.0\n"
     ]
    },
    {
     "data": {
      "image/png": "[encoded data removed]",
      "text/plain": [
       "<Figure size 432x288 with 1 Axes>"
      ]
     },
     "metadata": {
      "needs_background": "light"
     },
     "output_type": "display_data"
    },
    {
     "data": {
      "image/png": "[encoded data removed]",
      "text/plain": [
       "<Figure size 432x288 with 1 Axes>"
      ]
     },
     "metadata": {},
     "output_type": "display_data"
    },
    {
     "data": {
      "image/png": "[encoded data removed]",
      "text/plain": [
       "<Figure size 432x288 with 1 Axes>"
      ]
     },
     "metadata": {
      "needs_background": "light"
     },
     "output_type": "display_data"
    }
   ],
   "source": [
    "p1 = Person(df,'Kim')\n",
    "p1.showPerson()"
   ]
  }
 ],
 "metadata": {
  "colab": {
   "authorship_tag": "ABX9TyNbEfNBTh3DC4siJJ8B5nbG",
   "collapsed_sections": [],
   "mount_file_id": "1Qo2zErj1Y5493P4ACMk_DIt8c0sqRtRi",
   "name": "R_minimission.ipynb",
   "provenance": []
  },
  "kernelspec": {
   "display_name": "Python 3",
   "language": "python",
   "name": "python3"
  },
  "language_info": {
   "codemirror_mode": {
    "name": "ipython",
    "version": 3
   },
   "file_extension": ".py",
   "mimetype": "text/x-python",
   "name": "python",
   "nbconvert_exporter": "python",
   "pygments_lexer": "ipython3",
   "version": "3.8.8"
  }
 },
 "nbformat": 4,
 "nbformat_minor": 1
}
