{
 "cells": [
  {
   "cell_type": "code",
   "execution_count": 5,
   "id": "eb71323c",
   "metadata": {},
   "outputs": [
    {
     "name": "stdout",
     "output_type": "stream",
     "text": [
      "100 바보다\n"
     ]
    }
   ],
   "source": [
    "print (\"%d 바보다\" %(100))"
   ]
  },
  {
   "cell_type": "code",
   "execution_count": 6,
   "id": "be9298d8",
   "metadata": {},
   "outputs": [
    {
     "name": "stdout",
     "output_type": "stream",
     "text": [
      "a= 100\n"
     ]
    }
   ],
   "source": [
    "a = 100\n",
    "print ( \"a= %d\" %(a))"
   ]
  },
  {
   "cell_type": "code",
   "execution_count": 7,
   "id": "d5fbd17e",
   "metadata": {},
   "outputs": [
    {
     "name": "stdout",
     "output_type": "stream",
     "text": [
      "100, 50, 10\n"
     ]
    }
   ],
   "source": [
    "b= 50\n",
    "c = 10\n",
    "print (\"%d, %d, %d\" %(a,b,c))"
   ]
  },
  {
   "cell_type": "code",
   "execution_count": 8,
   "id": "2a3c7723",
   "metadata": {},
   "outputs": [
    {
     "name": "stdout",
     "output_type": "stream",
     "text": [
      "너 100\n"
     ]
    }
   ],
   "source": [
    "print (\"%s %d\" %(\"너\", 100))"
   ]
  },
  {
   "cell_type": "code",
   "execution_count": 9,
   "id": "501dd822",
   "metadata": {},
   "outputs": [
    {
     "name": "stdout",
     "output_type": "stream",
     "text": [
      "한행 \n",
      " 한행\n"
     ]
    }
   ],
   "source": [
    "print(\"한행 \\n 한행\")"
   ]
  },
  {
   "cell_type": "code",
   "execution_count": 10,
   "id": "8c55e28b",
   "metadata": {},
   "outputs": [
    {
     "name": "stdout",
     "output_type": "stream",
     "text": [
      "    *    \n",
      "   ***   \n",
      "  *****  \n",
      " ******* \n",
      "*********\n",
      " ******* \n",
      "  *****  \n",
      "   ***   \n",
      "    *    \n"
     ]
    }
   ],
   "source": [
    "print(\"    *    \")\n",
    "print(\"   ***   \")\n",
    "print(\"  *****  \")\n",
    "print(\" ******* \")\n",
    "print(\"*********\")\n",
    "print(\" ******* \")\n",
    "print(\"  *****  \")\n",
    "print(\"   ***   \")\n",
    "print(\"    *    \")\n"
   ]
  },
  {
   "cell_type": "code",
   "execution_count": 33,
   "id": "d146e9ae",
   "metadata": {},
   "outputs": [
    {
     "name": "stdout",
     "output_type": "stream",
     "text": [
      "    *\n",
      "   ***\n",
      "  *****\n",
      " *******\n",
      "*********\n",
      " *******\n",
      "  *****\n",
      "   ***\n",
      "    *\n"
     ]
    }
   ],
   "source": [
    "print(\"%5s\"%(\"*\"))\n",
    "print(\"%6s\"%(\"***\"))\n",
    "print(\"%7s\"%(\"*****\"))\n",
    "print(\"%8s\"%(\"*******\"))\n",
    "print(\"%s\"%(\"*********\"))\n",
    "print(\"%8s\"%(\"*******\"))\n",
    "print(\"%7s\"%(\"*****\"))\n",
    "print(\"%6s\"%(\"***\"))\n",
    "print(\"%5s\"%(\"*\"))\n"
   ]
  },
  {
   "cell_type": "code",
   "execution_count": 34,
   "id": "af2dd9ef",
   "metadata": {},
   "outputs": [
    {
     "name": "stdout",
     "output_type": "stream",
     "text": [
      "*********\n",
      " *******\n",
      "  *****\n",
      "   ***\n",
      "    *\n",
      "   ***\n",
      "  *****\n",
      " *******\n",
      "*********\n"
     ]
    }
   ],
   "source": [
    "print(\"%s\"%(\"*********\"))\n",
    "print(\"%8s\"%(\"*******\"))\n",
    "print(\"%7s\"%(\"*****\"))\n",
    "print(\"%6s\"%(\"***\"))\n",
    "print(\"%5s\"%(\"*\"))\n",
    "print(\"%6s\"%(\"***\"))\n",
    "print(\"%7s\"%(\"*****\"))\n",
    "print(\"%8s\"%(\"*******\"))\n",
    "print(\"%s\"%(\"*********\"))"
   ]
  },
  {
   "cell_type": "code",
   "execution_count": 35,
   "id": "a502596e",
   "metadata": {},
   "outputs": [
    {
     "name": "stdout",
     "output_type": "stream",
     "text": [
      "<class 'str'>\n"
     ]
    }
   ],
   "source": [
    "a = \"100\"\n",
    "print(type(a))"
   ]
  },
  {
   "cell_type": "code",
   "execution_count": 37,
   "id": "300a76ea",
   "metadata": {},
   "outputs": [
    {
     "name": "stdout",
     "output_type": "stream",
     "text": [
      "5\n",
      "<class 'str'>\n"
     ]
    }
   ],
   "source": [
    "a = input()\n",
    "print(type(a))"
   ]
  },
  {
   "cell_type": "code",
   "execution_count": 38,
   "id": "81130419",
   "metadata": {},
   "outputs": [
    {
     "data": {
      "text/plain": [
       "'0b10001110010101001001'"
      ]
     },
     "execution_count": 38,
     "metadata": {},
     "output_type": "execute_result"
    }
   ],
   "source": [
    "bin(582985)"
   ]
  },
  {
   "cell_type": "code",
   "execution_count": 39,
   "id": "b6225426",
   "metadata": {},
   "outputs": [
    {
     "data": {
      "text/plain": [
       "'0o10'"
      ]
     },
     "execution_count": 39,
     "metadata": {},
     "output_type": "execute_result"
    }
   ],
   "source": [
    "oct(8)"
   ]
  },
  {
   "cell_type": "code",
   "execution_count": 51,
   "id": "30c485c0",
   "metadata": {},
   "outputs": [
    {
     "name": "stdout",
     "output_type": "stream",
     "text": [
      "너의 진수는?8\n",
      "그 숫자는?47\n",
      "16진수 =  0b100111\n",
      "10진수 =  39\n",
      "8진수 =  0o47\n",
      "2진수 = 0x27\n"
     ]
    }
   ],
   "source": [
    "sel = int(input(\"너의 진수는?\"))\n",
    "num = input(\"그 숫자는?\")\n",
    "\n",
    "num10 = int(num,sel)\n",
    "'''\n",
    "or\n",
    "if sel == 16 :\n",
    "          num10 = int(num,16)\n",
    "if sel == 10 :\n",
    "          num10 = int(num,10)\n",
    "if sel == 8 :\n",
    "          num10 = int(num,8)\n",
    "if sel == 2 :\n",
    "          num10 = int(num, 2)\n",
    "'''\n",
    "print(\"2\n",
    "      진수 = \", bin(num10))\n",
    "print(\"10진수 = \", num10)\n",
    "print(\"8진수 = \", oct(num10))\n",
    "print(\"16진수 =\", hex(num10))"
   ]
  },
  {
   "cell_type": "code",
   "execution_count": 57,
   "id": "fd2f4346",
   "metadata": {},
   "outputs": [
    {
     "name": "stdout",
     "output_type": "stream",
     "text": [
      "1.6935087808430286e-05\n"
     ]
    }
   ],
   "source": [
    "a = 1/(3**10)\n",
    "print (a)"
   ]
  },
  {
   "cell_type": "code",
   "execution_count": null,
   "id": "e9ec0e3f",
   "metadata": {},
   "outputs": [],
   "source": [
    "#전역 프로토콜 작성 방법\n"
   ]
  },
  {
   "cell_type": "code",
   "execution_count": null,
   "id": "afa3b934",
   "metadata": {},
   "outputs": [],
   "source": []
  }
 ],
 "metadata": {
  "kernelspec": {
   "display_name": "Python 3",
   "language": "python",
   "name": "python3"
  },
  "language_info": {
   "codemirror_mode": {
    "name": "ipython",
    "version": 3
   },
   "file_extension": ".py",
   "mimetype": "text/x-python",
   "name": "python",
   "nbconvert_exporter": "python",
   "pygments_lexer": "ipython3",
   "version": "3.8.8"
  }
 },
 "nbformat": 4,
 "nbformat_minor": 5
}
