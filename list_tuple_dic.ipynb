{
 "cells": [
  {
   "cell_type": "code",
   "execution_count": 2,
   "id": "25a7eb98",
   "metadata": {},
   "outputs": [],
   "source": [
    "A=['aa','bb','cc','dd','ee','ff','ge','gh','xe']\n",
    "#다른곳은 리스트가 없다. 대신 Array 가 존재. 차이점은 리스트는 어떤 형태도 들어가지만 (리스트 안에 리스트) \n",
    "#어레이는 동일한 형태만 하나로 가능 (숫자는 숫자끼리, 문자는 문자끼리)"
   ]
  },
  {
   "cell_type": "code",
   "execution_count": 148,
   "id": "66b53331",
   "metadata": {},
   "outputs": [
    {
     "name": "stdout",
     "output_type": "stream",
     "text": [
      "1\n",
      "2\n",
      "2\n",
      "5\n",
      "4\n",
      "5\n",
      "1\n",
      "2\n",
      "12\n"
     ]
    }
   ],
   "source": [
    "a = int(input())\n",
    "b = int(input())\n",
    "c = int(input())\n",
    "\n",
    "result = a+b+c\n",
    "print(result)\n",
    "#같은거 반복문 사용\n",
    "result = 0\n",
    "for i in range (4):\n",
    "    a = int(input())\n",
    "    result += a\n",
    "print(result)\n",
    "#반복문 사용시 이전 기록이 삭제됨 (a 값이 계속해서 대체되기 때문)\n"
   ]
  },
  {
   "cell_type": "code",
   "execution_count": 8,
   "id": "27a26bed",
   "metadata": {},
   "outputs": [
    {
     "name": "stdout",
     "output_type": "stream",
     "text": [
      "1\n",
      "2\n",
      "[1, 2, 0, 0]\n"
     ]
    }
   ],
   "source": [
    "A = [0,0,0,0]\n",
    "A[0] = int(input())\n",
    "A[1] = int(input())\n",
    "print(A)"
   ]
  },
  {
   "cell_type": "code",
   "execution_count": 18,
   "id": "0d613fd9",
   "metadata": {},
   "outputs": [
    {
     "name": "stdout",
     "output_type": "stream",
     "text": [
      "숫자 : 1\n",
      "숫자 : 2\n",
      "숫자 : 3\n",
      "숫자 : 4\n",
      "[1, 2, 3, 4]\n",
      "10\n"
     ]
    }
   ],
   "source": [
    "A = [0,0,0,0]\n",
    "for i in range (4):\n",
    "     A[i] = int(input(\"숫자 : \"))\n",
    "print(A)\n",
    "result = sum(A)\n",
    "print(result)"
   ]
  },
  {
   "cell_type": "code",
   "execution_count": 19,
   "id": "e97a198b",
   "metadata": {},
   "outputs": [
    {
     "name": "stdout",
     "output_type": "stream",
     "text": [
      "[1, 2, 3, 4, 'c']\n"
     ]
    }
   ],
   "source": [
    "A.append('c') # 리스트 제일 뒤에 추가\n",
    "print (A)"
   ]
  },
  {
   "cell_type": "code",
   "execution_count": 20,
   "id": "6576d5ca",
   "metadata": {},
   "outputs": [
    {
     "name": "stdout",
     "output_type": "stream",
     "text": [
      "반복횟수 :3\n",
      "2\n",
      "3\n",
      "4\n",
      "['2', '3', '4']\n"
     ]
    }
   ],
   "source": [
    "#반복해서 추가하는 법\n",
    "A =[]\n",
    "x = int(input('반복횟수 :'))\n",
    "\n",
    "for i in range(x):\n",
    "    A.append(input('넣을 게'))\n",
    "    \n",
    "print(A)"
   ]
  },
  {
   "cell_type": "code",
   "execution_count": 6,
   "id": "ee220f46",
   "metadata": {
    "scrolled": true
   },
   "outputs": [
    {
     "name": "stdout",
     "output_type": "stream",
     "text": [
      "숫자200\n",
      "[2, 4, 6, 8, 10, 12, 14, 16, 18, 20, 22, 24, 26, 28, 30, 32, 34, 36, 38, 40, 42, 44, 46, 48, 50, 52, 54, 56, 58, 60, 62, 64, 66, 68, 70, 72, 74, 76, 78, 80, 82, 84, 86, 88, 90, 92, 94, 96, 98, 100, 102, 104, 106, 108, 110, 112, 114, 116, 118, 120, 122, 124, 126, 128, 130, 132, 134, 136, 138, 140, 142, 144, 146, 148, 150, 152, 154, 156, 158, 160, 162, 164, 166, 168, 170, 172, 174, 176, 178, 180, 182, 184, 186, 188, 190, 192, 194, 196, 198, 200]\n"
     ]
    }
   ],
   "source": [
    "A= []\n",
    "i = 0\n",
    "num = int(input('숫자'))\n",
    "while True:\n",
    "    i += 2\n",
    "    A.append(i)\n",
    "    if i >= num:\n",
    "        break\n",
    "print(A)"
   ]
  },
  {
   "cell_type": "code",
   "execution_count": 5,
   "id": "8b677aec",
   "metadata": {},
   "outputs": [
    {
     "name": "stdout",
     "output_type": "stream",
     "text": [
      "숫자100\n",
      "[200, 198, 196, 194, 192, 190, 188, 186, 184, 182, 180, 178, 176, 174, 172, 170, 168, 166, 164, 162, 160, 158, 156, 154, 152, 150, 148, 146, 144, 142, 140, 138, 136, 134, 132, 130, 128, 126, 124, 122, 120, 118, 116, 114, 112, 110, 108, 106, 104, 102, 100, 98, 96, 94, 92, 90, 88, 86, 84, 82, 80, 78, 76, 74, 72, 70, 68, 66, 64, 62, 60, 58, 56, 54, 52, 50, 48, 46, 44, 42, 40, 38, 36, 34, 32, 30, 28, 26, 24, 22, 20, 18, 16, 14, 12, 10, 8, 6, 4, 2]\n"
     ]
    }
   ],
   "source": [
    "B = []\n",
    "i = 0\n",
    "num = int(input('숫자'))\n",
    "for i in range (num):\n",
    "    B.append (num*2 - i*2)\n",
    "\n",
    "print(B)"
   ]
  },
  {
   "cell_type": "code",
   "execution_count": 14,
   "id": "ec7db247",
   "metadata": {},
   "outputs": [
    {
     "name": "stdout",
     "output_type": "stream",
     "text": [
      "None\n",
      "None\n"
     ]
    }
   ],
   "source": [
    "## 리스트 순서는 음수도 된다. 제일 오른쪽 숫자는 -1 이다. [0:3]은 리스트의 범위 지정하는 방식(0,1,2 대상들을 지칭 (3포함 X))\n",
    "#값 변경시 그냥 지정해서 바꿔도 됨\n",
    "#aa= []는 빈 리스트 aa= None은 변수 지정은 됬으나 값이 없는 상태, del(aa)는 삭제이므로 오류가 남\n"
   ]
  },
  {
   "cell_type": "code",
   "execution_count": 20,
   "id": "4e488f92",
   "metadata": {},
   "outputs": [
    {
     "name": "stdout",
     "output_type": "stream",
     "text": [
      "[1, 3, 3, 5, 5, 8, 9, 67]\n",
      "[67, 9, 8, 5, 5, 3, 3, 1]\n"
     ]
    }
   ],
   "source": [
    "a=[1,3,5,67,8,9,5,3]\n",
    "a.sort()\n",
    "print(a)\n",
    "a.reverse()\n",
    "print(a)"
   ]
  },
  {
   "cell_type": "code",
   "execution_count": 21,
   "id": "ac28a596",
   "metadata": {},
   "outputs": [
    {
     "data": {
      "text/plain": [
       "8"
      ]
     },
     "execution_count": 21,
     "metadata": {},
     "output_type": "execute_result"
    }
   ],
   "source": [
    "len(a)"
   ]
  },
  {
   "cell_type": "code",
   "execution_count": 25,
   "id": "82ce4198",
   "metadata": {},
   "outputs": [
    {
     "name": "stdout",
     "output_type": "stream",
     "text": [
      "[[1, 2], [3, 4], [4, 5]]\n",
      "1\n",
      "[3, 4]\n"
     ]
    }
   ],
   "source": [
    "# 이차원 리스트 = 리스트 안에 리스트\n",
    "A = [[1,2],\n",
    "     [3,4],\n",
    "     [4,5]]\n",
    "print(A)\n",
    "print(A[0][0])\n",
    "print(A[1])"
   ]
  },
  {
   "cell_type": "code",
   "execution_count": 33,
   "id": "2e1fc310",
   "metadata": {},
   "outputs": [
    {
     "name": "stdout",
     "output_type": "stream",
     "text": [
      "[[1, 2, 3], [4, 5, 6], [7, 8, 9]]\n"
     ]
    },
    {
     "data": {
      "text/plain": [
       "' for i in range (3): ; for j in range (3): ; a[i][j]= 3*i+j+1'"
      ]
     },
     "execution_count": 33,
     "metadata": {},
     "output_type": "execute_result"
    }
   ],
   "source": [
    "A = []\n",
    "B= []\n",
    "for i in range(3):\n",
    "    A.append([])\n",
    "    for j in range(3):\n",
    "        A[i].append(3*i+j+1)\n",
    "        \n",
    "print(A)\n",
    "''' for i in range (3): ; for j in range (3): ; a[i][j]= 3*i+j+1'''"
   ]
  },
  {
   "cell_type": "code",
   "execution_count": 40,
   "id": "9f9dd54a",
   "metadata": {},
   "outputs": [
    {
     "name": "stdout",
     "output_type": "stream",
     "text": [
      "[[1], [1, 2], [1, 2, 3]]\n"
     ]
    }
   ],
   "source": [
    "A=[]\n",
    "for i in range (3):\n",
    "    A.append([])\n",
    "    for j in range(i+1):\n",
    "        A[i].append(j+1)\n",
    "print(A)"
   ]
  },
  {
   "cell_type": "code",
   "execution_count": 5,
   "id": "4b50e2e4",
   "metadata": {
    "scrolled": true
   },
   "outputs": [
    {
     "name": "stdout",
     "output_type": "stream",
     "text": [
      "[[0.49323892868353914, 0.5279808375684014, 0.2865561485235326, -10, -143, 'arrow']]\n",
      "[[0.49323892868353914, 0.5279808375684014, 0.2865561485235326, -10, -143, 'arrow'], [0.23569617832270007, 0.4091504097724816, 0.11894522324627832, -14, -78, 'arrow']]\n",
      "[[0.49323892868353914, 0.5279808375684014, 0.2865561485235326, -10, -143, 'arrow'], [0.23569617832270007, 0.4091504097724816, 0.11894522324627832, -14, -78, 'arrow'], [0.8028773396955088, 0.569928662395621, 0.3246522162725687, -8, 107, 'turtle']]\n",
      "[[0.49323892868353914, 0.5279808375684014, 0.2865561485235326, -10, -143, 'arrow'], [0.23569617832270007, 0.4091504097724816, 0.11894522324627832, -14, -78, 'arrow'], [0.8028773396955088, 0.569928662395621, 0.3246522162725687, -8, 107, 'turtle'], [0.8818037658940862, 0.07711257079581013, 0.08737491875943015, -63, -93, 'square']]\n",
      "[[0.49323892868353914, 0.5279808375684014, 0.2865561485235326, -10, -143, 'arrow'], [0.23569617832270007, 0.4091504097724816, 0.11894522324627832, -14, -78, 'arrow'], [0.8028773396955088, 0.569928662395621, 0.3246522162725687, -8, 107, 'turtle'], [0.8818037658940862, 0.07711257079581013, 0.08737491875943015, -63, -93, 'square'], [0.20706921626577945, 0.8173326769180679, 0.142035408691351, -45, 50, 'turtle']]\n",
      "[[0.49323892868353914, 0.5279808375684014, 0.2865561485235326, -10, -143, 'arrow'], [0.23569617832270007, 0.4091504097724816, 0.11894522324627832, -14, -78, 'arrow'], [0.8028773396955088, 0.569928662395621, 0.3246522162725687, -8, 107, 'turtle'], [0.8818037658940862, 0.07711257079581013, 0.08737491875943015, -63, -93, 'square'], [0.20706921626577945, 0.8173326769180679, 0.142035408691351, -45, 50, 'turtle'], [0.25801638584009023, 0.7666026804063106, 0.6731211831091175, -96, -96, 'classic']]\n",
      "[[0.49323892868353914, 0.5279808375684014, 0.2865561485235326, -10, -143, 'arrow'], [0.23569617832270007, 0.4091504097724816, 0.11894522324627832, -14, -78, 'arrow'], [0.8028773396955088, 0.569928662395621, 0.3246522162725687, -8, 107, 'turtle'], [0.8818037658940862, 0.07711257079581013, 0.08737491875943015, -63, -93, 'square'], [0.20706921626577945, 0.8173326769180679, 0.142035408691351, -45, 50, 'turtle'], [0.25801638584009023, 0.7666026804063106, 0.6731211831091175, -96, -96, 'classic'], [0.44281564419215746, 0.29647286452608, 0.6920167725882694, 15, -149, 'arrow']]\n",
      "[[0.49323892868353914, 0.5279808375684014, 0.2865561485235326, -10, -143, 'arrow'], [0.23569617832270007, 0.4091504097724816, 0.11894522324627832, -14, -78, 'arrow'], [0.8028773396955088, 0.569928662395621, 0.3246522162725687, -8, 107, 'turtle'], [0.8818037658940862, 0.07711257079581013, 0.08737491875943015, -63, -93, 'square'], [0.20706921626577945, 0.8173326769180679, 0.142035408691351, -45, 50, 'turtle'], [0.25801638584009023, 0.7666026804063106, 0.6731211831091175, -96, -96, 'classic'], [0.44281564419215746, 0.29647286452608, 0.6920167725882694, 15, -149, 'arrow'], [0.767124248953367, 0.09512446447797507, 0.06671107883703298, 99, -29, 'square']]\n",
      "[[0.49323892868353914, 0.5279808375684014, 0.2865561485235326, -10, -143, 'arrow'], [0.23569617832270007, 0.4091504097724816, 0.11894522324627832, -14, -78, 'arrow'], [0.8028773396955088, 0.569928662395621, 0.3246522162725687, -8, 107, 'turtle'], [0.8818037658940862, 0.07711257079581013, 0.08737491875943015, -63, -93, 'square'], [0.20706921626577945, 0.8173326769180679, 0.142035408691351, -45, 50, 'turtle'], [0.25801638584009023, 0.7666026804063106, 0.6731211831091175, -96, -96, 'classic'], [0.44281564419215746, 0.29647286452608, 0.6920167725882694, 15, -149, 'arrow'], [0.767124248953367, 0.09512446447797507, 0.06671107883703298, 99, -29, 'square'], [0.7948885352748392, 0.6520059517695538, 0.7596825631907896, -90, -58, 'classic']]\n",
      "[[0.49323892868353914, 0.5279808375684014, 0.2865561485235326, -10, -143, 'arrow'], [0.23569617832270007, 0.4091504097724816, 0.11894522324627832, -14, -78, 'arrow'], [0.8028773396955088, 0.569928662395621, 0.3246522162725687, -8, 107, 'turtle'], [0.8818037658940862, 0.07711257079581013, 0.08737491875943015, -63, -93, 'square'], [0.20706921626577945, 0.8173326769180679, 0.142035408691351, -45, 50, 'turtle'], [0.25801638584009023, 0.7666026804063106, 0.6731211831091175, -96, -96, 'classic'], [0.44281564419215746, 0.29647286452608, 0.6920167725882694, 15, -149, 'arrow'], [0.767124248953367, 0.09512446447797507, 0.06671107883703298, 99, -29, 'square'], [0.7948885352748392, 0.6520059517695538, 0.7596825631907896, -90, -58, 'classic'], [0.13723115331454971, 0.764386708657813, 0.11907730782626491, 39, 147, 'turtle']]\n"
     ]
    }
   ],
   "source": [
    "import turtle\n",
    "import random\n",
    "\n",
    "turtle_list = []\n",
    "swidth = 300\n",
    "sheight = 300\n",
    "a = turtle.getshapes()\n",
    "turtle.setup(width = swidth +50, height = sheight +50)\n",
    "turtle.screensize(swidth, sheight)\n",
    "\n",
    "for i in range(10) :\n",
    "    k = random.randrange(0,7)\n",
    "    x= random.randrange(-(swidth/2),(swidth/2),1)\n",
    "    y = random.randrange(-(swidth/2),(swidth/2),1)\n",
    "    r,g,b = random.random(),random.random(),random.random()\n",
    "    turtle_list.append([r,g,b,x,y,a[k]])\n",
    "    print(turtle_list)\n",
    "\n",
    "for j in range(10):\n",
    "    myTurtle = turtle.Turtle()\n",
    "    myTurtle.shape(turtle_list[j][5])\n",
    "    myTurtle.color(turtle_list[j][0],turtle_list[j][1],turtle_list[j][2])\n",
    "    myTurtle.pencolor(turtle_list[j][0],turtle_list[j][1],turtle_list[j][2])\n",
    "    myTurtle.goto(turtle_list[j][3],turtle_list[j][4])\n",
    "turtle.done()\n",
    "    \n",
    "\n"
   ]
  },
  {
   "cell_type": "code",
   "execution_count": 7,
   "id": "bb0af130",
   "metadata": {},
   "outputs": [
    {
     "name": "stdout",
     "output_type": "stream",
     "text": [
      "<class 'tuple'>\n",
      "<class 'list'>\n",
      "(10, 11, 22)\n"
     ]
    }
   ],
   "source": [
    "#튜플 () (괄호 생략 가능)\n",
    "#값을 수정할 수 없는 존재, 읽기 전용 삭제시 전채 삭제만 가능\n",
    "#단일값은 반드시 뒤에 쉼표 하나더 붙여주기 / 외에는 전부 리스트랑 동일\n",
    "#튜플 리스트 변환\n",
    "T = (10,11)\n",
    "print(type(T))\n",
    "J = list(T)\n",
    "print(type(J))\n",
    "J.append(22)\n",
    "T = tuple(J)\n",
    "print(T)"
   ]
  },
  {
   "cell_type": "code",
   "execution_count": 21,
   "id": "dc345e29",
   "metadata": {},
   "outputs": [
    {
     "name": "stdout",
     "output_type": "stream",
     "text": [
      "{'이름': '트와이스', '구성인원': 9, '데뷔': '서바이벌 식스틴', '대표곡': 'SIGNAL'}\n",
      "이름 = 트와이스\n",
      "구성인원 = 9\n",
      "데뷔 = 서바이벌 식스틴\n",
      "대표곡 = SIGNAL\n"
     ]
    }
   ],
   "source": [
    "#dictionary {} 쌍의 데이터 (key : value)\n",
    "#따라서 검색시 key값으로 검색,\n",
    "twice = {'이름':'트와이스','구성인원': 9,'데뷔':'서바이벌 식스틴','대표곡':'SIGNAL'}\n",
    "print(twice)\n",
    "key_list=list(twice.keys())\n",
    "\n",
    "for i in key_list:\n",
    "    print(\"%s = %s\"%(i, twice[i]))"
   ]
  },
  {
   "cell_type": "code",
   "execution_count": 38,
   "id": "61fbf883",
   "metadata": {},
   "outputs": [
    {
     "name": "stdout",
     "output_type": "stream",
     "text": [
      "무슨음식?사\n",
      "무엇과 어울릴까요?ㅁ루\n",
      "{'떡볶이': '오뎅', '짜장면': '단무지', '라면': '김치', '피자': '피클', '맥주': '땅콩', '치킨': '치킨무', '삼겹살': '상추', '사': 'ㅁ루'}\n"
     ]
    }
   ],
   "source": [
    "match = {'떡볶이':'오뎅','짜장면':'단무지','라면':'김치','피자':'피클','맥주':'땅콩','치킨':'치킨무','삼겹살':'상추'}\n",
    "x = input('무슨음식?')\n",
    "match_keys=list(match.keys())\n",
    "if x in match:\n",
    "    print( \"%s 음식과 어울립니다\" %match.get(x))\n",
    "else : \n",
    "    new = input(\"무엇과 어울릴까요?\")\n",
    "    match[x] = new\n",
    "print(match)"
   ]
  },
  {
   "cell_type": "code",
   "execution_count": 45,
   "id": "da668acb",
   "metadata": {},
   "outputs": [
    {
     "name": "stdout",
     "output_type": "stream",
     "text": [
      "글듕귁에사맛디아니할싀\n",
      "듕!귁!에!사!맛!디!아!니!할!싀!"
     ]
    }
   ],
   "source": [
    "#문자열은 기본적으로 리스트와 유사\n",
    "\n",
    "ex = input('글')\n",
    "for i in ex:\n",
    "    print(\"%s!\" %i, end = (''))\n",
    "# for i in (0,len(ex)): ; print(\"%s!\" %(ex[i]))"
   ]
  },
  {
   "cell_type": "code",
   "execution_count": 56,
   "id": "38300c8b",
   "metadata": {},
   "outputs": [
    {
     "name": "stdout",
     "output_type": "stream",
     "text": [
      "글이거구나\n",
      "나 구 거 이 "
     ]
    }
   ],
   "source": [
    "ex = input('글')\n",
    "for i in range(len(ex),0,-1):\n",
    "    print('%s' %(ex[i-1]), end = (' '))"
   ]
  },
  {
   "cell_type": "code",
   "execution_count": 66,
   "id": "b043e960",
   "metadata": {},
   "outputs": [
    {
     "name": "stdout",
     "output_type": "stream",
     "text": [
      "문자를 넣어주세요(너의 이름은)\n",
      "(너의 이름은)\n"
     ]
    }
   ],
   "source": [
    "ss= input('문자를 넣어주세요')\n",
    "\n",
    "if ss.startswith('(') == True :\n",
    "    if ss.endswith(')') == True : \n",
    "        ss = ss\n",
    "    else : ss = ss + \")\"\n",
    "else :\n",
    "    ss = \"(\" + ss + \")\"\n",
    "print(ss)"
   ]
  },
  {
   "cell_type": "code",
   "execution_count": 75,
   "id": "a52bd3ab",
   "metadata": {},
   "outputs": [
    {
     "name": "stdout",
     "output_type": "stream",
     "text": [
      "문장을 넣으시요 :  ㅇㅇ이제  될껍니다   \n",
      "ㅇㅇ이제될껍니다\n"
     ]
    }
   ],
   "source": [
    "ss = input('문장을 넣으시요 : ')\n",
    "new = ''\n",
    "for i in range(0,len(ss)):\n",
    "    if ss[i] != ' ':\n",
    "        new += ss[i]\n",
    "print(new)"
   ]
  },
  {
   "cell_type": "code",
   "execution_count": 83,
   "id": "162f5687",
   "metadata": {},
   "outputs": [
    {
     "name": "stdout",
     "output_type": "stream",
     "text": [
      "a를 적어라as fdfa s\n",
      "@s fdf@ s\n",
      "문장을 적어라alskdjf asldkfjalsjdf \n",
      "alskdjfasldkfjalsjdf\n"
     ]
    }
   ],
   "source": [
    "ss = input(\"a를 적어라\")\n",
    "kk= ss.replace('a','@')\n",
    "print(kk)\n",
    "ss = input('문장을 적어라')\n",
    "jj = ss.replace(' ','')\n",
    "print(jj)"
   ]
  },
  {
   "cell_type": "code",
   "execution_count": 88,
   "id": "96121c64",
   "metadata": {},
   "outputs": [
    {
     "name": "stdout",
     "output_type": "stream",
     "text": [
      "핸드폰 번호를 적어주세요010-9823-9375\n",
      "공일공-구팔이삼-구삼칠오\n"
     ]
    }
   ],
   "source": [
    "num_korea={'0':'공','1':'일','2':'이','3':'삼','4':'사',\"5\":'오','6':'육','7':'칠','8':'팔','9':'구'}\n",
    "\n",
    "num = input('핸드폰 번호를 적어주세요')\n",
    "num = num.replace('0',num_korea['0'])\n",
    "num = num.replace('1',num_korea['1'])\n",
    "num = num.replace('2',num_korea['2'])\n",
    "num = num.replace('3',num_korea['3'])\n",
    "num = num.replace('4',num_korea['4'])\n",
    "num = num.replace('5',num_korea['5'])\n",
    "num = num.replace('6',num_korea['6'])\n",
    "num = num.replace('7',num_korea['7'])\n",
    "num = num.replace('8',num_korea['8'])\n",
    "num = num.replace('9',num_korea['9'])\n",
    "print(num)"
   ]
  },
  {
   "cell_type": "code",
   "execution_count": 99,
   "id": "e491716b",
   "metadata": {},
   "outputs": [
    {
     "name": "stdout",
     "output_type": "stream",
     "text": [
      "0000/00/00 형식으로 입력2222/22/22\n",
      "2232년 22월 22일 은 10년 뒤입니다\n"
     ]
    }
   ],
   "source": [
    "date = input('0000/00/00 형식으로 입력')\n",
    "\n",
    "date_new = date.split('/')\n",
    "\n",
    "print('%s년 %s월 %s일 은 10년 뒤입니다' %(str(int(date_new[0])+10), date_new[1], date_new[2]))"
   ]
  },
  {
   "cell_type": "code",
   "execution_count": 119,
   "id": "ff1610ba",
   "metadata": {},
   "outputs": [
    {
     "name": "stdout",
     "output_type": "stream",
     "text": [
      "아무거나jfjdks\n",
      "문자만\n"
     ]
    }
   ],
   "source": [
    "words = input('아무거나')\n",
    "\n",
    "if words.isdigit() :\n",
    "        print('숫자만')\n",
    "elif words.isalpha():\n",
    "        print('문자만')\n",
    "elif words.isalnum () :\n",
    "        print('짬뽕')\n",
    "else :\n",
    "        print('오류인듯')"
   ]
  },
  {
   "cell_type": "code",
   "execution_count": 152,
   "id": "2cc619ae",
   "metadata": {},
   "outputs": [],
   "source": [
    "import turtle\n",
    "import random\n",
    "from tkinter.simpledialog import *\n",
    "\n",
    "inStr = ''\n",
    "swidth, sheight = 300, 300\n",
    "tX,tY,txtSize = [0]*3\n",
    "\n",
    "turtle_list=[]\n",
    "turtle.penup()\n",
    "inStr = askstring('문자열 입력','거북이 쓸 문자열을 입력')\n",
    "for j in inStr:\n",
    "    x= random.randrange(-(swidth/2),(swidth/2),1)\n",
    "    y = random.randrange(-(swidth/2),(swidth/2),1)\n",
    "    r,g,b = random.random(),random.random(),random.random()\n",
    "    turtle.goto(x,y)\n",
    "    turtle.pencolor(r,g,b)\n",
    "    txtsize = random.randrange(0,40)\n",
    "    turtle.write(j,font=('맑은고딕',txtsize,'bold'))                    \n",
    "\n",
    "turtle.done()\n"
   ]
  },
  {
   "cell_type": "code",
   "execution_count": null,
   "id": "894d8bcc",
   "metadata": {},
   "outputs": [],
   "source": []
  }
 ],
 "metadata": {
  "kernelspec": {
   "display_name": "Python 3",
   "language": "python",
   "name": "python3"
  },
  "language_info": {
   "codemirror_mode": {
    "name": "ipython",
    "version": 3
   },
   "file_extension": ".py",
   "mimetype": "text/x-python",
   "name": "python",
   "nbconvert_exporter": "python",
   "pygments_lexer": "ipython3",
   "version": "3.8.8"
  }
 },
 "nbformat": 4,
 "nbformat_minor": 5
}
