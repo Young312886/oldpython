{
 "cells": [
  {
   "cell_type": "markdown",
   "id": "10f87add",
   "metadata": {},
   "source": [
    "alsk\n",
    "========\n",
    "tat\n",
    "--------\n",
    "# af\n",
    "## asdf\n",
    "### asdf\n",
    "###### asdf"
   ]
  },
  {
   "cell_type": "markdown",
   "id": "e59d28d4",
   "metadata": {},
   "source": [
    ">> asdf\n",
    "\n",
    "\n",
    "1. asf\n",
    "2. asdf\n",
    "3. asdfewe\n"
   ]
  },
  {
   "cell_type": "markdown",
   "id": "d7d05b42",
   "metadata": {},
   "source": [
    "- qkf\n",
    "    - adsf\n",
    "        - wein"
   ]
  },
  {
   "cell_type": "code",
   "execution_count": 1,
   "id": "28a2a2aa",
   "metadata": {},
   "outputs": [
    {
     "name": "stdout",
     "output_type": "stream",
     "text": [
      "mmmm\n"
     ]
    }
   ],
   "source": [
    "print (\"mmmm\")\n",
    "a = 1"
   ]
  },
  {
   "cell_type": "code",
   "execution_count": 2,
   "id": "35c6d76d",
   "metadata": {},
   "outputs": [
    {
     "name": "stdout",
     "output_type": "stream",
     "text": [
      "1\n"
     ]
    }
   ],
   "source": [
    "print(a)"
   ]
  },
  {
   "cell_type": "code",
   "execution_count": 3,
   "id": "cf395fc7",
   "metadata": {},
   "outputs": [],
   "source": [
    "# 무한 코드 탈출 : 위의 네모 or 재시작"
   ]
  },
  {
   "cell_type": "code",
   "execution_count": 4,
   "id": "44e42573",
   "metadata": {},
   "outputs": [
    {
     "name": "stdout",
     "output_type": "stream",
     "text": [
      "64.0\n"
     ]
    }
   ],
   "source": [
    "ftemp = 99.0\n",
    "ctemp = (ftemp-32.0) - 3\n",
    "print (ctemp)"
   ]
  },
  {
   "cell_type": "code",
   "execution_count": 5,
   "id": "02657bf3",
   "metadata": {},
   "outputs": [],
   "source": [
    "a = 100\n",
    "b = 50\n",
    "f = 300\n",
    "c = f\n",
    "d = a + b\n",
    "e = a+b+c+d\n"
   ]
  },
  {
   "cell_type": "code",
   "execution_count": 6,
   "id": "71caeea7",
   "metadata": {},
   "outputs": [
    {
     "name": "stdout",
     "output_type": "stream",
     "text": [
      "150\n",
      "a+b= 150\n",
      "100 + 50 = 150\n",
      "100 - 50 = 50\n",
      "100 / 50 = 2.0\n",
      "100 X 50 = 5000\n"
     ]
    }
   ],
   "source": [
    "result = a+b\n",
    "print (result)\n",
    "print (\"a+b=\", result)\n",
    "result = a+b\n",
    "print (a, \"+\", b, \"=\" , result)\n",
    "result = a-b\n",
    "print (a, \"-\", b, \"=\" , result)\n",
    "result = a/b\n",
    "print (a, \"/\", b, \"=\" , result)\n",
    "result = a*b\n",
    "print (a, \"X\", b, \"=\" , result)\n"
   ]
  },
  {
   "cell_type": "code",
   "execution_count": 13,
   "id": "c22b60fb",
   "metadata": {},
   "outputs": [
    {
     "name": "stdout",
     "output_type": "stream",
     "text": [
      "10\n",
      "3\n",
      "10 + 3 = 13\n",
      "10 - 3 = 7\n",
      "10 / 3 = 3.3333333333333335\n",
      "10 X 3 = 30\n",
      "10 // 3 = 3\n",
      "10 % 3 = 1\n",
      "10 ** 3 = 1000\n"
     ]
    }
   ],
   "source": [
    "a = int(input())\n",
    "b = int(input())\n",
    "result = a+b\n",
    "print (a, \"+\", b, \"=\" , result)\n",
    "result = a - b\n",
    "print (a, \"-\", b, \"=\" , result)\n",
    "result = a/b\n",
    "print (a, \"/\", b, \"=\" , result)\n",
    "result = a*b\n",
    "print (a, \"X\", b, \"=\" , result)\n",
    "result = a//b\n",
    "print (a, \"//\", b, \"=\" , result)\n",
    "result = a%b\n",
    "print (a, \"%\", b, \"=\" , result)\n",
    "result = a**b\n",
    "print (a, \"**\", b, \"=\", result)\n",
    "# ** 를 통해 제곱을 빠르게 나타낼 수 있다!!"
   ]
  },
  {
   "cell_type": "code",
   "execution_count": 38,
   "id": "e5354d28",
   "metadata": {},
   "outputs": [],
   "source": []
  },
  {
   "cell_type": "code",
   "execution_count": 39,
   "id": "6b68121d",
   "metadata": {},
   "outputs": [],
   "source": [
    "import turtle as T\n",
    "T.shape ('turtle')\n",
    "T.forward(200)\n",
    "T.right(200)\n",
    "T.forward(200)\n",
    "T.right(200)\n",
    "T.forward(200)\n",
    "T.right(200)\n",
    "T.forward(200)\n",
    "T.right(200)\n",
    "T.forward(200)\n",
    "T.right(200)\n",
    "T.forward(200)\n",
    "T.right(200)\n",
    "T.forward(200)\n",
    "T.right(200)\n",
    "T.forward(200)\n",
    "T.right(200)\n",
    "T.forward(200)\n",
    "T.right(200)\n",
    "\n",
    "\n",
    "T.done()\n"
   ]
  },
  {
   "cell_type": "code",
   "execution_count": null,
   "id": "c1123ecf",
   "metadata": {
    "scrolled": false
   },
   "outputs": [],
   "source": [
    "import turtle as T\n",
    "T.shape('turtle')\n",
    "T.forward(400)\n",
    "T.right(120)\n",
    "T.forward(200)\n",
    "T.right(60)\n",
    "T.forward(200)\n",
    "T.right(60)\n",
    "T.forward(200)\n",
    "T.right(120)\n",
    "T.forward(200)\n",
    "T.left(90)\n",
    "T.forward(300)\n",
    "T.right(120)\n",
    "T.forward(200)\n",
    "T.right(120)\n",
    "T.forward(200)\n",
    "\n",
    "\n",
    "T.done()"
   ]
  },
  {
   "cell_type": "code",
   "execution_count": null,
   "id": "7f0f7ac2",
   "metadata": {},
   "outputs": [],
   "source": []
  }
 ],
 "metadata": {
  "kernelspec": {
   "display_name": "Python 3",
   "language": "python",
   "name": "python3"
  },
  "language_info": {
   "codemirror_mode": {
    "name": "ipython",
    "version": 3
   },
   "file_extension": ".py",
   "mimetype": "text/x-python",
   "name": "python",
   "nbconvert_exporter": "python",
   "pygments_lexer": "ipython3",
   "version": "3.8.8"
  }
 },
 "nbformat": 4,
 "nbformat_minor": 5
}
