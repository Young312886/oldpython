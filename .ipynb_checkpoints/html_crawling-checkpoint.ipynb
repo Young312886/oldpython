{
 "cells": [
  {
   "cell_type": "code",
   "execution_count": 6,
   "id": "eae14a8d",
   "metadata": {},
   "outputs": [
    {
     "name": "stdout",
     "output_type": "stream",
     "text": [
      "b'<!doctype html> <html lang=\"ko\">\\r\\n<head>\\r\\n\\r\\n<meta charset=\"utf-8\">\\r\\n<meta name=\"viewport\" content=\"width=device-width,initial-scale=1.0,maximum-scale=1.0,user-scalable=no,target-densitydpi=medium-dpi,viewport-fit=cover\">\\r\\n<meta name=\"format-detection\" content=\"telephone=no,address=no,email=no\"/>\\r\\n<meta http-equiv=\"X-UA-Compatible\" content=\"IE=edge,chrome=1\">\\r\\n<meta name=\"robots\" content=\"index,follow\" />\\r\\n<meta name=\"referrer\" content=\"always\" />\\r\\n\\t<meta property=\"og:type\" content=\"website\">\\r\\n\\t<meta property=\"og:url\" content=\"https://m.post.naver.com/viewer/postView.naver?volumeNo=32158422&memberNo=11542122\">\\r\\n\\t<meta property=\"og:image\" content=\"https://post-phinf.pstatic.net/MjAyMTA4MTJfMjg5/MDAxNjI4NzUwNDQ4MzE3.TPoiEjhoQRjyOd-i-zxpxLBTJtBxmv3-eOhxtMMr87sg.Nn4kM5QHl0p5_FiIwk75Sy7SgkU74b3kLH8cnEurzDwg.JPEG/I3qlvnoyha4pEikR1GNW89MMT1e4.jpg?type=w400\">\\r\\n\\t<meta property=\"og:description\" content=\"[BY \\xec\\x8c\\x80\\xec\\x8b\\xa0] \\xec\\x95\\x88\\xeb\\x85\\x95\\xed\\x95\\x98\\xec\\x84\\xb8\\xec\\x9a\\x94, \\xec\\x97\\xac\\xeb\\x9f\\xac\\xeb\\xb6\\x84.\\xea\\xb2\\x8c\\xec\\x9e\\x84\\xec\\xb0\\x8d\\xeb\\xa8\\xb9 2\\xed\\x99\\x94\\xec\\x9e\\x85\\xeb\\x8b\\x88\\xeb\\x8b\\xa4.\\xec\\xa0\\x9c\\xeb\\xaa\\xa9 \\xea\\xb7\\xb8\\xeb\\x8c\\x80\\xeb\\xa1\\x9c \\xec\\x9a\\x94\\xec\\xa6\\x98 \\xec\\x95\\x84~\\xec\\xa3\\xbc \\xed\\x95\\xab\\xed\\x95\\x9c \\xea\\xb2\\x8c\\xec\\x9e\\x84\\xec\\x9d\\xb8 \\xeb\\xa1\\x9c\\xec\\x8a\\xa4\\xed\\x8a\\xb8\\xec\\x95\\x84\\xed\\x81\\xac\\xeb\\xa5\\xbc...\" />\\r\\n\\t<meta property=\"og:title\" content=\"\\xec\\x9a\\x94\\xec\\xa6\\x98 \\xed\\x95\\xab\\xed\\x95\\x98\\xeb\\x8b\\xa4\\xeb\\x8a\\x94 \\xeb\\xa1\\x9c\\xec\\x8a\\xa4\\xed\\x8a\\xb8\\xec\\x95\\x84\\xed\\x81\\xac\">\\r\\n\\t<meta property=\"post:sharer_text\" content=\"\\xec\\x9a\\x94\\xec\\xa6\\x98 \\xed\\x95\\xab\\xed\\x95\\x98\\xeb\\x8b\\xa4\\xeb\\x8a\\x94 \\xeb\\xa1\\x9c\\xec\\x8a\\xa4\\xed\\x8a\\xb8\\xec\\x95\\x84\\xed\\x81\\xac\\n{{_SHORT_URL_}}\\n\\xec\\xb6\\x9c\\xec\\xb2\\x98: \\xec\\x8c\\x80\\xec\\x8b\\xa0 | \\xeb\\x84\\xa4\\xec\\x9d\\xb4\\xeb\\xb2\\x84 \\xed\\x8f\\xac\\xec\\x8a\\xa4\\xed\\x8a\\xb8\" >\\r\\n    <meta property=\"og:createdate\" content=\"2021.08.17. 00:00:01\" >\\r\\n\\t<meta property=\"og:author\" content=\"\\xec\\x8c\\x80\\xec\\x8b\\xa0\">\\r\\n\\t<meta property=\"og:author_image\" content=\"https://post-phinf.pstatic.net/MjAxODA2MjZfMjUy/MDAxNTI5OTk5MjcwOTMw.x427aLnHVJxbJyYbmTrBIULc3f_mp97G5MNr1XcBWQcg.Hf8ONyrNsxRD_yFpaNWh9SGVWb0MwdY6V6IkzBNdw7Ug.JPEG/post_3365058303091367886.jpg?type=f120_120\">\\r\\n\\t\\r\\n\\t<meta property=\"nv:ticket\" content=\"post02\">\\r\\n\\t<meta property=\"nv:object_id\" content=\"32158422_11542122\">\\r\\n\\t<meta property=\"nv:like_id\" content=\"32158422_11542122\">\\r\\n\\t\\r\\n\\t<meta property=\"og:ticket\" content=\"post02\">\\r\\n\\t<meta property=\"og:object_id\" content=\"32158422_11542122\">\\r\\n\\t\\r\\n\\t<meta property=\"nv:news:volume_no\" content=\"32158422\">\\r\\n\\t<meta property=\"nv:news:title\" content=\"\\xec\\x9a\\x94\\xec\\xa6\\x98 \\xed\\x95\\xab\\xed\\x95\\x98\\xeb\\x8b\\xa4\\xeb\\x8a\\x94 \\xeb\\xa1\\x9c\\xec\\x8a\\xa4\\xed\\x8a\\xb8\\xec\\x95\\x84\\xed\\x81\\xac\">\\r\\n\\t<meta property=\"nv:news:contents\" content=\"\\xec\\x95\\x88\\xeb\\x85\\x95\\xed\\x95\\x98\\xec\\x84\\xb8\\xec\\x9a\\x94, \\xec\\x97\\xac\\xeb\\x9f\\xac\\xeb\\xb6\\x84.\\xea\\xb2\\x8c\\xec\\x9e\\x84\\xec\\xb0\\x8d\\xeb\\xa8\\xb9 2\\xed\\x99\\x94\\xec\\x9e\\x85\\xeb\\x8b\\x88\\xeb\\x8b\\xa4.\\xec\\xa0\\x9c\\xeb\\xaa\\xa9 \\xea\\xb7\\xb8\\xeb\\x8c\\x80\\xeb\\xa1\\x9c \\xec\\x9a\\x94\\xec\\xa6\\x98 \\xec\\x95\\x84~\\xec\\xa3\\xbc \\xed\\x95\\xab\\xed\\x95\\x9c \\xea\\xb2\\x8c\\xec\\x9e\\x84\\xec\\x9d\\xb8 \\xeb\\xa1\\x9c\\xec\\x8a\\xa4\\xed\\x8a\\xb8\\xec\\x95\\x84\\xed\\x81\\xac\\xeb\\xa5\\xbc \\xec\\xb2\\x98\\xec\\x9d\\x8c \\xec\\xa0\\x91\\xed\\x96\\x88\\xec\\x9d\\x84 \\xeb\\x95\\x8c\\xec\\x9d\\x98 \\xec\\x97\\x90\\xed\\x94\\xbc\\xec\\x86\\x8c\\xeb\\x93\\x9c\\xec\\x9e\\x85\\xeb\\x8b\\x88\\xeb\\x8b\\xa4.2018\\xeb\\x85\\x84 \\xec\\x84\\x9c\\xeb\\xb2\\x84 \\xec\\xa0\\x91\\xec\\x86\\x8d \\xeb\\x8c\\x80\\xea\\xb8\\xb0\\xec\\x97\\xb4\\xec\\x9d\\x80 \\xec\\xa0\\x95\\xeb\\xa7\\x90 \\xec\\x9e\\xa5\\xeb\\x82\\x9c \\xec\\x95\\x84\\xeb\\x8b\\x88\\xec\\x97\\x88\\xeb\\x8a\\x94\\xeb\\x8d\\xb0\\xec\\x9a\\x94. \\xeb\\xac\\xbc\\xeb\\xa1\\xa0 \\xec\\xa7\\x80\\xea\\xb8\\x88\\xeb\\x8f\\x84 \\xeb\\xaa\\x87\\xeb\\xaa\\x87 \\xec\\x84\\x9c\\xeb\\xb2\\x84\\xeb\\x8a\\x94 \\xea\\xb7\\xb8\\xeb\\xa0\\x87\\xec\\xa7\\x80\\xeb\\xa7\\x8c...\\xec\\x9e\\xac\\xeb\\xaf\\xb8\\xec\\x9e\\x88\\xea\\xb2\\x8c \\xeb\\xb4\\x90\\xec\\xa3\\xbc\\xec\\x84\\xb8\\xec\\x9a\\x94~! \\xea\\xb0\\x90\\xec\\x82\\xac\\xed\\x95\\xa9\\xeb\\x8b\\x88\\xeb\\x8b\\xa4.--------------------------------------------------------------\">\\r\\n\\t<meta property=\"nv:news:date\" content=\"Tue Aug 17 00:00:01 KST 2021\">\\r\\n\\t<meta property=\"nv:news:author_no\" content=\"11542122\">\\r\\n\\t<meta property=\"nv:news:authorhome\" content=\"https://m.post.naver.com/my.naver?memberNo=11542122\">\\r\\n\\t<title>\\xec\\x9a\\x94\\xec\\xa6\\x98 \\xed\\x95\\xab\\xed\\x95\\x98\\xeb\\x8b\\xa4\\xeb\\x8a\\x94 \\xeb\\xa1\\x9c\\xec\\x8a\\xa4\\xed\\x8a\\xb8\\xec\\x95\\x84\\xed\\x81\\xac : \\xeb\\x84\\xa4\\xec\\x9d\\xb4\\xeb\\xb2\\x84 \\xed\\x8f\\xac\\xec\\x8a\\xa4\\xed\\x8a\\xb8</title>\\r\\n\\t<link rel=\"shortcut icon\" type=\"image/x-icon\" href=\"https://ssl.pstatic.net/static.post/image/icon/n_160311/favicon.ico\">\\n<link rel=\"apple-touch-icon-precomposed\" href=\"http://static.post.naver.net/image/icon/n_180620/post_ico_144X144.png\">\\n\\n<link rel=\"stylesheet\" type=\"text/css\" href=\"https://ssl.pstatic.net/static.post/static/m/202108181704/css/min/likeItList_post.css\">\\n<link rel=\"stylesheet\" type=\"text/css\" href=\"https://ssl.pstatic.net/static.post/static/m/202108181704/css/min/end_common.css\"> \\n\\t<link rel=\"stylesheet\" type=\"text/css\" href=\"https://ssl.pstatic.net/static.post/static/m/202108181704/css/min/end.css\">\\n<link rel=\"stylesheet\" type=\"text/css\" href=\"https://ssl.pstatic.net/static.post/static/m/202108181704/css/min/patron_post.css\">\\n<script type=\"text/javascript\">\\nnhn=window.nhn||{};mug=nhn.mug=window.mug||{};mug.$=mug.$||{};mug.$.User={isLoggedIn:false,id:null,memberNo:null,type:\"AUTHOR\",blockType:\"\"};mug.$.UserAgent={isInapp:false,isMobile:false,isTablet:false,isLolipopNaverApp:false,isInNaverApp:false,osName:\"Etc\",osVersion:\"0\",isEditProfileSupport:false,appSVC:\"\",appVer:\"\",isInBlogApp:false,isRos:false,urlExtension:\"naver\"};mug.$.Props={jsDir:\"https://ssl.pstatic.net/static.post/static/m/202108181704/js/min\",cssDir:\"https://ssl.pstatic.net/static.post/static/m/202108181704/css/min\",ugcEditorUrl:\"https://post.editor.naver.com\",ugcEditorFlag:\"true\"===\"true\"};window.__jsLoad__=window.__jsLoad__||{};document.domain=\"naver.com\";document.documentElement.setAttribute(\"data-useragent\",navigator.userAgent);window.__mugFnList__=[];</script><link rel=\"stylesheet\" type=\"text/css\" href=\"https://ssl.pstatic.net/static.editor/static/viewer/common/se_viewer.css?fddda9205f-20210713162300\">\\r\\n\\t<link rel=\"stylesheet\" type=\"text/css\" href=\"https://ssl.pstatic.net/static.editor/static/viewer/common/se_viewer_post.css?fddda9205f-20210713162300\">\\r\\n</head>\\r\\n\\r\\n<body data-templateType=\"ugcsimple\"\\r\\n\\t\\r\\n\\t\\tclass=\"gr viewer pc\"\\r\\n\\t\\t\\r\\n\\tstyle=\"\">\\r\\n<div class=\"blind\" aria-hidden=\"true\"><a href=\"#cont\">\\xeb\\xb3\\xb8\\xeb\\xac\\xb8 \\xeb\\xb0\\x94\\xeb\\xa1\\x9c\\xea\\xb0\\x80\\xea\\xb8\\xb0</a></div>\\r\\n<div id=\"wrap\">\\r\\n\\t<!-- \\xec\\x97\\x94\\xeb\\x93\\x9c\\xed\\x99\\x94\\xeb\\xa9\\xb4\\xec\\x9a\\xa9 \\xed\\x97\\xa4\\xeb\\x8d\\x94 -->\\r\\n\\t<div id=\"header\" class=\"sub end\" role=\"banner\">\\r\\n\\t\\t<div class=\"gnb\"\\n\\n>\\n\\t<a href=\"#\" onclick=\"mug.common.util.goBack();return false;\" class=\"btn_gnb_prev\"><i class=\"blind\" aria-hidden=\"true\">\\xec\\x9d\\xb4\\xec\\xa0\\x84\\xed\\x99\\x94\\xeb\\xa9\\xb4\\xec\\x9c\\xbc\\xeb\\xa1\\x9c \\xea\\xb0\\x80\\xea\\xb8\\xb0</i></a>\\n\\t<a href=\"http://www.naver.com\" target=\"_blank\" class=\"naver_logo_sub\"><i class=\"ico_naver_logo_sub\">\\xeb\\x84\\xa4\\xec\\x9d\\xb4\\xeb\\xb2\\x84</i></a>\\n\\t<h1><a href=\"/\" class=\"logo2\"><span class=\"ico_post_logo_sub\">\\xed\\x8f\\xac\\xec\\x8a\\xa4\\xed\\x8a\\xb8 beta</span></a></h1>\\n\\t\\n\\t<div class=\"flt_r\">\\n\\t\\t<button type=\"button\" class=\"btn_t1 __series\"><span>\\xec\\x8b\\x9c\\xeb\\xa6\\xac\\xec\\xa6\\x88</span></button><button class=\"btn_flw __followAnchor\" data-afterFollowLayer=\"NONE\" onclick=\"mug.contents.util.follow(jQuery(\\'.__followAnchor\\'), jQuery(\\'.__unfollowAnchor\\'), 11542122, \\'PERSON\\', this); return false;\"   aria-pressed=\"false\"><span>\\xed\\x8c\\x94\\xeb\\xa1\\x9c\\xec\\x9a\\xb0</span></button>\\n\\t\\t<button class=\"btn_flw on __unfollowAnchor\" onclick=\"mug.contents.util.unfollow(jQuery(\\'.__followAnchor\\'), jQuery(\\'.__unfollowAnchor\\'), 11542122, \\'PERSON\\', \\'\\xec\\x8c\\x80\\xec\\x8b\\xa0\\'); return false;\" style=\"display:none\" aria-pressed=\"true\"><span>\\xed\\x8c\\x94\\xeb\\xa1\\x9c\\xec\\x9e\\x89</span></button>\\n\\t\\t<!-- [D] \\xeb\\x82\\xb4\\xea\\xb8\\x80\\xec\\x9d\\xbc\\xeb\\x95\\x8c \\xec\\x82\\xad\\xec\\xa0\\x9c \\xeb\\xb2\\x84\\xed\\x8a\\xbc \\xed\\x91\\x9c\\xec\\x8b\\x9c (PC \\xec\\xa0\\x84\\xec\\x9a\\xa9) -->\\n\\t\\t<!-- [D] \\xea\\xb3\\xb5\\xec\\x9c\\xa0\\xed\\x95\\x98\\xea\\xb8\\xb0 (PC \\xec\\xa0\\x84\\xec\\x9a\\xa9) -->\\n\\t\\t<button type=\"button\" class=\"btn_t1 share naver-splugin\" data-title=\"\\xec\\x9a\\x94\\xec\\xa6\\x98 \\xed\\x95\\xab\\xed\\x95\\x98\\xeb\\x8b\\xa4\\xeb\\x8a\\x94 \\xeb\\xa1\\x9c\\xec\\x8a\\xa4\\xed\\x8a\\xb8\\xec\\x95\\x84\\xed\\x81\\xac\" data-source-name=\"\\xec\\x8c\\x80\\xec\\x8b\\xa0\" onclick=\"mug.common.Sharer.init({elBtn:this});mug.common.nclick(this, \\'meb.share\\');return false;\" role=\"button\" aria-haspopup=\"true\" aria-expanded=\"false\">\\n\\t\\t\\t<span>\\xea\\xb3\\xb5\\xec\\x9c\\xa0\\xed\\x95\\x98\\xea\\xb8\\xb0</span>\\n\\t\\t</button>\\n\\n\\t\\t<button type=\"button\" class=\"btn_t1 write\" onclick=\"mug.common.nclick(this, \\'gnb.write\\');mug.common.moveToAppLauncherUgcEditorUrl();\"><a href=\"#\" onclick=\"return false;\">\\xed\\x8f\\xac\\xec\\x8a\\xa4\\xed\\x8a\\xb8 \\xec\\x93\\xb0\\xea\\xb8\\xb0</a></button>\\n\\n\\t\\t<div class=\"overflow_menu_area\">\\n\\t\\t\\t<button type=\"button\" class=\"btn_overflow_menu\" role=\"button\" aria-haspopup=\"true\" aria-expanded=\"false\"><span class=\"sp\"></span></button>\\n\\t\\t\\t<ul class=\"ly_more t2 __gnb_overview_menu\">\\n\\t\\t\\t\\t<li class=\"font\">\\n\\t\\t\\t\\t\\t<a href=\"#\" class=\"btn_default __viewer_size_down_font\" onclick=\"window.ViewerFont.sizeDownFont();return false;\"><span class=\"u_hc\">\\xea\\xb8\\xb0\\xeb\\xb3\\xb8</span></a>\\n\\t\\t\\t\\t\\t<span class=\"ic\"></span>\\n\\t\\t\\t\\t\\t<a href=\"#\" class=\"btn_bigger __viewer_size_up_font\" onclick=\"window.ViewerFont.sizeUpFont();return false;\"><span class=\"u_hc\">\\xed\\x81\\xac\\xea\\xb2\\x8c</span></a>\\n\\t\\t\\t\\t</li>\\n\\t\\t\\t\\t<li class=\"editor \"><a href=\"/my.naver?memberNo=11542122\" onclick=\"__toggleOverflowMenu(1000);\">\\xec\\x9e\\x91\\xec\\x84\\xb1\\xec\\x9e\\x90 \\xeb\\xb3\\xb4\\xea\\xb8\\xb0</a></li>\\n\\t\\t\\t\\t<li class=\"share as_first\"><a href=\"#\" class=\"naver-splugin\" data-title=\"\\xec\\x9a\\x94\\xec\\xa6\\x98 \\xed\\x95\\xab\\xed\\x95\\x98\\xeb\\x8b\\xa4\\xeb\\x8a\\x94 \\xeb\\xa1\\x9c\\xec\\x8a\\xa4\\xed\\x8a\\xb8\\xec\\x95\\x84\\xed\\x81\\xac\" data-source-name=\"\\xec\\x8c\\x80\\xec\\x8b\\xa0\" onclick=\"mug.common.Sharer.init({elBtn:this});mug.common.nclick(this, \\'meb.share\\');return false;\">\\xea\\xb3\\xb5\\xec\\x9c\\xa0\\xed\\x95\\x98\\xea\\xb8\\xb0</a></li>\\n\\t\\t\\t\\t<li class=\"url __bt_url\" style=\"display:none\"><a href=\"#\">URL \\xeb\\xb3\\xb5\\xec\\x82\\xac</a></li>\\n\\t\\t\\t\\t<li class=\"bookmark __bt_bookmark\" style=\"display:none\"><a href=\"#\">\\xeb\\x84\\xa4\\xec\\x9d\\xb4\\xeb\\xb2\\x84 \\xeb\\xb6\\x81\\xeb\\xa7\\x88\\xed\\x81\\xac</a></li>\\n\\t\\t\\t\\t<li class=\"app\"><a href=\"#\" onclick=\"__toggleOverflowMenu(1000);mug.common.nclick(this, \\'meb.appdown\\');window.__openViewerToApp(11542122, 32158422);return false;\">\\xec\\x95\\xb1\\xec\\x9c\\xbc\\xeb\\xa1\\x9c \\xeb\\xb3\\xb4\\xea\\xb8\\xb0</a></li>\\n\\n\\t\\t\\t\\t<li class=\"report\"><a href=\"/viewer/reportForm.naver?volumeNo=32158422&memberNo=11542122\" onclick=\"__toggleOverflowMenu(1000);\" target=\"_blank\">\\xec\\x8b\\xa0\\xea\\xb3\\xa0</a></li>\\n\\t\\t\\t\\t</ul>\\n\\t\\t</div>\\n\\t</div>\\n</div></div>\\r\\n\\t<!-- //\\xec\\x97\\x94\\xeb\\x93\\x9c\\xed\\x99\\x94\\xeb\\xa9\\xb4\\xec\\x9a\\xa9 \\xed\\x97\\xa4\\xeb\\x8d\\x94 -->\\r\\n\\r\\n\\t<div id=\"cont\" class=\"end __viewer_container\" role=\"main\">\\r\\n\\t<!-- \\xec\\xbb\\xa8\\xed\\x85\\x90\\xec\\xb8\\xa0 \\xeb\\x82\\xb4\\xec\\x9a\\xa9 {{ -->\\r\\n\\r\\n\\t<script type=\"x-clip-content\" id=\"__clipContent\">\\r\\n\\t\\t<div id=\"SEDOC-1628750816725--362247994\" class=\"se_doc_viewer se_body_wrap se_theme_default \" data-docversion=\"1.0\">\\n<div class=\"se_doc_header_start\" id=\"SEDOC-1628750816725--362247994_se_doc_header_start\"></div>\\n<!-- SE_DOC_HEADER_START -->\\n<div id=\"SEDOC-1628750816725--362247994_viewer_head\" class=\"se_viewer_head\"></div>\\n<div class=\"se_component_wrap\">\\n<div class=\"se_component se_documentTitle default is-bg is-fill\">\\n\\t    <div class=\"se_background\" style=\"background-image: url(https://post-phinf.pstatic.net/MjAyMTA4MTJfMjg5/MDAxNjI4NzUwNDQ4MzE3.TPoiEjhoQRjyOd-i-zxpxLBTJtBxmv3-eOhxtMMr87sg.Nn4kM5QHl0p5_FiIwk75Sy7SgkU74b3kLH8cnEurzDwg.JPEG/%EC%9D%BC%EB%9F%AC%EC%8A%A4%ED%8A%B82.jpg?type=w1200); background-position:50% 30.7438%\">\\n\\t\\t\\t<div class=\"se_background_exception\">\\n\\t\\t\\t\\t<img alt=\"\" class=\"se_background_img\"  src=\"https://ssl.pstatic.net/static.post/image/m/im/bg_white.png\" data-src=\"https://post-phinf.pstatic.net/MjAyMTA4MTJfMjg5/MDAxNjI4NzUwNDQ4MzE3.TPoiEjhoQRjyOd-i-zxpxLBTJtBxmv3-eOhxtMMr87sg.Nn4kM5QHl0p5_FiIwk75Sy7SgkU74b3kLH8cnEurzDwg.JPEG/%EC%9D%BC%EB%9F%AC%EC%8A%A4%ED%8A%B82.jpg?type=w1200\" />\\n\\t\\t\\t</div>\\n\\t    \\t<div class=\"se_background_dim\"></div>\\n\\t    </div>\\n    <div class=\"se_sectionArea is-fill se_align-left\">\\n        <!-- $SE3-TITLE_TOP Post Service placeholder --><a href=\"/my/series/detail.naver?seriesNo=659654&memberNo=11542122&prevVolumeNo=32158422\" onclick=\"mug.common.nclick(this, \\'tit.series\\');\"><div class=\"se_series\"><i class=\"se_ico_series\" style=\"display:none\">\\xec\\x8a\\xa4\\xed\\x83\\x80\\xec\\x97\\x90\\xeb\\x94\\x94\\xed\\x84\\xb03</i><i class=\"se_ico_series\" style=\"\">\\xec\\x8b\\x9c\\xeb\\xa6\\xac\\xec\\xa6\\x88</i><i class=\"se_ico_groupseries\" style=\"display:none\">\\xec\\xbd\\x9c\\xeb\\x9d\\xbc\\xeb\\xb3\\xb4</i>\\xea\\xb2\\x8c\\xec\\x9e\\x84\\xec\\xb0\\x8d\\xeb\\xa8\\xb9</div></a><!-- $SE3-TITLE_TOP Post Service placeholder -->\\n        <!-- SE_DOC_HEADER_TITLE_TOP-->\\n     \\t<div id=\"SEDOC-1628750816725--362247994_se_doc_title_top\" class=\"se_doc_title_top\"></div>\\n        <div class=\"se_editArea\">\\n        \\t<div class=\"se_viewArea se_ff_nanumgothic se_fs_D2\">\\n\\t            <div class=\"se_editView se_title\">\\n\\t                <div class=\"se_textView\">\\n                        <h3 class=\"se_textarea\">\\n                            \\n                            \\xec\\x9a\\x94\\xec\\xa6\\x98 \\xed\\x95\\xab\\xed\\x95\\x98\\xeb\\x8b\\xa4\\xeb\\x8a\\x94 \\xeb\\xa1\\x9c\\xec\\x8a\\xa4\\xed\\x8a\\xb8\\xec\\x95\\x84\\xed\\x81\\xac\\n                        </h3>\\n                        \\n                        \\n\\t                </div>\\n\\t            </div>\\n\\t        </div>\\n        </div><!-- SE_DOC_HEADER_TITLE_MIDDLE-->\\n        <div id=\"SEDOC-1628750816725--362247994_se_doc_title_middle\" class=\"se_doc_title_middle\"></div>\\n        <!-- SE_DOC_HEADER_CONTENTS_START -->\\n        <!-- $SE3-TITLE_CONTENTS Post Service placeholder --><div class=\"se_container\"><a href=\"/my.naver?memberNo=11542122\" onclick=\"mug.common.nclick(this, \\'tit.profile\\');\" class=\"se_thumbnail\"><img  src=\"https://ssl.pstatic.net/static.post/image/m/im/bg_white.png\" data-src=\"https://post-phinf.pstatic.net/MjAxODA2MjZfMjUy/MDAxNTI5OTk5MjcwOTMw.x427aLnHVJxbJyYbmTrBIULc3f_mp97G5MNr1XcBWQcg.Hf8ONyrNsxRD_yFpaNWh9SGVWb0MwdY6V6IkzBNdw7Ug.JPEG/post_3365058303091367886.jpg?type=f120_120\" onerror=\"this.onerror=null;this.src=\\'https://ssl.pstatic.net/static.post/image/im/img_default.gif\\'\" alt=\"\\xec\\x8c\\x80\\xec\\x8b\\xa0\\xeb\\x8b\\x98\\xec\\x9d\\x98 \\xed\\x94\\x84\\xeb\\xa1\\x9c\\xed\\x95\\x84 \\xec\\x82\\xac\\xec\\xa7\\x84\"></a><div class=\"se_group\"><div class=\"se_author_area\"><p><a href=\"/my.naver?memberNo=11542122\" onclick=\"mug.common.nclick(this, \\'tit.name\\');\"><span class=\"se_author\">\\xec\\x8c\\x80\\xec\\x8b\\xa0</span></a></p><p style=\"display:none\"><span class=\"ico_official\"><i class=\"blind\">\\xea\\xb3\\xb5\\xec\\x8b\\x9d</i></span></p><p><i class=\"se_divide_dot\" style=\"display:none\"></i><span class=\"se_follower\" style=\"display:none\">{=badgeName}</span></p></div><p class=\"se_detail\"><span class=\"se_publishDate\">2021.08.17. 00:00</span><i class=\"se_divide_line\"></i><span class=\"se_view\" style=\"\">14,260 \\xec\\x9d\\xbd\\xec\\x9d\\x8c </span><span class=\"se_secret\" style=\"display:none\">\\xeb\\xb9\\x84\\xeb\\xb0\\x80\\xea\\xb8\\x80</span></p></div><div class=\"flw_area\"><a href=\"#\" class=\"btn_stats __se3_stat_btn\" style=\"display:none\" onclick=\"mug.common.nclick(this, \\'tit.stat\\');\" target=\"_blank\"><span>\\xed\\x86\\xb5\\xea\\xb3\\x84</span></a>\\n</div></div><!-- $SE3-TITLE_CONTENTS Post Service placeholder -->\\n        <!-- SE_DOC_HEADER_CONTENTS_END -->\\n        <!-- SE_DOC_HEADER_TITLE_BOTTOM-->\\n        <div id=\"SEDOC-1628750816725--362247994_se_doc_title_bottom\" class=\"se_doc_title_bottom\"></div>\\n    </div>\\n</div>\\n\\n</div>\\n<!-- {{{$SE3-CONTENTS_HEADER}}} -->\\n<!-- SE_DOC_HEADER_END -->\\n<div class=\"se_doc_header_end\" id=\"SEDOC-1628750816725--362247994_se_doc_header_end\"></div>\\n<div class=\"se_doc_contents_start\" id=\"SEDOC-1628750816725--362247994_se_doc_contents_start\"></div>\\n<!-- SE_DOC_CONTENTS_START -->\\n<div class=\"se_component_wrap sect_dsc __se_component_area\">\\n    \\n\\n\\n\\n\\n\\n\\n\\n\\n<div class=\"se_component se_paragraph default\">\\n    <div class=\"se_sectionArea\">\\n        <div class=\"se_editArea\">\\n            <div class=\"se_viewArea se_ff_nanumgothic se_fs_T3 se_align-left\" >\\n                <div class=\"se_editView\">\\n                    <div class=\"se_textView\">\\n                        <p class=\"se_textarea\"><!-- SE3-TEXT { --><!-- } SE3-TEXT --></p>\\n                    </div>\\n                </div>\\n            </div>\\n        </div>\\n    </div>\\n</div>\\n\\n\\n\\n\\n\\n\\n\\n\\n\\n\\n\\n\\n\\n    \\n\\n\\n\\t\\t<div class=\"se_component se_image default\">\\n\\t\\t\\t<div class=\"se_sectionArea se_align-left\">\\n\\t\\t\\t\\t<div class=\"se_editArea\">\\n\\t\\t\\t\\t\\t<div class=\"se_viewArea\" style=\"max-width:690px\">\\n        <a href=\"#\" onclick=\"return false;\" class=\"se_mediaArea __se_image_link __se_link\" data-linktype=\"img\" data-linkdata=\\'{\"imgId\" : \"SEDOC-1628750816725--362247994_image_0_img\", \"src\" : \"https://post-phinf.pstatic.net/MjAyMTA4MTJfMjYg/MDAxNjI4NzUwNTI1NDE0.fKgwXslnQMsIGxb3-CwrI0AoUmlYBvIkqSYf1TDdkowg.BRS6GVIcTr-8YkVRsfoT1bS2IuWU3OLhwo0vjtNZ04wg.JPEG/2._%EC%9A%94%EC%A6%98_%ED%95%AB%ED%95%98%EB%8B%A4%EB%8A%94_%EB%A1%9C%EC%8A%A4%ED%8A%B8%EC%95%84%ED%81%AC.jpg\", \"linkUse\" : \"false\", \"link\" : \"\"}\\'>\\n                            <img id=\"SEDOC-1628750816725--362247994_image_0_img\" class=\"se_mediaImage __se_img_el\"  src=\"https://ssl.pstatic.net/static.post/image/m/im/bg_white.png\" data-src=\"https://post-phinf.pstatic.net/MjAyMTA4MTJfMjYg/MDAxNjI4NzUwNTI1NDE0.fKgwXslnQMsIGxb3-CwrI0AoUmlYBvIkqSYf1TDdkowg.BRS6GVIcTr-8YkVRsfoT1bS2IuWU3OLhwo0vjtNZ04wg.JPEG/2._%EC%9A%94%EC%A6%98_%ED%95%AB%ED%95%98%EB%8B%A4%EB%8A%94_%EB%A1%9C%EC%8A%A4%ED%8A%B8%EC%95%84%ED%81%AC.jpg?type=w1200\" width=\"690\" height=\"30000\" data-attachment-id=\"I9I2aKAPVkUhH8-k6xWC7dl7SUwQ\" alt=\"\">\\n        \\n        </a>\\n\\t\\t\\t\\t\\t</div>\\n\\t\\t\\t\\t</div>\\n\\t\\t\\t</div>\\n\\t\\t</div>\\n\\n\\n\\n\\n\\n\\n\\n\\n\\n\\n\\n\\n\\n\\n\\n\\n\\n\\n\\n    \\n\\n\\n\\n\\n\\n\\n\\n\\n<div class=\"se_component se_paragraph default\">\\n    <div class=\"se_sectionArea\">\\n        <div class=\"se_editArea\">\\n            <div class=\"se_viewArea se_ff_nanumgothic se_fs_T3 se_align-center\" >\\n                <div class=\"se_editView\">\\n                    <div class=\"se_textView\">\\n                        <p class=\"se_textarea\"><!-- SE3-TEXT { -->\\xec\\x95\\x88\\xeb\\x85\\x95\\xed\\x95\\x98\\xec\\x84\\xb8\\xec\\x9a\\x94, \\xec\\x97\\xac\\xeb\\x9f\\xac\\xeb\\xb6\\x84.<br><br>\\xea\\xb2\\x8c\\xec\\x9e\\x84\\xec\\xb0\\x8d\\xeb\\xa8\\xb9 2\\xed\\x99\\x94\\xec\\x9e\\x85\\xeb\\x8b\\x88\\xeb\\x8b\\xa4.<br><br>\\xec\\xa0\\x9c\\xeb\\xaa\\xa9 \\xea\\xb7\\xb8\\xeb\\x8c\\x80\\xeb\\xa1\\x9c \\xec\\x9a\\x94\\xec\\xa6\\x98 \\xec\\x95\\x84~\\xec\\xa3\\xbc \\xed\\x95\\xab\\xed\\x95\\x9c \\xea\\xb2\\x8c\\xec\\x9e\\x84\\xec\\x9d\\xb8 \\xeb\\xa1\\x9c\\xec\\x8a\\xa4\\xed\\x8a\\xb8\\xec\\x95\\x84\\xed\\x81\\xac\\xeb\\xa5\\xbc \\xec\\xb2\\x98\\xec\\x9d\\x8c \\xec\\xa0\\x91\\xed\\x96\\x88\\xec\\x9d\\x84 \\xeb\\x95\\x8c\\xec\\x9d\\x98 \\xec\\x97\\x90\\xed\\x94\\xbc\\xec\\x86\\x8c\\xeb\\x93\\x9c\\xec\\x9e\\x85\\xeb\\x8b\\x88\\xeb\\x8b\\xa4.<br><br>2018\\xeb\\x85\\x84 \\xec\\x84\\x9c\\xeb\\xb2\\x84 \\xec\\xa0\\x91\\xec\\x86\\x8d \\xeb\\x8c\\x80\\xea\\xb8\\xb0\\xec\\x97\\xb4\\xec\\x9d\\x80 \\xec\\xa0\\x95\\xeb\\xa7\\x90 \\xec\\x9e\\xa5\\xeb\\x82\\x9c \\xec\\x95\\x84\\xeb\\x8b\\x88\\xec\\x97\\x88\\xeb\\x8a\\x94\\xeb\\x8d\\xb0\\xec\\x9a\\x94. \\xeb\\xac\\xbc\\xeb\\xa1\\xa0 \\xec\\xa7\\x80\\xea\\xb8\\x88\\xeb\\x8f\\x84 \\xeb\\xaa\\x87\\xeb\\xaa\\x87 \\xec\\x84\\x9c\\xeb\\xb2\\x84\\xeb\\x8a\\x94 \\xea\\xb7\\xb8\\xeb\\xa0\\x87\\xec\\xa7\\x80\\xeb\\xa7\\x8c...<br><br>\\xec\\x9e\\xac\\xeb\\xaf\\xb8\\xec\\x9e\\x88\\xea\\xb2\\x8c \\xeb\\xb4\\x90\\xec\\xa3\\xbc\\xec\\x84\\xb8\\xec\\x9a\\x94~! \\xea\\xb0\\x90\\xec\\x82\\xac\\xed\\x95\\xa9\\xeb\\x8b\\x88\\xeb\\x8b\\xa4.<br><br>------------------------------------------------------------------------------------------------------------------------------------------------------------------------------------------------------------------------------------------------<!-- } SE3-TEXT --></p>\\n                    </div>\\n                </div>\\n            </div>\\n        </div>\\n    </div>\\n</div>\\n\\n\\n\\n\\n\\n\\n\\n\\n\\n\\n\\n\\n\\n    \\n\\n\\n\\t\\t<div class=\"se_component se_image default\">\\n\\t\\t\\t<div class=\"se_sectionArea se_align-justify\">\\n\\t\\t\\t\\t<div class=\"se_editArea\">\\n\\t\\t\\t\\t\\t<div class=\"se_viewArea\" >\\n        <a href=\"#\" onclick=\"return false;\" class=\"se_mediaArea __se_image_link __se_link\" data-linktype=\"img\" data-linkdata=\\'{\"imgId\" : \"SEDOC-1628750816725--362247994_image_1_img\", \"src\" : \"https://post-phinf.pstatic.net/MjAyMTA4MTJfMjEw/MDAxNjI4NzUwNzY1NDgy.ZbSTDefeOKnciH7WoV3pDHgTQ9K4ixT0VdSsKCPvujcg.5yMqC4QGLy2MXce_DY-Aa4pdcQSuesrRmo0ZDK06kYsg.JPEG/%EA%B2%8C%EC%9E%84%ED%8C%90_%ED%8C%8C%EC%9D%BC%EB%9F%BF_%EB%B0%B0%EB%84%88.jpg\", \"linkUse\" : \"true\", \"link\" : \"http://m.naver.com/naverapp/?version&#61;1&amp;cmd&#61;addMenu&amp;menuCode&#61;GAMEAPP\"}\\'>\\n                            <img id=\"SEDOC-1628750816725--362247994_image_1_img\" class=\"se_mediaImage __se_img_el\"  src=\"https://ssl.pstatic.net/static.post/image/m/im/bg_white.png\" data-src=\"https://post-phinf.pstatic.net/MjAyMTA4MTJfMjEw/MDAxNjI4NzUwNzY1NDgy.ZbSTDefeOKnciH7WoV3pDHgTQ9K4ixT0VdSsKCPvujcg.5yMqC4QGLy2MXce_DY-Aa4pdcQSuesrRmo0ZDK06kYsg.JPEG/%EA%B2%8C%EC%9E%84%ED%8C%90_%ED%8C%8C%EC%9D%BC%EB%9F%BF_%EB%B0%B0%EB%84%88.jpg?type=w1200\" width=\"960\" height=\"370\" data-attachment-id=\"IIcLKNTEhkIp22ES7TpAW06VldAo\" alt=\"\">\\n        \\n        </a>\\n\\t\\t\\t\\t\\t</div>\\n\\t\\t\\t\\t</div>\\n\\t\\t\\t</div>\\n\\t\\t</div>\\n\\n\\n\\n\\n\\n\\n\\n\\n\\n\\n\\n\\n\\n\\n\\n\\n\\n\\n\\n    \\n\\n\\n\\n\\n\\n\\n\\n\\n<div class=\"se_component se_paragraph default\">\\n    <div class=\"se_sectionArea\">\\n        <div class=\"se_editArea\">\\n            <div class=\"se_viewArea se_ff_nanumgothic se_fs_T3 se_align-center\" >\\n                <div class=\"se_editView\">\\n                    <div class=\"se_textView\">\\n                        <p class=\"se_textarea\"><!-- SE3-TEXT { --><!-- } SE3-TEXT --></p>\\n                    </div>\\n                </div>\\n            </div>\\n        </div>\\n    </div>\\n</div>\\n\\n\\n\\n\\n\\n\\n\\n\\n\\n\\n\\n\\n\\n</div>\\n<!-- SE_DOC_CONTENTS_END -->\\n<div class=\"__se_doc_title_end\" id=\"se_doc_contents_end\"></div>\\n<div id=\"SEDOC-1628750816725--362247994_se_doc_footer\" class=\"se_doc_footer\"></div>\\n</div>\\n</script>\\r\\n\\r\\n\\t<div id=\"__tmp_clipContent\" style=\"height:1000px;background:white;padding-top: 80px;text-align: center;\">\\r\\n\\t</div>\\r\\n\\r\\n<!-- }} \\xec\\xbb\\xa8\\xed\\x85\\x90\\xec\\xb8\\xa0 \\xeb\\x82\\xb4\\xec\\x9a\\xa9 -->\\r\\n\\r\\n\\t<script type=\"text/javascript\" >\\n        window.__mugFnList__.push(function() {\\n            !function($, window) {\\n                if (mug.common.isDev()) {\\n                    console.log(\"asyncGet funding\");\\n                }\\n                function asyncGet() {\\n                \\t// \\xea\\xb0\\x84\\xeb\\x8b\\xa8 \\xed\\x8e\\x98\\xec\\x9d\\xb4\\xec\\xa7\\x80\\xec\\x97\\x90\\xec\\x84\\x9c \\xec\\x9a\\x94\\xec\\xb2\\xad \\xec\\xa0\\x9c\\xec\\x99\\xb8\\n\\t\\t\\t\\t\\tvar onSimplePage = \\'false\\' === \\'true\\';\\n\\t\\t\\t\\t\\tif (onSimplePage) {\\n\\t\\t\\t\\t\\t\\tif (mug.common.isDev()) {\\n\\t\\t\\t\\t\\t\\t\\tconsole.log(\"[SIMPLE] getSe3FundingView disabled.\");\\n\\t\\t\\t\\t\\t\\t}\\n\\t\\t\\t\\t\\t\\treturn;\\n\\t\\t\\t\\t\\t}\\n\\n                    $.ajax({\\n                        url: \"getSe3FundingView.naver\",\\n                        dataType:\"html\",\\n                        data: {\\n                            authorNo: \"11542122\",\\n                            seriesNo: \"659654\"\\n                        },\\n                        success: function(resultHtml){\\n                            if (mug.common.isDev()) {\\n                                console.log(\"asyncGet funding success!!\");\\n                            }\\n                            resultHtml = $.trim(resultHtml);\\n                            $(\"#__tmp_fundingView\").replaceWith(resultHtml);\\n                            $(window).trigger(\"viewerFundingLoad\");\\n                        },\\n                        error: function(resp) {\\n                            console.log(resp);\\n                        }\\n                    });\\n                }\\n                $(window).load(function() {\\n                    setTimeout(asyncGet, 1);\\n                });\\n\\n            }(jQuery, window);\\n        });\\n        </script>\\n        <div id=\"__tmp_fundingView\">\\n\\n        </div>\\n\\n    <script type=\"text/javascript\" >\\r\\n\\twindow.__mugFnList__.push(function() {\\r\\n\\t\\t!function($, window) {\\r\\n\\t\\t\\tif (mug.common.isDev()) {\\r\\n\\t\\t\\t\\tconsole.log(\"asyncGet event\");\\r\\n\\t\\t\\t}\\r\\n\\t\\t\\tfunction asyncGet() {\\r\\n\\t\\t\\t\\t// \\xea\\xb0\\x84\\xeb\\x8b\\xa8 \\xed\\x8e\\x98\\xec\\x9d\\xb4\\xec\\xa7\\x80\\xec\\x97\\x90\\xec\\x84\\x9c \\xec\\x9a\\x94\\xec\\xb2\\xad \\xec\\xa0\\x9c\\xec\\x99\\xb8\\r\\n\\t\\t\\t\\tvar onSimplePage = \\'false\\' === \\'true\\';\\r\\n\\t\\t\\t\\tif (onSimplePage) {\\r\\n\\t\\t\\t\\t\\tif (mug.common.isDev()) {\\r\\n\\t\\t\\t\\t\\t\\tconsole.log(\"[SIMPLE] getEventView disabled.\");\\r\\n\\t\\t\\t\\t\\t}\\r\\n\\t\\t\\t\\t\\treturn;\\r\\n\\t\\t\\t\\t}\\r\\n\\r\\n\\t\\t\\t\\t$.ajax({\\r\\n\\t\\t\\t\\t\\turl: \"getEventView.naver\",\\r\\n\\t\\t\\t\\t\\tdataType:\"html\",\\r\\n\\t\\t\\t\\t\\tdata: {\\r\\n\\t\\t\\t\\t\\t\\tvolumeNo: \"32158422\",\\r\\n\\t\\t\\t\\t\\t\\tmemberNo: \"11542122\"\\r\\n\\t\\t\\t\\t\\t},\\r\\n\\t\\t\\t\\t\\tsuccess: function(resultHtml){\\r\\n\\t\\t\\t\\t\\t\\tif (mug.common.isDev()) {\\r\\n\\t\\t\\t\\t\\t\\t\\tconsole.log(\"asyncGet event success!!\");\\r\\n\\t\\t\\t\\t\\t\\t}\\r\\n\\t\\t\\t\\t\\t\\tresultHtml = $.trim(resultHtml);\\r\\n\\t\\t\\t\\t\\t\\t$(\"#__tmp_eventView\").replaceWith(resultHtml);\\r\\n\\t\\t\\t\\t\\t\\tif (resultHtml != \"\") {\\r\\n\\t\\t\\t\\t\\t\\t\\ttry {window.__viewer._resizePan();}catch(e){};\\r\\n\\t\\t\\t\\t\\t\\t}\\r\\n\\t\\t\\t\\t\\t\\t$(window).trigger(\"viewerEventLoad\");\\r\\n\\t\\t\\t\\t\\t},\\r\\n\\t\\t\\t\\t\\terror: function(resp) {\\r\\n\\t\\t\\t\\t\\t\\tconsole.log(resp);\\r\\n\\t\\t\\t\\t\\t}\\r\\n\\t\\t\\t\\t});\\r\\n\\t\\t\\t}\\r\\n\\t\\t\\t$(window).load(function() {\\r\\n\\t\\t\\t\\tsetTimeout(asyncGet, 1);\\r\\n\\t\\t\\t});\\r\\n\\r\\n\\t\\t}(jQuery, window);\\r\\n\\t});\\r\\n\\r\\n\\r\\n\\t</script>\\r\\n\\t<div id=\"__tmp_eventView\">\\r\\n\\r\\n\\t</div>\\r\\n<div class=\"editor_section as_se3\">\\r\\n\\t<div class=\"state_line\"></div>\\r\\n\\t<!-- \\xed\\x83\\x9c\\xea\\xb7\\xb8 -->\\r\\n\\t<div class=\"sect_tag_area\">\\r\\n\\t\\t<div class=\"sect_inner\">\\r\\n\\t\\t\\t<div class=\"tag_related_wrap\">\\r\\n\\t\\t\\t\\t<div class=\"tag_area\">\\r\\n\\t\\t\\t\\t\\t<a href=\"/tag/overView.naver?tag=%EB%84%A4%EC%9D%B4%EB%B2%84%EA%B2%8C%EC%9E%84%ED%8C%90\" class=\"tag __search_tag\" data-tagname=\"\\xeb\\x84\\xa4\\xec\\x9d\\xb4\\xeb\\xb2\\x84\\xea\\xb2\\x8c\\xec\\x9e\\x84\\xed\\x8c\\x90\" onclick=\"mug.common.nclick(this, \\'end.tag\\');\">#\\xeb\\x84\\xa4\\xec\\x9d\\xb4\\xeb\\xb2\\x84\\xea\\xb2\\x8c\\xec\\x9e\\x84\\xed\\x8c\\x90</a>\\r\\n\\t\\t\\t\\t\\t<a href=\"/tag/overView.naver?tag=%EC%8C%80%EC%8B%A0\" class=\"tag __search_tag\" data-tagname=\"\\xec\\x8c\\x80\\xec\\x8b\\xa0\" onclick=\"mug.common.nclick(this, \\'end.tag\\');\">#\\xec\\x8c\\x80\\xec\\x8b\\xa0</a>\\r\\n\\t\\t\\t\\t\\t<a href=\"/tag/overView.naver?tag=%EA%B2%8C%EC%9E%84%EC%B0%8D%EB%A8%B9\" class=\"tag __search_tag\" data-tagname=\"\\xea\\xb2\\x8c\\xec\\x9e\\x84\\xec\\xb0\\x8d\\xeb\\xa8\\xb9\" onclick=\"mug.common.nclick(this, \\'end.tag\\');\">#\\xea\\xb2\\x8c\\xec\\x9e\\x84\\xec\\xb0\\x8d\\xeb\\xa8\\xb9</a>\\r\\n\\t\\t\\t\\t\\t<a href=\"/tag/overView.naver?tag=%EB%A1%9C%EC%8A%A4%ED%8A%B8%EC%95%84%ED%81%AC\" class=\"tag __search_tag\" data-tagname=\"\\xeb\\xa1\\x9c\\xec\\x8a\\xa4\\xed\\x8a\\xb8\\xec\\x95\\x84\\xed\\x81\\xac\" onclick=\"mug.common.nclick(this, \\'end.tag\\');\">#\\xeb\\xa1\\x9c\\xec\\x8a\\xa4\\xed\\x8a\\xb8\\xec\\x95\\x84\\xed\\x81\\xac</a>\\r\\n\\t\\t\\t\\t\\t</div>\\r\\n\\t\\t\\t</div>\\r\\n\\t\\t</div>\\r\\n\\t</div>\\r\\n\\t<!-- //\\xed\\x83\\x9c\\xea\\xb7\\xb8 -->\\r\\n<script type=\"text/javascript\" src=\"https://common-patron.pstatic.net/dist/patron.init.js?v=20210820\"></script>\\n    <script type=\"text/javascript\">\\n        window.__mugFnList__.push(function() {\\n            !function($, window) {\\n                if (mug.common.isDev()) {\\n                    console.log(\"asyncGet\");\\n                }\\n                function asyncGet() {\\n\\t\\t\\t\\t\\t// \\xea\\xb0\\x84\\xeb\\x8b\\xa8 \\xed\\x8e\\x98\\xec\\x9d\\xb4\\xec\\xa7\\x80\\xec\\x97\\x90\\xec\\x84\\x9c \\xec\\x9a\\x94\\xec\\xb2\\xad \\xec\\xa0\\x9c\\xec\\x99\\xb8\\n\\t\\t\\t\\t\\tvar onSimplePage = \\'false\\' === \\'true\\';\\n\\t\\t\\t\\t\\tif (onSimplePage) {\\n\\t\\t\\t\\t\\t\\tif (mug.common.isDev()) {\\n\\t\\t\\t\\t\\t\\t\\tconsole.log(\"[SIMPLE] getRecommendPostView2 & asyncCommentForm disabled.\");\\n\\t\\t\\t\\t\\t\\t}\\n\\t\\t\\t\\t\\t\\t$(\"#__tmp_recPostView\").replaceWith(\\'\\');\\n\\t\\t\\t\\t\\t\\treturn;\\n\\t\\t\\t\\t\\t}\\n\\n                    $.ajax({\\n                        url: \"getRecommendPostView2.naver\",\\n                        dataType:\"html\",\\n                        data: {\\n                            volumeNo: \"32158422\",\\n                            memberNo: \"11542122\",\\n                            vType: \"NO_SELECT\",\\n                            searchKeyword: \"\",\\n                            searchRank: \"\",\\n                            mainMenu: \"\"\\n                        },\\n                        success: function(resultHtml){\\n                            if (mug.common.isDev()) {\\n                                console.log(\"asyncGet success!!\");\\n                            }\\n                            $(\"#__tmp_recPostView\").replaceWith(resultHtml);\\n                            $(\".__authorName\").text(\"\\xec\\x8c\\x80\\xec\\x8b\\xa0\");\\n\\n                            if (!!window.__splugin) { //\\xea\\xb0\\x9c\\xec\\x9d\\xb8\\xed\\x99\\x94\\xed\\x94\\x8c\\xeb\\x9f\\xac\\xea\\xb7\\xb8\\xec\\x8b\\xa0 \\xea\\xb0\\xb1\\xec\\x8b\\xa0\\n                                __splugin.init();\\n                            } else {\\n                                mug.common.Sharer.init();\\n                            }\\n                            //new LikeUpdater(1).update();\\t//\\xec\\xa2\\x8b\\xec\\x95\\x84\\xec\\x9a\\x94 \\xea\\xb0\\xb1\\xec\\x8b\\xa0\\n                            !!nhn.LikeIt.list.instance && nhn.LikeIt.list.instance.update();\\n\\n                            var refId = null;\\n                            var elBtnLikeEnd = $(\"#btn_like_end\");\\n                            if(!!elBtnLikeEnd.length) {\\n                                refId = setInterval(function() {\\n                                    var welBtn = $(\"#btn_like_end\");\\n                                    if(welBtn.length > 0 && welBtn.attr(\"data-likeit\") == 1) {\\n                                        !!window.initLikeListBtn && initLikeListBtn();\\n                                        clearInterval(refId);\\n                                    }\\n                                    chanageLikeText();\\n                                }, 100);\\n\\n                            }\\n\\n                            var elPatron = $(\"#patron_wrapper\");\\n                            if(!!elPatron.length) {\\n                                patronInit();\\n                            }\\n\\n                            /**\\n                             * \\xeb\\x8c\\x93\\xea\\xb8\\x80\\xed\\x8f\\xbc\\xec\\x9d\\x84 \\xeb\\xb6\\x88\\xeb\\x9f\\xac\\xec\\x98\\xa8\\xeb\\x8b\\xa4.\\n                             */\\n                            setTimeout(function() {\\n                                $.ajax({\\n                                    url: \"/viewer/asyncCommentForm.naver\",\\n                                    dataType:\"html\",\\n                                    data: {\\n                                        volumeNo: \"32158422\",\\n                                        memberNo: \"11542122\"\\n                                    },\\n                                    success: function(html) {\\n                                        jQuery(\"#__tmp_comment_js\").html(html);\\n                                    }\\n                                });\\n                            }, 200);\\n                        },\\n                        error: function(resp) {\\n                            console.log(resp);\\n                        }\\n                    });\\n                }\\n                function chanageLikeText(){\\n                    $(\\'.__like_sp\\').each(function (i,v) {\\n                        var val = $(v).children().last();\\n                        if(val.text() == \"\\xec\\xa2\\x8b\\xec\\x95\\x84\\xec\\x9a\\x94\"){\\n                            val.text(\"0\");\\n                        }\\n                    });\\n                }\\n                function patronInit(){\\n                    patron.init({\\n                        serviceCode: \"post\",\\n                        categoryId: \"s\",\\n                        productId: \"659654\",\\n                        useServiceCss: true,\\n                        uiType: \"typeA\",\\n                        wrapper: document.getElementById(\"patron_wrapper\"),\\n                        defaultLocale: \"en_US\",\\n                        serviceLocale: \"ko_KR\",\\n                        buttonLabel: \"\",\\n                        patronButtonReady: function() {}\\n                    });\\n                }\\n                $(window).load(function() {\\n                    setTimeout(asyncGet, 200);\\n                });\\n            }(jQuery, window);\\n        });\\n    </script>\\n    <div id=\"__tmp_recPostView\">\\n        <div id=\"more_loading_img\" class=\"loading_t1\" style=\"display:;padding-top:10px\">\\n            <img src=\"https://ssl.pstatic.net/static.post/image/m/im/loader.gif\" width=\"24\" height=\"24\" alt=\"\\xeb\\xa1\\x9c\\xeb\\x94\\xa9\\xec\\xa4\\x91\">\\n        </div>\\n    </div>\\n\\n<script>\\n</script></div>\\r\\n</div>\\r\\n<!-- cont \\xeb\\x81\\x9d -->\\r\\n\\r\\n<div class=\"dim __toggle_sidenav\"></div>\\r\\n</div>\\r\\n<div class=\"btn_area_btm __viewer_footer\">\\r\\n\\t<div class=\"btn_w\">\\r\\n\\t\\t<a href=\"#\" class=\"btn_gnb_prev\" onclick=\"mug.common.util.goBackForNaverApp();return false;\"><i class=\"blind\" aria-hidden=\"true\">\\xec\\x9d\\xb4\\xec\\xa0\\x84\\xed\\x99\\x94\\xeb\\xa9\\xb4\\xec\\x9c\\xbc\\xeb\\xa1\\x9c \\xea\\xb0\\x80\\xea\\xb8\\xb0</i></a>\\r\\n        <div class=\"btn_like\">\\r\\n\\t\\t\\t<div class=\"u_likeit_list_module\">\\r\\n\\t\\t\\t\\t<a href=\"#\" onclick=\"mug.common.nclick(this, \\'men.like\\');\" class=\"u_likeit_list_btn u_type_bright u_none_txt\" role=\"button\" data-sid=\"POST\" data-did=\"POST\" data-cid=\"32158422_11542122\" data-likeit=\"0\" data-rparam=\"\"><span class=\"u_ico\"></span><em class=\"u_txt\"></em><em class=\"u_cnt\"></em></a>\\r\\n\\t\\t\\t</div>\\r\\n\\t\\t</div>\\r\\n\\t\\t<a href=\"/like/likeMembers.naver?volumeNo=32158422&volumeMemberNo=11542122\" class=\"_likeit_btn_more btn_more\" target=\"_self\"><i class=\"btn_s_more\"></i>\\xec\\xa2\\x8b\\xec\\x95\\x84\\xec\\x9a\\x94 \\xed\\x95\\x9c \\xec\\x82\\xac\\xeb\\x9e\\x8c \\xeb\\xb3\\xb4\\xeb\\x9f\\xac\\xea\\xb0\\x80\\xea\\xb8\\xb0</a>\\r\\n\\t\\t<div class=\"btn_comment\"><button onclick=\"mug.common.nclick(this, \\'men.cmt\\'); location.href=\\'/viewer/commentsView.naver?volumeNo=32158422&memberNo=11542122\\'\"><i class=\"btn_s_comment\"></i><p class=\"blind\">\\xeb\\x8d\\xa7\\xea\\xb8\\x80</p><span class=\"__comment_count\"></span></button></div>\\r\\n\\t\\t</div>\\r\\n</div>\\r\\n\\r\\n\\r\\n<!-- [D] \\xed\\x94\\x8c\\xeb\\xa6\\xac\\xed\\x82\\xb9, \\xec\\x8a\\xa4\\xed\\x81\\xac\\xeb\\xa1\\xa4 \\xec\\x95\\x88\\xeb\\x82\\xb4 \\xed\\x86\\xa0\\xec\\x8a\\xa4\\xed\\x8a\\xb8 \\xed\\x8c\\x9d\\xec\\x97\\x85 -->\\r\\n<div class=\"ly_toast toast_s __toast __toast_v\" style=\"display:none\">\\r\\n\\t<img src=\"https://ssl.pstatic.net/static.post/image/im/end/toast_scroll_150611.png\" alt=\"\\xec\\x83\\x81\\xed\\x95\\x98\\xeb\\xa1\\x9c \\xec\\x8a\\xa4\\xed\\x81\\xac\\xeb\\xa1\\xa4 \\xed\\x95\\x98\\xec\\x84\\xb8\\xec\\x9a\\x94\">\\r\\n</div>\\r\\n<!-- //[D] \\xed\\x94\\x8c\\xeb\\xa6\\xac\\xed\\x82\\xb9, \\xec\\x8a\\xa4\\xed\\x81\\xac\\xeb\\xa1\\xa4 \\xec\\x95\\x88\\xeb\\x82\\xb4 \\xed\\x86\\xa0\\xec\\x8a\\xa4\\xed\\x8a\\xb8 \\xed\\x8c\\x9d\\xec\\x97\\x85 -->\\r\\n<script type=\"text/javascript\" src=\"https://ssl.pstatic.net/static.editor/static/viewer/common/se_init.min.js?fddda9205f-20210713162300\"></script>\\r\\n<script type=\"text/javascript\" src=\"https://ssl.pstatic.net/static.post/static/m/202108181704/js/min/post_m_base.js\"></script>\\n\\t<script type=\"text/javascript\">\\nfunction __fnExecMugFnList__() {\\n\\tif (!!window.__mugFnList__ && __mugFnList__.length > 0) {\\n\\t\\tfor (var i = 0, len = __mugFnList__.length; i < len; i++) {\\n\\t\\t\\tif (typeof __mugFnList__[i] == \"function\") {\\n\\t\\t\\t\\t__mugFnList__[i]();\\n\\t\\t\\t\\t__mugFnList__[i] = null;\\n\\t\\t\\t}\\n\\t\\t}\\n\\t}\\n}\\n__fnExecMugFnList__();\\n</script>\\n<script type=\"text/javascript\" src=\"https://common.like.naver.com/static/js/likeIt.list.js?v=202108200910\"></script>\\n<script>\\n    var __likeWebUrl__ = \"https://common.like.naver.com\";\\n</script>\\n<script type=\"text/javascript\" src=\"https://ssl.pstatic.net/static.post/static/m/202108181704/js/min/viewer/webViewer_like_tag_scripts_run_common.js\"></script>\\n<script type=\"text/javascript\" src=\"https://ssl.pstatic.net/static.post/static/m/202108181704/js/min/viewer/webViewer_like_tag_scripts_run.js\"></script>\\n<script type=\"text/x-mug-layer-template\" id=\"__template_editor_warning\">\\n<div class=\"__template_editor_warning\"> <div class=\"popup_w pop_link app_link\" style=\"display:block;\"> <div class=\"popup\"> <div class=\"pop_cont\"> \\xed\\x8f\\xac\\xec\\x8a\\xa4\\xed\\x8a\\xb8\\xec\\x95\\xb1/PC\\xec\\x97\\x90\\xec\\x84\\x9c \\xec\\x9e\\x91\\xec\\x84\\xb1\\xed\\x95\\x9c \\xea\\xb8\\x80\\xec\\x9d\\x80<br/> \\xeb\\xaa\\xa8\\xeb\\xb0\\x94\\xec\\x9d\\xbc\\xec\\x9b\\xb9\\xec\\x97\\x90\\xec\\x84\\x9c \\xec\\x88\\x98\\xec\\xa0\\x95\\xed\\x95\\xa0 \\xec\\x88\\x98 \\xec\\x97\\x86\\xec\\x8a\\xb5\\xeb\\x8b\\x88\\xeb\\x8b\\xa4.<br/> \\xed\\x8f\\xac\\xec\\x8a\\xa4\\xed\\x8a\\xb8\\xec\\x95\\xb1\\xec\\x97\\x90\\xec\\x84\\x9c \\xec\\x88\\x98\\xec\\xa0\\x95\\xed\\x95\\x98\\xec\\x8b\\x9c\\xea\\xb2\\xa0\\xec\\x8a\\xb5\\xeb\\x8b\\x88\\xea\\xb9\\x8c? <button type=\"button\" class=\"btn_t1\" onclick=\"window.top.location.href=\\'https://post.naver.com/appLauncher.naver?scheme=open%3FvolumeNo%3D{=volumeNo}%26memberNo%3D{=memberNo}%26version%3D1\\'; return false;\"><span>\\xec\\x95\\xb1\\xec\\x97\\x90\\xec\\x84\\x9c \\xec\\x88\\x98\\xec\\xa0\\x95\\xed\\x95\\x98\\xea\\xb8\\xb0</span></button> </div> <button class=\"btn_close\" onclick=\"jQuery(\\'.__template_editor_warning\\').remove(); return false;\"><i class=\"blind\">\\xed\\x8c\\x9d\\xec\\x97\\x85\\xeb\\x8b\\xab\\xea\\xb8\\xb0</i></button> </div> </div> <div class=\"dim on\"></div> </div></script>\\n<script type=\"text/x-mug-layer-template\" id=\"__template_popular_editor_follow_MYFEED\">\\n\\t<div class=\"__template_popular_editor_follow\"> <div class=\"popup_layer layer_myfeed_follow\"> <div class=\"cont_area\"> <div class=\"spot\"> <img src=\"https://ssl.pstatic.net/static.post/image/im/layer_myfeed_171129.jpg\" alt=\"\"> </div> <div class=\"cont\"> \\xed\\x8c\\x94\\xeb\\xa1\\x9c\\xec\\x9a\\xb0\\xed\\x95\\x98\\xec\\x85\\xa8\\xea\\xb5\\xb0\\xec\\x9a\\x94! <br/>\\xeb\\x8b\\xa4\\xec\\x9d\\x8c \\xea\\xb8\\x80\\xec\\x9d\\x80 <em>\\xeb\\x84\\xa4\\xec\\x9d\\xb4\\xeb\\xb2\\x84\\xed\\x99\\x88 MY\\xea\\xb5\\xac\\xeb\\x8f\\x85</em>\\xec\\x97\\x90\\xec\\x84\\x9c <br/> \\xec\\x89\\xbd\\xea\\xb2\\x8c \\xeb\\xb0\\x9b\\xec\\x95\\x84\\xeb\\xb3\\xb4\\xec\\x84\\xb8\\xec\\x9a\\x94. </div> </div> <div class=\"btn_area\"> <a href=\"#\" class=\"btn\" onclick=\"mug.common.nclick(this, \\'mfo.close\\');jQuery(\\'.__template_popular_editor_follow\\').remove(); return false;\">\\xeb\\x8b\\xab\\xea\\xb8\\xb0</a> <a href=\"#\" class=\"btn\" onclick=\"mug.common.nclick(this, \\'mfo.add\\');mug.contents.util.applyMyFeedNoti(\\'11542122\\', \\'\\');\">\\xed\\x99\\x95\\xec\\x9d\\xb8</a> </div> </div> <div class=\"dim on\" onclick=\"mug.common.nclick(this, \\'mfo.close\\');jQuery(\\'.__template_popular_editor_follow\\').remove(); return false;\"></div> </div></script>\\n\\n<script type=\"text/x-mug-layer-template\" id=\"__template_popular_editor_follow_MYFEED_2nd\">\\n\\t<div class=\"__template_popular_editor_follow\"> <div class=\"popup_layer layer_myfeed\"> <div class=\"cont_area\"> <div class=\"spot\"> <img src=\"https://ssl.pstatic.net/static.post/image/im/layer_myfeed_171129.jpg\" alt=\"\\xed\\x8c\\x94\\xeb\\xa1\\x9c\\xec\\x9a\\xb0\\xed\\x95\\x98\\xea\\xb3\\xa0 MY\\xea\\xb5\\xac\\xeb\\x8f\\x85\\xec\\x9c\\xbc\\xeb\\xa1\\x9c \\xeb\\xb0\\x9b\\xec\\x95\\x84\\xeb\\xb3\\xb4\\xec\\x84\\xb8\\xec\\x9a\\x94.\"> </div> <div class=\"cont\"> <em>\\xec\\x8c\\x80\\xec\\x8b\\xa0</em>\\xeb\\x8b\\x98\\xec\\x9d\\x98 \\xed\\x8f\\xac\\xec\\x8a\\xa4\\xed\\x8a\\xb8\\xeb\\xa5\\xbc <br/> \\xeb\\x84\\xa4\\xec\\x9d\\xb4\\xeb\\xb2\\x84\\xed\\x99\\x88\\xec\\x97\\x90\\xec\\x84\\x9c \\xeb\\xb0\\x9b\\xec\\x95\\x84\\xeb\\xb3\\xb4\\xea\\xb8\\xb0 </div> <div class=\"description\">\\xed\\x8c\\x94\\xeb\\xa1\\x9c\\xec\\x9a\\xb0\\xed\\x95\\x98\\xea\\xb3\\xa0 MY\\xea\\xb5\\xac\\xeb\\x8f\\x85\\xec\\x9c\\xbc\\xeb\\xa1\\x9c \\xeb\\xb0\\x9b\\xec\\x95\\x84\\xeb\\xb3\\xb4\\xec\\x84\\xb8\\xec\\x9a\\x94.</div> </div> <div class=\"btn_area\"> <a href=\"#\" class=\"btn\" onclick=\"mug.common.nclick(this, \\'mfo.close2\\');jQuery(\\'.__template_popular_editor_follow\\').remove(); return false;\">\\xec\\xb7\\xa8\\xec\\x86\\x8c</a> <a href=\"#\" class=\"btn\" onclick=\"mug.common.nclick(this, \\'mfo.add2\\');mug.contents.util.followAndMyFeedNoti(\\'11542122\\', \\'\\', myFeedKey);\">\\xed\\x99\\x95\\xec\\x9d\\xb8</a> </div> </div> <div class=\"dim on\" onclick=\"mug.common.nclick(this, \\'mfo.close2\\');jQuery(\\'.__template_popular_editor_follow\\').remove(); return false;\"></div> </div></script>\\n<script type=\"text/javascript\" src=\"https://ssl.pstatic.net/static.post/static/m/202108181704/js/min/renewal/nil.js\"></script>\\r\\n<script type=\"text/javascript\">\\n!function($, window, document) {\\n\\tfunction __closeOverflowMenu(delay) {\\n\\t\\t$(document.body).off(\"click\", __closeOverflowMenuEventHandler);\\n\\t\\tdelay = delay || 0;\\n\\n\\t\\tvar fn = function(){\\n\\t\\t\\tvar wel = $(\".ly_more.__gnb_overview_menu\");\\n\\t\\t\\twel.removeClass(\"on\");\\n            wel.siblings(\"button\").attr(\"aria-expanded\", \"false\");\\n\\t\\t\\twel.hasClass(\"on\") ? wel.show() : wel.hide();\\n\\t\\t};\\n\\n\\t\\tif (/Android 4\\\\.0\\\\./g.test(window.navigator.userAgent)) {\\n\\t\\t\\tfn();\\n\\t\\t} else {\\n\\t\\t\\tsetTimeout(fn, delay);\\n\\t\\t}\\n\\t}\\n\\twindow.__closeOverflowMenu = __closeOverflowMenu;\\n\\n\\n\\tfunction __closeOverflowMenuEventHandler(ev) {\\n\\t\\tif ($(ev.target).parents(\".__gnb_overview_menu\").length > 0) {\\t//\\xed\\x81\\xb4\\xeb\\xa6\\xad\\xed\\x95\\x9c \\xec\\x97\\x98\\xeb\\xa6\\xac\\xeb\\xa8\\xbc\\xed\\x8a\\xb8\\xea\\xb0\\x80 \\xeb\\xa9\\x94\\xeb\\x89\\xb4\\xeb\\xb0\\x94\\xeb\\x82\\xb4 \\xec\\x9a\\x94\\xec\\x86\\x8c\\xec\\x9d\\xb8 \\xea\\xb2\\xbd\\xec\\x9a\\xb0\\xeb\\x8a\\x94 \\xeb\\x8b\\xab\\xec\\xa7\\x80\\xec\\x95\\x8a\\xea\\xb3\\xa0 \\xec\\x9c\\xa0\\xec\\xa7\\x80.\\n\\t\\t\\treturn;\\n\\t\\t}\\n\\t\\t__closeOverflowMenu();\\n\\t}\\n\\twindow.__closeOverflowMenuEventHandler = __closeOverflowMenuEventHandler;\\n\\n\\tfunction __toggleOverflowMenu(delay) {\\n\\t\\ttry {\\n\\t\\t\\tif (__viewer.mode == \"preview\") {\\n\\t\\t\\t\\treturn;\\n\\t\\t\\t}\\n\\t\\t} catch(e) {}\\n\\t\\tdelay = delay || 0;\\n\\n\\t\\tvar fn = function() {\\n\\t\\t\\tvar wel = $(\".ly_more.__gnb_overview_menu\");\\n\\t\\t\\twel.toggleClass(\"on\");\\n\\t\\t\\tif (wel.hasClass(\"on\")) {\\n                wel.siblings(\"button\").attr(\"aria-expanded\", \"true\");\\n\\t\\t\\t\\twel.show();\\n\\n\\t\\t\\t\\t//\\xeb\\xb7\\xb0\\xec\\x96\\xb4 \\xeb\\xa9\\x94\\xeb\\x89\\xb4\\xeb\\xb0\\x94 \\xec\\x8a\\xa4\\xed\\x81\\xac\\xeb\\xa6\\xbd\\xed\\x8a\\xb8\\xec\\x97\\x90\\xec\\x84\\x9c \\xec\\xb2\\x98\\xeb\\xa6\\xac\\xed\\x95\\x98\\xea\\xb3\\xa0 \\xec\\x9e\\x88\\xec\\x9c\\xbc\\xeb\\xaf\\x80\\xeb\\xa1\\x9c \\xec\\xa3\\xbc\\xec\\x84\\x9d\\xec\\xb2\\x98\\xeb\\xa6\\xac\\n\\t\\t\\t\\tsetTimeout(function() {\\n\\t\\t\\t\\t\\t$(document.body).on(\"click\", __closeOverflowMenuEventHandler); // \\xeb\\xb0\\x94\\xeb\\xa1\\x9c event attach\\xed\\x95\\x98\\xeb\\xa9\\xb4 \\xec\\x9d\\xb4\\xeb\\xb2\\xa4\\xed\\x8a\\xb8 \\xed\\x95\\xb8\\xeb\\x93\\xa4\\xeb\\x9f\\xac\\xea\\xb9\\x8c\\xec\\xa7\\x80 \\xec\\x8b\\xa4\\xed\\x96\\x89\\xeb\\x90\\x98\\xec\\x96\\xb4 \\xeb\\xb0\\x94\\xeb\\xa1\\x9c \\xeb\\x8b\\xab\\xed\\x9e\\x88\\xea\\xb2\\x8c \\xeb\\x90\\x9c\\xeb\\x8b\\xa4;;;\\n\\t\\t\\t\\t}, 0);\\n\\t\\t\\t} else {\\n\\t\\t\\t\\t__closeOverflowMenu();\\n\\t\\t\\t}\\n\\t\\t};\\n\\n\\t\\tif (/Android 4\\\\.0\\\\./g.test(window.navigator.userAgent)) {\\n\\t\\t\\tfn();\\n\\t\\t} else {\\n\\t\\t\\tsetTimeout(fn, delay);\\n\\t\\t}\\n\\t}\\n\\twindow.__toggleOverflowMenu = __toggleOverflowMenu;\\n\\n\\t$(\".btn_overflow_menu\").on(\"click\", function() {\\n\\t\\t__toggleOverflowMenu();\\n\\t});\\n\\t$(\"#header .gnb button.__series\").on(\"click\", function(ev) {\\n\\t\\tev.preventDefault();\\n\\t\\tlocation.href = \"/my/series/detail.naver?seriesNo=659654&memberNo=11542122&prevVolumeNo=32158422\";\\n\\t});\\n\\n\\n\\t\\n}(jQuery, window, document);\\n</script>\\n<script type=\"text/javascript\">\\n\\t(function($, document, window) {\\n\\t\\tvar bInitFollowingStatus = false;\\n\\t\\t\\n\\t\\tfunction refreshFollowBtnsForSE3(bIsFollowingAuthor) {\\t\\n\\t\\t\\t//console.log(\"refreshFollowBtnsForSE3 : bIsFollowingAuthor = \" + bIsFollowingAuthor);\\n\\t\\t\\tvar bIsFlw = bInitFollowingStatus;\\n\\t\\t\\tif (bIsFollowingAuthor != null) {\\n\\t\\t\\t\\tbIsFlw = bInitFollowingStatus = bIsFollowingAuthor;\\n\\t\\t\\t}\\n\\t\\t\\t\\n\\t\\t\\tvar elSe3btn = $(\".__se3_follow_btn\");\\t//\\xec\\x8b\\xa0\\xea\\xb7\\x9c se3\\xeb\\xb2\\x84\\xed\\x8a\\xbc\\n\\t\\t\\tvar elSe3Statbtn = $(\".__se3_stat_btn\");\\t//\\xec\\x8b\\xa0\\xea\\xb7\\x9c se3\\xeb\\xb2\\x84\\xed\\x8a\\xbc\\n\\t\\t\\tvar elGnbFollowBtn = $(\".__followAnchor\");\\t//\\n\\t\\t\\tvar elGnbUnFollowBtn = $(\".__unfollowAnchor\");\\n\\t\\t\\tif (elGnbFollowBtn.length > 0 && elSe3btn.length > 0) {\\n\\t\\t\\t\\tif (!!bIsFlw) {\\t//\\xed\\x8c\\x94\\xeb\\xa1\\x9c\\xec\\x9e\\x89\\xec\\x83\\x81\\xed\\x83\\x9c\\n\\t\\t\\t\\t\\telSe3btn.addClass(\"on\");\\n\\t\\t\\t\\t\\telSe3btn.find(\".se_card_btn_txt\").text(\"\\xed\\x8c\\x94\\xeb\\xa1\\x9c\\xec\\x9e\\x89\");\\n\\t\\t\\t\\t\\tif (elSe3btn.hasClass(\"__card_start_follow\") == false) { //se3 \\xec\\xb9\\xb4\\xeb\\x93\\x9c\\xed\\x98\\x95 \\xec\\xbb\\xa4\\xeb\\xb2\\x84\\xec\\x9d\\xbc \\xea\\xb2\\xbd\\xec\\x9a\\xb0 \\xeb\\xb0\\x94\\xea\\xbe\\xb8\\xec\\xa7\\x80 \\xec\\x95\\x8a\\xec\\x9d\\x8c. span \\xeb\\xa7\\x88\\xed\\x81\\xac\\xec\\x97\\x85\\xec\\x9d\\xb4 \\xeb\\x82\\xa8\\xec\\x95\\x84 \\xec\\x9e\\x88\\xeb\\x8b\\xa4.\\n\\t\\t\\t\\t\\t\\telSe3btn.text(\"\\xed\\x8c\\x94\\xeb\\xa1\\x9c\\xec\\x9e\\x89\");\\n\\t\\t\\t\\t\\t}\\n\\t\\t\\t\\t\\telSe3btn.each(function(idx){\\n\\t\\t\\t\\t\\t\\tthis.onclick = function() {\\n\\t\\t\\t\\t\\t\\t\\tvar sNclickKey = $(this).attr(\"data-nclickkey\");\\n\\t\\t\\t\\t\\t\\t\\tif (!sNclickKey) {\\n\\t\\t\\t\\t\\t\\t\\t\\tsNclickKey = \"tit.unfollow\";\\n\\t\\t\\t\\t\\t\\t\\t}\\n\\t\\t\\t\\t\\t\\t\\tmug.common.nclick(elSe3btn[0], sNclickKey);\\n\\t\\t\\t\\t\\t\\t\\telGnbUnFollowBtn.click();\\n\\t\\t\\t\\t\\t\\t\\treturn false;\\n\\t\\t\\t\\t\\t\\t}\\n\\t\\t\\t\\t\\t});\\n\\t\\t\\t\\t} else {\\n\\t\\t\\t\\t\\telSe3btn.removeClass(\"on\");\\n\\t\\t\\t\\t\\telSe3btn.find(\".se_card_btn_txt\").text(\"\\xed\\x8c\\x94\\xeb\\xa1\\x9c\\xec\\x9a\\xb0\");\\n\\t\\t\\t\\t\\tif (elSe3btn.hasClass(\"__card_start_follow\") == false) { //se3 \\xec\\xb9\\xb4\\xeb\\x93\\x9c\\xed\\x98\\x95 \\xec\\xbb\\xa4\\xeb\\xb2\\x84\\xec\\x9d\\xbc \\xea\\xb2\\xbd\\xec\\x9a\\xb0 \\xeb\\xb0\\x94\\xea\\xbe\\xb8\\xec\\xa7\\x80 \\xec\\x95\\x8a\\xec\\x9d\\x8c. span \\xeb\\xa7\\x88\\xed\\x81\\xac\\xec\\x97\\x85\\xec\\x9d\\xb4 \\xeb\\x82\\xa8\\xec\\x95\\x84 \\xec\\x9e\\x88\\xeb\\x8b\\xa4.\\n\\t\\t\\t\\t\\t\\telSe3btn.text(\"\\xed\\x8c\\x94\\xeb\\xa1\\x9c\\xec\\x9a\\xb0\");\\n\\t\\t\\t\\t\\t}\\n\\t\\t\\t\\t\\telSe3btn.each(function(idx){\\n\\t\\t\\t\\t\\t\\tthis.onclick = function() {\\n\\t\\t\\t\\t\\t\\t\\tvar sNclickKey = $(this).attr(\"data-nclickkey\");\\n\\t\\t\\t\\t\\t\\t\\tif (!sNclickKey) {\\n\\t\\t\\t\\t\\t\\t\\t\\tsNclickKey = \"tit.follow\";\\n\\t\\t\\t\\t\\t\\t\\t}\\n\\t\\t\\t\\t\\t\\t\\tmug.common.nclick(elSe3btn[0], sNclickKey);\\n\\t\\t\\t\\t\\t\\t\\telGnbFollowBtn.click();\\n\\t\\t\\t\\t\\t\\t\\treturn false;\\n\\t\\t\\t\\t\\t\\t}\\n\\t\\t\\t\\t\\t});\\n\\t\\t\\t\\t}\\n\\t\\t\\t}\\n\\t\\t\\t\\n\\t\\t\\tmug.$.UserAgent.isMobile && elSe3btn.show();\\n\\t\\t\\t\\n\\t\\t}\\n\\t\\t$(window).on(\"viewerLoad\", function(){\\n\\t\\t\\trefreshFollowBtnsForSE3();\\n\\t\\t\\tmug.common.Sharer.init();\\n\\t\\t});\\n\\t\\twindow.refreshFollowBtnsForSE3 = refreshFollowBtnsForSE3;\\n\\t})(jQuery, document, window);\\n</script><script type=\"text/javascript\" src=\"https://ssl.pstatic.net/static.post/static/m/202108181704/js/min/post_se3_viewer.js\"></script>\\n<script type=\"text/javascript\">\\r\\nwindow.__volumeMetaJson = {\\r\\n\\tvolumeStatusType: \"PUBLISHED\"\\r\\n};\\r\\n(function($, document, window) {\\r\\n\\tmug.viewer.se3.SimpleViewer.init({\\r\\n\\t\\tvolumeNo: 32158422,\\r\\n\\t\\tauthorNo: 11542122,\\r\\n\\t\\tprotectType: \"0\",\\r\\n\\t\\tdeviceType: \"desktop\",\\r\\n\\t\\tstickerDomain: \"http://m.gfmarket.naver.com\",\\r\\n\\t\\tisViewRestrictionLayer: \\'false\\',\\r\\n\\t\\tstatUrl: \\'https://post.stat.naver.com/post/article/32158422/cv\\',\\r\\n\\t\\tisAuthorSelf: \"false\"\\r\\n\\t});\\r\\n})(jQuery, document, window);\\r\\n</script>\\r\\n\\r\\n<script type=\"text/javascript\">\\r\\n\\tmug.common._nilSendInfo = {\\r\\n\\t\\t\"channelId\" : \\'11542122\\',\\r\\n\\t\\t\"gdid\" : \\'00055f7ca0_0001eab2d6\\',\\r\\n\\t\\t\"volumeNo\" : \\'32158422\\',\\r\\n\\t\\t\"isAuthorSelf\" : \\'false\\',\\r\\n\\t\\t\"isFollowingAuthor\" :  \\'false\\',\\r\\n\\t\\t\"eventCategory\" : \\'post_view\\',\\r\\n\\t\\t\"seriesNo\" : \\'659654\\'\\r\\n\\t}\\r\\n</script>\\r\\n<script type=\"text/javascript\" src=\"https://ssl.pstatic.net/static.post/static/m/202108181704/js/min/renewal/mug.common.nil.js\"></script>\\r\\n<script type=\"text/x-mug-layer-template\" id=\"__custom_alert_layer_template\">\\n\\t<div class=\"ly_msg\" id=\"__custom_alert_layer\" style=\"z-index:5000;display:none;position:fixed;display:block;-webkit-animation:disappear {=duration}s ease-in-out;-webkit-animation-fill-mode:forwards\">\\n\\t\\t<span>{=message}</span>\\n\\t</div>\\n</script>\\n\\n<script type=\"text/javascript\" src=\"https://ssl.pstatic.net/static.post/static/m/202108181704/js/min/renewal/gnbhandler.js\"></script>\\n\\n\\n\\n<script type=\"text/javascript\">\\n!function($) {\\n\\t__appHeaderParams__=\"\";lcs_do();window.nsc=\"Mpost.home\";window.ccsrv=\"cc.naver.com\";$(window).load(function(){});mug.common.util.attachOnError();\\n\\n\\t$(document).ready(function() {\\n\\t\\t\\n\\t\\tif (!mug.$.UserAgent.isInapp && !!window.GnbHandler) {\\n\\t\\t\\tnew GnbHandler().start();\\n\\t\\t}\\n\\t});\\n\\n}(jQuery);\\n\\n</script>\\n<script type=\"text/javascript\" src=\"https://ssl.pstatic.net/static.post/static/m/202108181704/js/min/lib/splog_m.js\"></script>\\n<script type=\"text/javascript\">\\n\\tvar splog_url = \"https://sp.naver.com/sp\";\\n\\tBMR.run(splog_url);\\n</script>\\n<script type=\"text/javascript\">\\r\\n\\twindow.nsc = \"Mpost.viewer\";\\r\\n</script>\\r\\n</body>\\r\\n</html>'\n"
     ]
    }
   ],
   "source": [
    "import requests\n",
    "from bs4 import BeautifulSoup\n",
    "#필요한 도구들\n",
    "\n",
    "res = requests.get('https://post.naver.com/viewer/postView.naver?volumeNo=32158422&memberNo=11542122')\n",
    "print(res.content)\n",
    "#주소로 url 파일 얻음\n",
    "soup = BeautifulSoup(res.content, 'html.parser') \n",
    "# url 분석 (parsing)\n",
    "mydata = soup.find('title')\n",
    "# 찾을 데이터 지정, 이후 알아서 분석 해보자ㅐ\n",
    "print(mydata.get_text())"
   ]
  },
  {
   "cell_type": "code",
   "execution_count": null,
   "id": "f9b6d3b5",
   "metadata": {},
   "outputs": [],
   "source": [
    "import requests\n",
    "from bs4 import BeautifulSoup\n",
    "#여기는 무조건 사용하는 코드(동일코드)\n",
    "res = requests.get('https://post.naver.com/viewer/postView.naver?volumeNo=32158422&memberNo=11542122')\n",
    "print(res.content)\n",
    "soup = BeautifulSoup(res.content, 'html.parser') \n",
    "mydata = soup.find('title')\n",
    "print(mydata.get_text())"
   ]
  },
  {
   "cell_type": "code",
   "execution_count": null,
   "id": "fe48b884",
   "metadata": {},
   "outputs": [],
   "source": [
    "<!DOCTYPE html>\n",
    "<html>\n",
    "\t<head>##제목과 여러 파일 관련 설정을 저장하는 공간\n",
    "\t\t<title>This is the K-Title</title>\n",
    "\t\t<meta charset=\"utf-8\">\n",
    "\t</head>\n",
    "\t<body>## 본문 내용\n",
    "\t\t<b>안녕하세요</b><br>\n",
    "\t\t<img src = 'C:\\Users\\YoungMin\\Desktop\\PyTorch-YOLOv3-master\\data\\samples\\dog.jpg'  id=\"firstpicture\" width=\"250\" height=\"200\" id=\"dog1\"><br>\n",
    "\t\t<img src = 'C:\\Users\\YoungMin\\Desktop\\PyTorch-YOLOv3-master\\data\\samples\\dog.jpg'  width = '250' heigth='250' id=\"dog2\"><br>\n",
    "## 여러가지를 넣을 수 있다. 주의** 태그를 넣을때는 띄어쓰기를 반드시 해주자\n",
    "##나머지는 시스템에서 보조 해주기 때문에 매우 편하게 작성하도록 하자\n",
    "        <table border=\"3\">\n",
    "\t\t\t<thead>\n",
    "\t\t\t\t<tr>\n",
    "\t\t\t\t\t<th>Titlewiki</th>\n",
    "\t\t\t\t\t<th>Itisboringnow</th>\n",
    "\t\t\t\t</tr>\n",
    "\t\t\t</thead>\n",
    "\t\t\t<tbody>\n",
    "\t\t\t\t<tr>\n",
    "\t\t\t\t\t<td>this is android</td>\n",
    "\t\t\t\t\t<td>this is Korean Gatkimchi</td>\n",
    "\t\t\t\t</tr>\n",
    "\t\t\t\t<tr>\n",
    "\t\t\t\t\t<td>wouldlikesome kimchi?</td>\n",
    "\t\t\t\t\t<td>김치레아맛좀 봐라</td>\n",
    "\t\t\t\t</tr>\n",
    "\t\t\t</tbody>\n",
    "\t\t</table>\n",
    "\n",
    "\n",
    "\t</body>\n",
    "</html>\n",
    "\n",
    "\n"
   ]
  },
  {
   "cell_type": "code",
   "execution_count": 21,
   "id": "67d637af",
   "metadata": {},
   "outputs": [
    {
     "name": "stdout",
     "output_type": "stream",
     "text": [
      "<p class=\"cssstyle\"> 웹페이지에서필요한 데이터를 추출하는 것</p>\n",
      " 웹페이지에서필요한 데이터를 추출하는 것\n",
      " 웹페이지에서필요한 데이터를 추출하는 것\n",
      "[<p class=\"cssstyle\"> 웹페이지에서필요한 데이터를 추출하는 것</p>, <p align=\"center\" id=\"body\">파이썬을 중심으로 다양한 웹크롤링 기술 발달</p>]\n",
      " 웹페이지에서필요한 데이터를 추출하는 것\n",
      "파이썬을 중심으로 다양한 웹크롤링 기술 발달\n"
     ]
    }
   ],
   "source": [
    "from bs4 import BeautifulSoup\n",
    "html = \"\"\"\n",
    "<html>\n",
    "    <head>\n",
    "        <meta charset=\"utf-8\">\n",
    "    </head>\n",
    "    <body>\n",
    "        <h1 id='title'>[1]크롤링이란</h1>\n",
    "        <p class='cssstyle'> 웹페이지에서필요한 데이터를 추출하는 것</p>\n",
    "        <p id ='body' align='center'>파이썬을 중심으로 다양한 웹크롤링 기술 발달</p>\n",
    "        <b>안녕하세요</b>\n",
    "    </body>\n",
    "</html>\n",
    "\"\"\"\n",
    "\n",
    "soup = BeautifulSoup(html, 'html.parser')\n",
    "#태그로 검색하기\n",
    "data = soup.find('p')# 제일 앞에 있는 p값을 가져온다\n",
    "print(data) # 앞뒤의 태그들도 풑어온다 \n",
    "print(data.string) \n",
    "print(data.get_text()) #둘다 기능은 동일하지만 text가 좀 더 잘 작동한다. 태그 없애고 내용만\n",
    "all_data = soup.find_all('p')\n",
    "print(all_data)#태그포함 모든 것 #예는 순서 상관없이 모두 찾아준다 다만, 리스트는 string으로 변환 불가능 (위의 코드 적용 x)\n",
    "for data in all_data:\n",
    "    print(data.get_text())\n"
   ]
  },
  {
   "cell_type": "code",
   "execution_count": 17,
   "id": "1ac140f3",
   "metadata": {},
   "outputs": [],
   "source": [
    "#특정 태그 검색\n",
    "\n",
    "data = soup.find('p',class_='cssstyle')\n",
    "data = soup.find('p','cssstyle') # 뒤에 머 안붙으면 class 지정임\n",
    "data = soup.find('p',attrs = {'align':'center'})\n",
    "data1 = soup.find(id = 'body') #id로 검색"
   ]
  },
  {
   "cell_type": "code",
   "execution_count": 19,
   "id": "cc42c6b1",
   "metadata": {},
   "outputs": [
    {
     "name": "stdout",
     "output_type": "stream",
     "text": [
      "파이썬을 중심으로 다양한 웹크롤링 기술 발달\n"
     ]
    }
   ],
   "source": [
    "print(data1.get_text())"
   ]
  },
  {
   "cell_type": "markdown",
   "id": "fbc14c20",
   "metadata": {},
   "source": [
    "css 파일 head에 적용할 수도 있고, 기타 등등 태그에 스타일을 적용하는 것이다. #head에다가 적으면 전체 동일 태그에는 같은 스타일 적용됨\n",
    "head에 설정된 사항은 하부 태그에 전부 적용되고 추가적으로 설정한 것이 더해지는 것이다.\n",
    "너무 많아 지기에, 이제 css 파일을 하나 만들어서 불러오기 방식으로 적용\n",
    "class 는 css 파일과 같이 외부에 저장된 명령을 불러오는 것이다. .class {~} 결국 세세히 적용되는 것은 class이기에 class를 바탕으로 검색하는 방법이 더욱 유리하게 데이터를 찾을 수 있다.\n",
    "그리고 주로 class는 내용의 역할에 따라 부여하는 경우가 대다수(스타일 통일을 위해)b"
   ]
  },
  {
   "cell_type": "code",
   "execution_count": 63,
   "id": "775983fe",
   "metadata": {},
   "outputs": [
    {
     "name": "stdout",
     "output_type": "stream",
     "text": [
      "(왕초보) - 클래스 소개\n",
      "(왕초보) - 블로그 개발 필요한 준비물 준비하기\n",
      "(왕초보) - Github pages 설정해서 블로그 첫 페이지 만들어보기\n",
      "(왕초보) - 초간단 페이지 만들어보기\n",
      "(왕초보) - 이쁘게 테마 적용해보기\n",
      "(왕초보) - 마크다운 기초 이해하고, 실제 나만의 블로그 페이지 만들기\n",
      "(왕초보) - 다양한 마크다운 기법 익혀보며, 나만의 블로그 페이지 꾸며보기\n",
      "(초급) - 강사가 실제 사용하는 자동 프로그램 소개 [2]\n",
      "(초급) - 필요한 프로그램 설치 시연 [5]\n",
      "(초급) - 데이터를 엑셀 파일로 만들기 [9]\n",
      "(초급) -     엑셀 파일 이쁘게! 이쁘게! [8]\n",
      "(초급) -     나대신 주기적으로 파이썬 프로그램 실행하기 [7]\n",
      "(초급) - 파이썬으로 슬랙(slack) 메신저에 글쓰기 [40]\n",
      "(초급) - 웹사이트 변경사항 주기적으로 체크해서, 메신저로 알람주기 [12]\n",
      "(초급) - 네이버 API 사용해서, 블로그에 글쓰기 [42]\n",
      "(중급) - 자동으로 쿠팡파트너스 API 로 가져온 상품 정보, 네이버 블로그/트위터에 홍보하기 [412]\n"
     ]
    }
   ],
   "source": [
    "import requests\n",
    "from bs4 import BeautifulSoup\n",
    "#여기는 무조건 사용하는 코드(동일코드)\n",
    "res = requests.get('https://davelee-fun.github.io/blog/crawl_test_css.html')\n",
    "soup = BeautifulSoup(res.content, 'html.parser') \n",
    "mydata = soup.find_all('li', 'course') #앞의 태그를 추가해서 굳이 class 명시 안해줘도 된다 \n",
    "for i in mydata:\n",
    "    print(i.get_text())"
   ]
  },
  {
   "cell_type": "code",
   "execution_count": 48,
   "id": "85764c2d",
   "metadata": {},
   "outputs": [
    {
     "name": "stdout",
     "output_type": "stream",
     "text": [
      "(초급) - 강사가 실제 사용하는 자동 프로그램 소개 [2]\n",
      "(초급) - 필요한 프로그램 설치 시연 [5]\n",
      "(초급) - 데이터를 엑셀 파일로 만들기 [9]\n",
      "(초급) -     엑셀 파일 이쁘게! 이쁘게! [8]\n",
      "(초급) -     나대신 주기적으로 파이썬 프로그램 실행하기 [7]\n",
      "(초급) - 파이썬으로 슬랙(slack) 메신저에 글쓰기 [40]\n",
      "(초급) - 웹사이트 변경사항 주기적으로 체크해서, 메신저로 알람주기 [12]\n",
      "(초급) - 네이버 API 사용해서, 블로그에 글쓰기 [42]\n",
      "(중급) - 자동으로 쿠팡파트너스 API 로 가져온 상품 정보, 네이버 블로그/트위터에 홍보하기 [412]\n"
     ]
    }
   ],
   "source": [
    "import requests\n",
    "from bs4 import BeautifulSoup\n",
    "res = requests.get (\"https://davelee-fun.github.io/blog/crawl_test_css.html\")\n",
    "soup = BeautifulSoup(res.content, 'html.parser')\n",
    "data = soup.find('ul',id='dev_course_list')#큰거부터 작은거로 접근, 범위를 쉽게 제한할 수 있다.\n",
    "data1 = data.find_all(\"li\",'course')\n",
    "for i in data1:\n",
    "    print(i.get_text())"
   ]
  },
  {
   "cell_type": "code",
   "execution_count": 60,
   "id": "f9483e73",
   "metadata": {},
   "outputs": [
    {
     "name": "stdout",
     "output_type": "stream",
     "text": [
      "0. 강사가 실제 사용하는 자동 프로그램 소개\n",
      "1. 필요한 프로그램 설치 시연\n",
      "2. 데이터를 엑셀 파일로 만들기\n",
      "3. 엑셀 파일 이쁘게! 이쁘게!\n",
      "4. 나대신 주기적으로 파이썬 프로그램 실행하기\n",
      "5. 파이썬으로 슬랙(slack) 메신저에 글쓰기\n",
      "6. 웹사이트 변경사항 주기적으로 체크해서, 메신저로 알람주기\n",
      "7. 네이버 API 사용해서, 블로그에 글쓰기\n",
      "8. 자동으로 쿠팡파트너스 API 로 가져온 상품 정보, 네이버 블로그/트위터에 홍보하기\n"
     ]
    }
   ],
   "source": [
    "res = requests.get (\"https://davelee-fun.github.io/blog/crawl_test_css.html\")\n",
    "soup = BeautifulSoup(res.content, 'html.parser')\n",
    "data = soup.find('ul',id='dev_course_list')#큰거부터 작은거로 접근, 범위를 쉽게 제한할 수 있다.\n",
    "data1 = data.find_all(\"li\",'course')\n",
    "for j,value in enumerate(data1):\n",
    "    print(str(j) +\".\",value.get_text().split('-')[1].split('[')[0].strip())\n",
    "#숫자를 str으로 만들어서 덧셈이 될 수 있도로 만듦. .은 장식 , split을 통해 문자열 나누고 필요한 부분 리스트에서 지정 (+strip으로 깔끔하게 보이도록)"
   ]
  },
  {
   "cell_type": "code",
   "execution_count": 61,
   "id": "3a19b01b",
   "metadata": {},
   "outputs": [
    {
     "name": "stdout",
     "output_type": "stream",
     "text": [
      "(왕초보) - 클래스 소개\n",
      "(왕초보) - 블로그 개발 필요한 준비물 준비하기\n",
      "(왕초보) - Github pages 설정해서 블로그 첫 페이지 만들어보기\n",
      "(왕초보) - 초간단 페이지 만들어보기\n",
      "(왕초보) - 이쁘게 테마 적용해보기\n",
      "(왕초보) - 마크다운 기초 이해하고, 실제 나만의 블로그 페이지 만들기\n",
      "(왕초보) - 다양한 마크다운 기법 익혀보며, 나만의 블로그 페이지 꾸며보기\n",
      "(초급) - 강사가 실제 사용하는 자동 프로그램 소개 [2]\n",
      "(초급) - 필요한 프로그램 설치 시연 [5]\n",
      "(초급) - 데이터를 엑셀 파일로 만들기 [9]\n",
      "(초급) -     엑셀 파일 이쁘게! 이쁘게! [8]\n",
      "(초급) -     나대신 주기적으로 파이썬 프로그램 실행하기 [7]\n",
      "(초급) - 파이썬으로 슬랙(slack) 메신저에 글쓰기 [40]\n",
      "(초급) - 웹사이트 변경사항 주기적으로 체크해서, 메신저로 알람주기 [12]\n",
      "(초급) - 네이버 API 사용해서, 블로그에 글쓰기 [42]\n",
      "(중급) - 자동으로 쿠팡파트너스 API 로 가져온 상품 정보, 네이버 블로그/트위터에 홍보하기 [412]\n"
     ]
    }
   ],
   "source": [
    "import requests\n",
    "from bs4 import BeautifulSoup\n",
    "res = requests.get (\"https://davelee-fun.github.io/blog/crawl_test_css.html\")\n",
    "soup = BeautifulSoup(res.content, 'html.parser')\n",
    "data1 = soup.select(\"li\") #find_all 대신 select 할 수 있다. 한줄만 찾으려면 select_cne\n",
    "for i in data1:\n",
    "    print(i.get_text())"
   ]
  },
  {
   "cell_type": "code",
   "execution_count": 64,
   "id": "82ba108b",
   "metadata": {},
   "outputs": [
    {
     "name": "stdout",
     "output_type": "stream",
     "text": [
      "잔재미코딩 크롤링 테스트 페이지 (커리큘럼)\n"
     ]
    }
   ],
   "source": [
    "import requests\n",
    "from bs4 import BeautifulSoup\n",
    "res = requests.get (\"https://davelee-fun.github.io/blog/crawl_test_css.html\")\n",
    "soup = BeautifulSoup(res.content, 'html.parser')\n",
    "data1 = soup.select(\"html h1\")#태그 순서대로만 적어줘도 찾아준다 단, > 쓰면 바로 하위태그 순서대로,(그냥 순서대로 적어주자)\n",
    "for i in data1: #select는 리스트형태로 추출되기 때문에 반드시 for문 써야 함.(하나여도)\n",
    "    print(i.get_text())"
   ]
  },
  {
   "cell_type": "code",
   "execution_count": 65,
   "id": "2dcde1d1",
   "metadata": {},
   "outputs": [
    {
     "name": "stdout",
     "output_type": "stream",
     "text": [
      "잔재미코딩 크롤링 테스트 페이지 (커리큘럼)\n"
     ]
    }
   ],
   "source": [
    "import requests\n",
    "from bs4 import BeautifulSoup\n",
    "res = requests.get (\"https://davelee-fun.github.io/blog/crawl_test_css.html\")\n",
    "soup = BeautifulSoup(res.content, 'html.parser')\n",
    "data1 = soup.select(\"html> body >h1\")#body 빠지면 작동안함\n",
    "for i in data1: \n",
    "    print(i.get_text())"
   ]
  },
  {
   "cell_type": "code",
   "execution_count": 66,
   "id": "7284defb",
   "metadata": {},
   "outputs": [
    {
     "name": "stdout",
     "output_type": "stream",
     "text": [
      "(왕초보) - 클래스 소개\n",
      "(왕초보) - 블로그 개발 필요한 준비물 준비하기\n",
      "(왕초보) - Github pages 설정해서 블로그 첫 페이지 만들어보기\n",
      "(왕초보) - 초간단 페이지 만들어보기\n",
      "(왕초보) - 이쁘게 테마 적용해보기\n",
      "(왕초보) - 마크다운 기초 이해하고, 실제 나만의 블로그 페이지 만들기\n",
      "(왕초보) - 다양한 마크다운 기법 익혀보며, 나만의 블로그 페이지 꾸며보기\n",
      "(초급) - 강사가 실제 사용하는 자동 프로그램 소개 [2]\n",
      "(초급) - 필요한 프로그램 설치 시연 [5]\n",
      "(초급) - 데이터를 엑셀 파일로 만들기 [9]\n",
      "(초급) -     엑셀 파일 이쁘게! 이쁘게! [8]\n",
      "(초급) -     나대신 주기적으로 파이썬 프로그램 실행하기 [7]\n",
      "(초급) - 파이썬으로 슬랙(slack) 메신저에 글쓰기 [40]\n",
      "(초급) - 웹사이트 변경사항 주기적으로 체크해서, 메신저로 알람주기 [12]\n",
      "(초급) - 네이버 API 사용해서, 블로그에 글쓰기 [42]\n",
      "(중급) - 자동으로 쿠팡파트너스 API 로 가져온 상품 정보, 네이버 블로그/트위터에 홍보하기 [412]\n"
     ]
    }
   ],
   "source": [
    "import requests\n",
    "from bs4 import BeautifulSoup\n",
    "res = requests.get (\"https://davelee-fun.github.io/blog/crawl_test_css.html\")\n",
    "soup = BeautifulSoup(res.content, 'html.parser')\n",
    "data1 = soup.select(\"li.course\")#tag.class 순으로 지정가능 (동일 클래스만 찾으려면 tag 생략도 가능)\n",
    "for i in data1: \n",
    "    print(i.get_text())"
   ]
  },
  {
   "cell_type": "code",
   "execution_count": 75,
   "id": "e4e5e93f",
   "metadata": {},
   "outputs": [
    {
     "name": "stdout",
     "output_type": "stream",
     "text": [
      "(초급) - 강사가 실제 사용하는 자동 프로그램 소개 [2]\n",
      "(초급) - 필요한 프로그램 설치 시연 [5]\n",
      "(초급) - 데이터를 엑셀 파일로 만들기 [9]\n",
      "(초급) -     엑셀 파일 이쁘게! 이쁘게! [8]\n",
      "(초급) -     나대신 주기적으로 파이썬 프로그램 실행하기 [7]\n",
      "(초급) - 파이썬으로 슬랙(slack) 메신저에 글쓰기 [40]\n",
      "(초급) - 웹사이트 변경사항 주기적으로 체크해서, 메신저로 알람주기 [12]\n",
      "(초급) - 네이버 API 사용해서, 블로그에 글쓰기 [42]\n"
     ]
    }
   ],
   "source": [
    "import requests\n",
    "from bs4 import BeautifulSoup\n",
    "res = requests.get (\"https://davelee-fun.github.io/blog/crawl_test_css.html\")\n",
    "soup = BeautifulSoup(res.content, 'html.parser')\n",
    "data1 = soup.select(\"li.course#begin\")#아이디 검색은 #id tag#id 도 가능tag.class#id\n",
    "for i in data1: \n",
    "    print(i.get_text())"
   ]
  },
  {
   "cell_type": "code",
   "execution_count": 85,
   "id": "54b7a98a",
   "metadata": {},
   "outputs": [
    {
     "name": "stdout",
     "output_type": "stream",
     "text": [
      "(왕초보) - 클래스 소개\n",
      "(왕초보) - 블로그 개발 필요한 준비물 준비하기\n",
      "(왕초보) - Github pages 설정해서 블로그 첫 페이지 만들어보기\n",
      "(왕초보) - 초간단 페이지 만들어보기\n",
      "(왕초보) - 이쁘게 테마 적용해보기\n",
      "(왕초보) - 마크다운 기초 이해하고, 실제 나만의 블로그 페이지 만들기\n",
      "(왕초보) - 다양한 마크다운 기법 익혀보며, 나만의 블로그 페이지 꾸며보기\n"
     ]
    }
   ],
   "source": [
    "import requests\n",
    "from bs4 import BeautifulSoup\n",
    "res = requests.get (\"https://davelee-fun.github.io/blog/crawl_test_css.html\")\n",
    "soup = BeautifulSoup(res.content, 'html.parser')\n",
    "data1 = soup.select('html>body>ul#hobby_course_list>li.course' ) #아이디 검색은 #id tag#id 도 가능tag.class#id\n",
    "for i in data1: \n",
    "    print(i.get_text())"
   ]
  },
  {
   "cell_type": "code",
   "execution_count": 107,
   "id": "4864eb13",
   "metadata": {},
   "outputs": [
    {
     "name": "stdout",
     "output_type": "stream",
     "text": [
      "(중급) - 자동으로 쿠팡파트너스 API 로 가져온 상품 정보, 네이버 블로그/트위터에 홍보하기 [412]\n"
     ]
    }
   ],
   "source": [
    "import requests\n",
    "from bs4 import BeautifulSoup\n",
    "res = requests.get (\"https://davelee-fun.github.io/blog/crawl_test_css.html\")\n",
    "soup = BeautifulSoup(res.content, 'html.parser')\n",
    "data1 = soup.select(\"li.course.paid\")\n",
    "for i in data1: \n",
    "    print(i.get_text())"
   ]
  },
  {
   "cell_type": "code",
   "execution_count": 108,
   "id": "2afbb047",
   "metadata": {},
   "outputs": [
    {
     "name": "stdout",
     "output_type": "stream",
     "text": [
      "(초급) - 강사가 실제 사용하는 자동 프로그램 소개 [2]\n"
     ]
    }
   ],
   "source": [
    "data2 = soup.select_one('li.course#begin')\n",
    "print(data2.get_text())"
   ]
  },
  {
   "cell_type": "code",
   "execution_count": 134,
   "id": "78249329",
   "metadata": {},
   "outputs": [
    {
     "name": "stdout",
     "output_type": "stream",
     "text": [
      "가히 멀티밤\n",
      "갤럭시워치4 스트랩\n",
      "갤럭시 Z플립3 케이스\n",
      "갤럭시 버즈2\n",
      "복숭아\n",
      "덴탈마스크\n",
      "에어팟 프로\n",
      "샤인머스켓\n",
      "루이비통 가방\n",
      "그릭요거트\n"
     ]
    }
   ],
   "source": [
    "import requests\n",
    "from bs4 import BeautifulSoup\n",
    "res = requests.get('https://search.shopping.naver.com/best100v2/main.nhn')\n",
    "soup = BeautifulSoup(res.content, 'html.parser')\n",
    "data2 = soup.select('#popular_srch_lst li span.txt')\n",
    "for i in data2:\n",
    "    print(i.get_text())"
   ]
  },
  {
   "cell_type": "code",
   "execution_count": 141,
   "id": "9a783490",
   "metadata": {},
   "outputs": [
    {
     "name": "stdout",
     "output_type": "stream",
     "text": [
      "강블리 GBL 남여공용 무지 반팔 7색\n",
      "안파 체크 커플 잠옷 파자마 디즈니 정품 솜...\n",
      "버버리 확보상품 프랭크비 퀼팅 자켓 40624...\n",
      "안파 고급 실크 커플잠옷 ANPA03\n",
      "라코스테 반팔 PK원피스 EF8470\n",
      "폴로랄프로렌 걸스 케이블 니트 가디건 헌터\n",
      "알렌스틴 심리스 쿨 남성드로즈 기능성 남자...\n",
      "안파 국민잠옷 바지 파자마 커플 홈웨어 체...\n",
      "안파 체크 파자마 커플잠옷\n",
      "이경희 아니버스 스킨 드로즈 남자팬티\n",
      "아디다스 오리지널 티셔츠 드레스 TEE DRES...\n",
      "안파 체크 커플 잠옷 파자마 디즈니 정품 푸...\n",
      "달콤한레드 스윗드림 신혼부부 파자마 수면...\n",
      "리스트 싱글스트랩 버튼 트렌치코트 TWWBYK...\n",
      "아디다스 남성 38차 드로즈 7MDOSJ71 79\n",
      "세일러 빅카라 여름 반팔 퍼프 베이비돌 셔...\n",
      "캘빈클라인언더웨어 남자 팬티 NB1656\n",
      "에고이스트 SAGA폭스퍼 롱 슬림 구스다운\n",
      "나이키 NSW 클럽 플리스 후드 집업 FZBB BV...\n",
      "안파 커플잠옷 면 고급 파자마 ANPA08\n",
      "하이서포트 브라탑 스포츠 브라\n",
      "나이키 스우시 스포츠브라 BV3637-010\n",
      "리스트 솔리드 클래식 트렌치코트 BE  TWWB...\n",
      "라코스테 여성 릴렉스핏 원피스 EF401E-51G\n",
      "지오다노 여 레인코트 371513\n",
      "푸마 여성 얼티밋핏 RE 브라팬티 컬렉션 10...\n",
      "멘솔리즘 4 1 남자 드로즈 팬티 남성 모달 ...\n",
      "메종키츠네 더블폭스헤드 맨투맨 21SSFM003...\n",
      "트리플에이 무지티 반팔티 무지 반팔티셔츠...\n",
      "스톤아일랜드 와펜 라운드 맨투맨 74156305...\n",
      "라코스테 벨티드 피케 원피스 EF5471\n",
      "아디다스 남성 블랙에디션 드로즈 9종\n",
      "강블리 블링 면 스판 속바지\n",
      "메종키츠네 21 S S 여성 헤드폭스 패치 반팔...\n",
      "버버리 아니스톤 패딩 롱패딩 8018554\n",
      "나이키 드라이핏 스우시 반팔티 2컬러 3229...\n",
      "라코스테 여성 릴랙스핏 원피스 EF2302-51G\n",
      "폴로랄프로렌 여성사이즈 옥스포드 코튼 긴...\n",
      "메종키츠네 G IN 폭스 헤드 여성 가디건 IN...\n",
      "이경희 여성 여름 잠옷\n",
      "멘솔리즘 초박형 1mm 드로즈 남성 무봉제 심...\n",
      "아디다스 남성 코튼 트렁크 7종\n",
      "폴로랄프로렌 여성 케이블 니트 가디건 2색\n",
      "유로컬렉션 밍크 풀스킨 코트\n",
      "안파 커플 잠옷 파자마 디즈니 미키 ANPA16\n",
      "메종키츠네 더블 폭스헤드 반팔 티셔츠 BU0...\n",
      "알렌스틴 심리스 쿨 남성드로즈 남자팬티\n",
      "ZOOC 울캐시미어 벨티드 코트 Z204MSG123\n",
      "라페어 프리미엄 인견팬티 15종 + 3종\n",
      "버버리 재고확보-관부가세포함 여성 앰버포...\n",
      "비비안 데일리 썸머패키지 브라팬티세트 15...\n",
      "세인트제임스 밍콰이어 스트라이프 티셔츠 ...\n",
      "어니우니 우비 레인코트 여성 남성 여자 남...\n",
      "1+1 면 브라렛 노와이어 브라탑 심리스 빅사...\n",
      "나이키 스포츠웨어 아이콘 클래쉬 여성 우븐...\n",
      "메종키츠네 여성 폭스헤드 울 네이비 가디건...\n",
      "써스데이아일랜드 스모킹 변형 절개 소매 원...\n",
      "트라이 쾌적한 순면 트렁크 남성팬티 5종세...\n",
      "강블리 블링 브라&팬티 세트\n",
      "남성 신형 스키니 드로즈 팬티 4컬러\n",
      "리스트 코튼 블렌드 심플 트렌치코트 TWWBY...\n",
      "나이키 클럽 트레이닝 조거팬츠 BV2671 063\n",
      "강블리 드로우즈 팬티\n",
      "루나코어스 21 역시즌 호주산 파스텔 양모1...\n",
      "ZOOC 폭스퍼 구스 숏패딩 Z204PSG183\n",
      "캘빈클라인언더웨어 속옷 남자 팬티 남성 모...\n",
      "버버리 여성 다이아몬드 퀼팅 재킷 8021468\n",
      "아디다스 Womens 스커트 오리지널 FL0039\n",
      "클래식 순면 잠옷세트 커플 파자마 신혼부부\n",
      "트라이 내맘대로 나노실버 코튼 남성 트렁크...\n",
      "나이키 남성용 NSW 클럽 조거팬츠 BV2679\n",
      "폴로랄프로렌 남성 클래식핏 옥스포드 코튼...\n",
      "폴로랄프로렌 여성 피마코튼 케이블 라운드...\n",
      "지오다노 포플린 셔츠 340501\n",
      "무봉제팬티 심리스 여성 노라인 팬티 속옷 ...\n",
      "써스데이아일랜드 프릴 반팔 소매 원피스 T...\n",
      "아디다스 블랙에디션 드로즈 9종\n",
      "지오다노 여 퓨어린넨 셔츠 341511\n",
      "지오다노 여 레인코트 모든컬러 379513\n",
      "아디다스 MH 1 4 반바지 여자 머스트해브 트...\n",
      "리스트 싱글 버튼 핸드메이드 롱 코트 TWHC...\n",
      "캘빈클라인언더웨어 남성 코튼 클래식 5팩 ...\n",
      "리스트 간절기 루즈핏 코튼 롱 트렌치코트 ...\n",
      "아디다스 오리지널 New Originals 락업 티 ...\n",
      "나이키 NSW 클럽 크루 프렌치테리 맨투맨 남...\n",
      "나이키 프렌치 테리 후드 DD4667-010\n",
      "써스데이아일랜드 V넥프린트원피스 T214MOP...\n",
      "나이키 드라이 핏 레전드 2.0 718834\n",
      "폴로랄프로렌 반팔 카라티셔츠 커스텀핏 커...\n",
      "지오다노 남 여름 스판 치노팬츠 펜슬핏 면...\n",
      "아디다스 클라이마쿨 56차 드로즈 1종 남성\n",
      "ZOOC 루즈핏더블핸드메이드롱코트 Z204MSG5...\n",
      "써스데이아일랜드 여성 레이스 미니 원피스...\n",
      "버버리 미리주문10 프랭크비 퀼팅 자켓\n",
      "나이키 스포츠브라 CN3719-010\n",
      "코데즈컴바인이너웨어 21 썸머쿨 RD 남성드...\n",
      "로엠 앵커 오버핏 클래식 자켓 RMJKB2301A\n",
      "지오다노 여 버뮤다 쇼츠 400501\n",
      "이경희 란제리 레이스 슬립 가운세트\n",
      "라코스테 여성 플레어 셔츠 원피스 EF302E-...\n"
     ]
    }
   ],
   "source": [
    "res = requests.get('https://search.shopping.naver.com/best100v2/detail.nhn?catId=50000000')\n",
    "soup = BeautifulSoup(res.content, 'html.parser')\n",
    "data2 = soup.select('#productListArea > ul > li > p > a')\n",
    "for i in data2:\n",
    "    print(i.get_text())"
   ]
  },
  {
   "cell_type": "code",
   "execution_count": 144,
   "id": "fb62ae4e",
   "metadata": {},
   "outputs": [
    {
     "name": "stdout",
     "output_type": "stream",
     "text": [
      "3,900\n",
      "32,800\n",
      "535,000\n",
      "25,900\n",
      "57,510\n",
      "44,100\n",
      "8,800\n",
      "4,900\n",
      "28,400\n",
      "2,900\n",
      "22,470\n",
      "29,000\n",
      "22,800\n",
      "109,000\n",
      "10,008\n",
      "12,430\n",
      "38,800\n",
      "49,000\n",
      "31,590\n",
      "29,400\n",
      "12,800\n",
      "15,000\n",
      "24,640\n",
      "150,190\n",
      "14,540\n",
      "64,728\n",
      "5,400\n",
      "149,000\n",
      "1,592\n",
      "273,000\n",
      "65,000\n",
      "75,150\n",
      "1,600\n",
      "77,000\n",
      "1,110,720\n",
      "15,600\n",
      "118,990\n",
      "48,500\n",
      "215,243\n",
      "9,400\n",
      "5,900\n",
      "10,008\n",
      "106,000\n",
      "498,038\n",
      "32,000\n",
      "89,000\n",
      "8,800\n",
      "132,300\n",
      "35,554\n",
      "628,500\n",
      "63,110\n",
      "57,900\n",
      "3,900\n",
      "11,900\n",
      "66,500\n",
      "280,020\n",
      "104,250\n",
      "2,750\n",
      "7,900\n",
      "20,550\n",
      "21,070\n",
      "21,890\n",
      "2,900\n",
      "74,250\n",
      "175,640\n",
      "19,930\n",
      "801,850\n",
      "50,550\n",
      "13,400\n",
      "2,560\n",
      "23,300\n",
      "49,500\n",
      "76,400\n",
      "12,000\n",
      "540\n",
      "179,130\n",
      "80,190\n",
      "15,200\n",
      "14,540\n",
      "18,720\n",
      "85,420\n",
      "54,008\n",
      "69,247\n",
      "41,069\n",
      "16,690\n",
      "62,880\n",
      "113,770\n",
      "18,560\n",
      "34,900\n",
      "13,520\n",
      "10,430\n",
      "130,540\n",
      "101,370\n",
      "752,000\n",
      "41,580\n",
      "11,430\n",
      "33,440\n",
      "7,200\n",
      "9,400\n",
      "158,920\n"
     ]
    }
   ],
   "source": [
    "res = requests.get('https://search.shopping.naver.com/best100v2/detail.nhn?catId=50000000')\n",
    "soup = BeautifulSoup(res.content, 'html.parser')\n",
    "data2 = soup.select('#productListArea > ul > li > div.price')\n",
    "for i in data2:\n",
    "    print(i.get_text().split('저')[1].split('원')[0].strip())"
   ]
  },
  {
   "cell_type": "code",
   "execution_count": 147,
   "id": "0b4a5c7f",
   "metadata": {},
   "outputs": [
    {
     "name": "stdout",
     "output_type": "stream",
     "text": [
      "무슨 상품?:패션의류\n",
      "강블리 GBL 남여공용 무지 반팔 7색\n",
      "안파 체크 커플 잠옷 파자마 디즈니 정품 솜...\n",
      "버버리 확보상품 프랭크비 퀼팅 자켓 40624...\n",
      "안파 고급 실크 커플잠옷 ANPA03\n",
      "라코스테 반팔 PK원피스 EF8470\n",
      "폴로랄프로렌 걸스 케이블 니트 가디건 헌터\n",
      "알렌스틴 심리스 쿨 남성드로즈 기능성 남자...\n",
      "안파 국민잠옷 바지 파자마 커플 홈웨어 체...\n",
      "안파 체크 파자마 커플잠옷\n",
      "이경희 아니버스 스킨 드로즈 남자팬티\n",
      "아디다스 오리지널 티셔츠 드레스 TEE DRES...\n",
      "안파 체크 커플 잠옷 파자마 디즈니 정품 푸...\n",
      "달콤한레드 스윗드림 신혼부부 파자마 수면...\n",
      "리스트 싱글스트랩 버튼 트렌치코트 TWWBYK...\n",
      "아디다스 남성 38차 드로즈 7MDOSJ71 79\n",
      "세일러 빅카라 여름 반팔 퍼프 베이비돌 셔...\n",
      "캘빈클라인언더웨어 남자 팬티 NB1656\n",
      "에고이스트 SAGA폭스퍼 롱 슬림 구스다운\n",
      "나이키 NSW 클럽 플리스 후드 집업 FZBB BV...\n",
      "안파 커플잠옷 면 고급 파자마 ANPA08\n",
      "하이서포트 브라탑 스포츠 브라\n",
      "나이키 스우시 스포츠브라 BV3637-010\n",
      "리스트 솔리드 클래식 트렌치코트 BE  TWWB...\n",
      "라코스테 여성 릴렉스핏 원피스 EF401E-51G\n",
      "지오다노 여 레인코트 371513\n",
      "푸마 여성 얼티밋핏 RE 브라팬티 컬렉션 10...\n",
      "멘솔리즘 4 1 남자 드로즈 팬티 남성 모달 ...\n",
      "메종키츠네 더블폭스헤드 맨투맨 21SSFM003...\n",
      "트리플에이 무지티 반팔티 무지 반팔티셔츠...\n",
      "스톤아일랜드 와펜 라운드 맨투맨 74156305...\n",
      "라코스테 벨티드 피케 원피스 EF5471\n",
      "아디다스 남성 블랙에디션 드로즈 9종\n",
      "강블리 블링 면 스판 속바지\n",
      "메종키츠네 21 S S 여성 헤드폭스 패치 반팔...\n",
      "버버리 아니스톤 패딩 롱패딩 8018554\n",
      "나이키 드라이핏 스우시 반팔티 2컬러 3229...\n",
      "라코스테 여성 릴랙스핏 원피스 EF2302-51G\n",
      "폴로랄프로렌 여성사이즈 옥스포드 코튼 긴...\n",
      "메종키츠네 G IN 폭스 헤드 여성 가디건 IN...\n",
      "이경희 여성 여름 잠옷\n",
      "멘솔리즘 초박형 1mm 드로즈 남성 무봉제 심...\n",
      "아디다스 남성 코튼 트렁크 7종\n",
      "폴로랄프로렌 여성 케이블 니트 가디건 2색\n",
      "유로컬렉션 밍크 풀스킨 코트\n",
      "안파 커플 잠옷 파자마 디즈니 미키 ANPA16\n",
      "메종키츠네 더블 폭스헤드 반팔 티셔츠 BU0...\n",
      "알렌스틴 심리스 쿨 남성드로즈 남자팬티\n",
      "ZOOC 울캐시미어 벨티드 코트 Z204MSG123\n",
      "라페어 프리미엄 인견팬티 15종 + 3종\n",
      "버버리 재고확보-관부가세포함 여성 앰버포...\n",
      "비비안 데일리 썸머패키지 브라팬티세트 15...\n",
      "세인트제임스 밍콰이어 스트라이프 티셔츠 ...\n",
      "어니우니 우비 레인코트 여성 남성 여자 남...\n",
      "1+1 면 브라렛 노와이어 브라탑 심리스 빅사...\n",
      "나이키 스포츠웨어 아이콘 클래쉬 여성 우븐...\n",
      "써스데이아일랜드 스모킹 변형 절개 소매 원...\n",
      "메종키츠네 여성 폭스헤드 울 네이비 가디건...\n",
      "트라이 쾌적한 순면 트렁크 남성팬티 5종세...\n",
      "강블리 블링 브라&팬티 세트\n",
      "남성 신형 스키니 드로즈 팬티 4컬러\n",
      "리스트 코튼 블렌드 심플 트렌치코트 TWWBY...\n",
      "나이키 클럽 트레이닝 조거팬츠 BV2671 063\n",
      "강블리 드로우즈 팬티\n",
      "루나코어스 21 역시즌 호주산 파스텔 양모1...\n",
      "ZOOC 폭스퍼 구스 숏패딩 Z204PSG183\n",
      "캘빈클라인언더웨어 속옷 남자 팬티 남성 모...\n",
      "버버리 여성 다이아몬드 퀼팅 재킷 8021468\n",
      "아디다스 Womens 스커트 오리지널 FL0039\n",
      "클래식 순면 잠옷세트 커플 파자마 신혼부부\n",
      "트라이 내맘대로 나노실버 코튼 남성 트렁크...\n",
      "나이키 남성용 NSW 클럽 조거팬츠 BV2679\n",
      "폴로랄프로렌 남성 클래식핏 옥스포드 코튼...\n",
      "폴로랄프로렌 여성 피마코튼 케이블 라운드...\n",
      "지오다노 포플린 셔츠 340501\n",
      "무봉제팬티 심리스 여성 노라인 팬티 속옷 ...\n",
      "써스데이아일랜드 프릴 반팔 소매 원피스 T...\n",
      "아디다스 블랙에디션 드로즈 9종\n",
      "지오다노 여 퓨어린넨 셔츠 341511\n",
      "지오다노 여 레인코트 모든컬러 379513\n",
      "아디다스 MH 1 4 반바지 여자 머스트해브 트...\n",
      "리스트 싱글 버튼 핸드메이드 롱 코트 TWHC...\n",
      "캘빈클라인언더웨어 남성 코튼 클래식 5팩 ...\n",
      "리스트 간절기 루즈핏 코튼 롱 트렌치코트 ...\n",
      "아디다스 오리지널 New Originals 락업 티 ...\n",
      "나이키 NSW 클럽 크루 프렌치테리 맨투맨 남...\n",
      "나이키 프렌치 테리 후드 DD4667-010\n",
      "써스데이아일랜드 V넥프린트원피스 T214MOP...\n",
      "나이키 드라이 핏 레전드 2.0 718834\n",
      "폴로랄프로렌 반팔 카라티셔츠 커스텀핏 커...\n",
      "지오다노 남 여름 스판 치노팬츠 펜슬핏 면...\n",
      "아디다스 클라이마쿨 56차 드로즈 1종 남성\n",
      "ZOOC 루즈핏더블핸드메이드롱코트 Z204MSG5...\n",
      "써스데이아일랜드 여성 레이스 미니 원피스...\n",
      "버버리 미리주문10 프랭크비 퀼팅 자켓\n",
      "나이키 스포츠브라 CN3719-010\n",
      "코데즈컴바인이너웨어 21 썸머쿨 RD 남성드...\n",
      "로엠 앵커 오버핏 클래식 자켓 RMJKB2301A\n",
      "지오다노 여 버뮤다 쇼츠 400501\n",
      "이경희 란제리 레이스 슬립 가운세트\n",
      "라코스테 여성 플레어 셔츠 원피스 EF302E-...\n"
     ]
    }
   ],
   "source": [
    "Product = {'패션잡화':'https://search.shopping.naver.com/best100v2/detail.nhn?catId=50000001',\n",
    "           '패션의류':'https://search.shopping.naver.com/best100v2/detail.nhn?catId=50000000'}\n",
    "def parsing(x): ##위의 딕셔너리에 value 값에 리스트 넣어서 다양한 결과값 도출할 수 있도록 유도 가능\n",
    "    res = requests.get(x)\n",
    "    soup = BeautifulSoup(res.content, 'html.parser')\n",
    "    data2 = soup.select('#productListArea > ul > li > p > a')\n",
    "    for i in data2:\n",
    "        print(i.get_text())\n",
    "        \n",
    "selection = input('무슨 상품?:') \n",
    "parsing(Product[selection])\n"
   ]
  },
  {
   "cell_type": "code",
   "execution_count": 153,
   "id": "9f857007",
   "metadata": {},
   "outputs": [
    {
     "name": "stdout",
     "output_type": "stream",
     "text": [
      "삼성전자\n",
      "아주스틸\n",
      "SK바이오사..\n",
      "카카오뱅크\n",
      "F&F홀딩스\n"
     ]
    }
   ],
   "source": [
    "res = requests.get('https://finance.naver.com/')\n",
    "soup = BeautifulSoup(res.content, 'html.parser')\n",
    "data2 = soup.select('#container > div.aside > div > div.aside_area.aside_popular > table > tbody > tr > th > a')\n",
    "for i in data2:\n",
    "    print(i.get_text())"
   ]
  },
  {
   "cell_type": "code",
   "execution_count": 176,
   "id": "9f049786",
   "metadata": {},
   "outputs": [
    {
     "name": "stdout",
     "output_type": "stream",
     "text": [
      "지수 : 다우산업, 포인트 : 34,894.12 하락세로 마감\n",
      "지수 :  나스닥, 포인트 : 14,541.79 상승세로 마감\n",
      "지수 :  홍콩H, 포인트 : 8,721.38 하락세로 마감\n",
      "지수 :  상해종합, 포인트 : 3,427.33 하락세로 마감\n",
      "지수 :  니케이225, 포인트 : 27,013.25 하락세로 마감\n"
     ]
    }
   ],
   "source": [
    "#contentarea > div.box_top_submain2 > div.rgt > ul.lst_major > li > a\n",
    "#contentarea > div.box_top_submain2 > div.rgt > ul.lst_major > li> span\n",
    "#contentarea > div.box_top_submain2 > div.rgt > ul.lst_major > li > em\n",
    "res = requests.get('https://finance.naver.com/sise/')\n",
    "soup = BeautifulSoup(res.content, 'html.parser')\n",
    "\n",
    "data1 = soup.select('#contentarea > div.box_top_submain2 > div.rgt > ul.lst_major > li > a')\n",
    "data2 = soup.select('#contentarea > div.box_top_submain2 > div.rgt > ul.lst_major > li> span') \n",
    "data3 = soup.select('#contentarea > div.box_top_submain2 > div.rgt > ul.lst_major > li > em')\n",
    "for i in range(len(data1)):\n",
    "    name = data1[i].get_text()\n",
    "    point = data2[i].get_text()\n",
    "    movement = data3[i].get_text()\n",
    "    print('지수 : %s, 포인트 : %6s %s세로 마감' %(name, point, movement))\n",
    "    "
   ]
  },
  {
   "cell_type": "code",
   "execution_count": 179,
   "id": "7ef977a5",
   "metadata": {},
   "outputs": [
    {
     "name": "stdout",
     "output_type": "stream",
     "text": [
      "이름:  다우산업 현재 지수:  34,894.12 하락\n",
      "이름:  나스닥 현재 지수:  14,541.79 상승\n",
      "이름:  홍콩H 현재 지수:  8,738.01 하락\n",
      "이름:  상해종합 현재 지수:  3,427.33 하락\n",
      "이름:  니케이225 현재 지수:  27,013.25 하락\n"
     ]
    }
   ],
   "source": [
    "res = requests.get('https://finance.naver.com/sise/')\n",
    "soup = BeautifulSoup(res.content, 'html.parser')\n",
    "data = soup.select('#contentarea > div.box_top_submain2 > div.rgt > ul.lst_major > li')\n",
    "# 약간의 넓은 범위에서 각각의 데이터가 리스트로 저장되므로 그 리스트 안에서 다시 각자의 find 함수를 통해 지정, 출력\n",
    "for item in data:\n",
    "    print(\"이름: \",item.find('a').get_text().strip(),\"현재 지수: \", item.find('span').get_text(), item.find('em').get_text())"
   ]
  },
  {
   "cell_type": "code",
   "execution_count": 183,
   "id": "93a70471",
   "metadata": {},
   "outputs": [
    {
     "name": "stdout",
     "output_type": "stream",
     "text": [
      "상품명: 보몽드 순면스퀘어 솔리드 누빔매트커버, 다크블루\n",
      "상품명: 슈에뜨룸 선인장 리플 침구 세트, 베이지\n",
      "상품명: 선우랜드 레인보우 2단 문걸이용 옷걸이 _중형, 화이트, 상세페이지참조\n",
      "상품명: 보드래 헬로우 누빔 매트리스커버, 핑크\n",
      "상품명: 보드래 퍼펙트 누빔 매트리스커버, 차콜\n",
      "상품명: 피아블 클래식 방수 매트리스커버, 화이트\n",
      "상품명: 더자리 에코항균 마이크로 매트리스커버, 밀키차콜그레이\n",
      "상품명: 더자리 프레쉬 퓨어 매트리스 커버, 퓨어 차콜그레이\n",
      "상품명: 몽쉐어 알러스킨 항균 매트리스 커버, 카키그레이\n",
      "상품명: 쿠팡 브랜드 - 코멧 홈 40수 트윌 순면 100% 홑겹 매트리스커버, 그레이\n",
      "상품명: 패브릭아트 항균 마이크로 원단 매트리스 커버, 아이보리\n",
      "상품명: 바숨 순면 누빔 침대 매트리스커버, 차콜\n",
      "상품명: WEMAX 다용도 문옷걸이, 화이트, 1개\n",
      "상품명: 타카타카 프리미엄 나노 화이바 누빔 매트리스 커버, 젠틀핑핑\n",
      "상품명: 보몽드 순면스퀘어 누빔매트커버, 다크그레이\n",
      "상품명: 보드래 국내산 순면 60수 누빔 매트리스커버, 그레이\n"
     ]
    }
   ],
   "source": [
    "res = requests.get('https://davelee-fun.github.io/')\n",
    "soup = BeautifulSoup(res.content, 'html.parser')\n",
    "data2 = soup.select('div > div > div.card-body > h4')\n",
    "for i in data2:\n",
    "    print(i.get_text().strip())"
   ]
  },
  {
   "cell_type": "code",
   "execution_count": 184,
   "id": "75b4e787",
   "metadata": {},
   "outputs": [
    {
     "name": "stdout",
     "output_type": "stream",
     "text": [
      "상품명: 보몽드 순면스퀘어 솔리드 누빔매트커버, 다크블루\n",
      "상품명: 슈에뜨룸 선인장 리플 침구 세트, 베이지\n",
      "상품명: 선우랜드 레인보우 2단 문걸이용 옷걸이 _중형, 화이트, 상세페이지참조\n",
      "상품명: 보드래 헬로우 누빔 매트리스커버, 핑크\n",
      "상품명: 보드래 퍼펙트 누빔 매트리스커버, 차콜\n",
      "상품명: 피아블 클래식 방수 매트리스커버, 화이트\n",
      "상품명: 더자리 에코항균 마이크로 매트리스커버, 밀키차콜그레이\n",
      "상품명: 더자리 프레쉬 퓨어 매트리스 커버, 퓨어 차콜그레이\n",
      "상품명: 몽쉐어 알러스킨 항균 매트리스 커버, 카키그레이\n",
      "상품명: 쿠팡 브랜드 - 코멧 홈 40수 트윌 순면 100% 홑겹 매트리스커버, 그레이\n",
      "상품명: 패브릭아트 항균 마이크로 원단 매트리스 커버, 아이보리\n",
      "상품명: 바숨 순면 누빔 침대 매트리스커버, 차콜\n",
      "상품명: WEMAX 다용도 문옷걸이, 화이트, 1개\n",
      "상품명: 타카타카 프리미엄 나노 화이바 누빔 매트리스 커버, 젠틀핑핑\n",
      "상품명: 보몽드 순면스퀘어 누빔매트커버, 다크그레이\n",
      "상품명: 보드래 국내산 순면 60수 누빔 매트리스커버, 그레이\n"
     ]
    }
   ],
   "source": [
    "import requests\n",
    "res = requests.get('https://davelee-fun.github.io/')\n",
    "if res.status_code != 200:\n",
    "    print('페이지 오류')\n",
    "else :\n",
    "    soup = BeautifulSoup(res.content, 'html.parser')\n",
    "    data2 = soup.select('div > div > div.card-body > h4')\n",
    "    for i in data2:\n",
    "        print(i.get_text().strip())"
   ]
  },
  {
   "cell_type": "code",
   "execution_count": null,
   "id": "4f4ea6c4",
   "metadata": {},
   "outputs": [],
   "source": []
  }
 ],
 "metadata": {
  "kernelspec": {
   "display_name": "Python 3",
   "language": "python",
   "name": "python3"
  },
  "language_info": {
   "codemirror_mode": {
    "name": "ipython",
    "version": 3
   },
   "file_extension": ".py",
   "mimetype": "text/x-python",
   "name": "python",
   "nbconvert_exporter": "python",
   "pygments_lexer": "ipython3",
   "version": "3.8.8"
  }
 },
 "nbformat": 4,
 "nbformat_minor": 5
}
