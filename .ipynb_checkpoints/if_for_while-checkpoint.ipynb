{
 "cells": [
  {
   "cell_type": "code",
   "execution_count": 4,
   "id": "2866ea38",
   "metadata": {},
   "outputs": [],
   "source": [
    "a = 5 ; b, c = 3, 7"
   ]
  },
  {
   "cell_type": "code",
   "execution_count": 5,
   "id": "98075243",
   "metadata": {},
   "outputs": [
    {
     "name": "stdout",
     "output_type": "stream",
     "text": [
      "8 15 1.6666666666666667 1 2 125\n"
     ]
    }
   ],
   "source": [
    "print ( a+b, a*b, a/b, a//b, a%b, a**b)"
   ]
  },
  {
   "cell_type": "code",
   "execution_count": 10,
   "id": "18061114",
   "metadata": {},
   "outputs": [],
   "source": [
    "r = a+(b*c)\n",
    "t = (a+b)*c\n",
    "q = a+b*c"
   ]
  },
  {
   "cell_type": "code",
   "execution_count": 11,
   "id": "e2bcf8e3",
   "metadata": {},
   "outputs": [
    {
     "name": "stdout",
     "output_type": "stream",
     "text": [
      "26\n",
      "56 26\n"
     ]
    }
   ],
   "source": [
    "print (r)\n",
    "print (t, q)"
   ]
  },
  {
   "cell_type": "code",
   "execution_count": 12,
   "id": "7065f2ff",
   "metadata": {},
   "outputs": [
    {
     "name": "stdout",
     "output_type": "stream",
     "text": [
      "8\n",
      "16\n"
     ]
    }
   ],
   "source": [
    "a += 3\n",
    "print (a)\n",
    "a *= 2\n",
    "print (a)"
   ]
  },
  {
   "cell_type": "code",
   "execution_count": 21,
   "id": "d49e03c2",
   "metadata": {},
   "outputs": [
    {
     "name": "stdout",
     "output_type": "stream",
     "text": [
      "잔돈은 얼마입니까?1396\n",
      "잔돈은\n",
      "500원짜리 2개 \n",
      "100원짜리 3개 \n",
      "50원짜리 1개 \n",
      "10원짜리 4개 입니다\n",
      "남은 돈은 6원 입니다\n"
     ]
    }
   ],
   "source": [
    "#변수 정의 파트가 필요하다\n",
    "# money, coin500, coin100, coin50, coin10 = 0,0,0,0,0\n",
    "\n",
    "money = int(input(\"잔돈은 얼마입니까?\"))\n",
    "coin500 = money // 500\n",
    "money %= 500\n",
    "coin100 = money // 100\n",
    "money %= 100\n",
    "coin50 = money // 50\n",
    "money %= 50\n",
    "coin10 = money // 10\n",
    "money %=  10\n",
    "\n",
    "\n",
    "print ( \"잔돈은\\n500원짜리 %d개 \\n100원짜리 %d개 \\n50원짜리 %d개 \\n10원짜리 %d개 입니다\\n남은 돈은 %d원 입니다\"\n",
    "       %(coin500, coin100, coin50, coin10, money))"
   ]
  },
  {
   "cell_type": "code",
   "execution_count": 22,
   "id": "1c295ba1",
   "metadata": {},
   "outputs": [
    {
     "name": "stdout",
     "output_type": "stream",
     "text": [
      "!#\n"
     ]
    }
   ],
   "source": [
    "if(1234):print(\"!#\")\n",
    "if (0) : print (\"afdshu\")"
   ]
  },
  {
   "cell_type": "code",
   "execution_count": 23,
   "id": "84af0381",
   "metadata": {},
   "outputs": [
    {
     "name": "stdout",
     "output_type": "stream",
     "text": [
      "2\n"
     ]
    }
   ],
   "source": [
    "a, b= 10,7\n",
    "print (a&b)"
   ]
  },
  {
   "cell_type": "code",
   "execution_count": 26,
   "id": "757bc778",
   "metadata": {},
   "outputs": [
    {
     "name": "stdout",
     "output_type": "stream",
     "text": [
      "41 & f = 1\n",
      "41 | F = 4F\n"
     ]
    }
   ],
   "source": [
    "a = ord('A')\n",
    "mask = 0x0F\n",
    "\n",
    "print(\"%x & %x = %x\" % (a, mask, a & mask))\n",
    "print (\"%X | %X = %X\" %(a, mask, a|mask))\n"
   ]
  },
  {
   "cell_type": "code",
   "execution_count": 33,
   "id": "00740edd",
   "metadata": {},
   "outputs": [
    {
     "name": "stdout",
     "output_type": "stream",
     "text": [
      "몇년도 입니까?2100\n",
      "2100 년은 윤년이 아닙니다\n"
     ]
    }
   ],
   "source": [
    "#윤년 계산 법 4로 나눠지면 윤년, 근데 100으로도 나눠지면 아님, 근데 400으로 \n",
    "#나눠지면 또 됨\n",
    "y = int(input(\"몇년도 입니까?\"))\n",
    "\n",
    "if (y % 4 == 0) and not(y % 100 == 0) : k = True\n",
    "if y % 400 == 0 : k = True\n",
    "\n",
    "    \n",
    "if k == True : \n",
    "    print ( \"%d 년은 윤년입니다\" %(y))\n",
    "else : \n",
    "    print ( \"%d 년은 윤년이 아닙니다\" %(y))\n",
    "    "
   ]
  },
  {
   "cell_type": "code",
   "execution_count": 36,
   "id": "4c151699",
   "metadata": {},
   "outputs": [
    {
     "name": "stdout",
     "output_type": "stream",
     "text": [
      "숫자6\n",
      "숫자9\n",
      "16진수는 + = 0xf  - = -0x3 * = 0x36\n"
     ]
    }
   ],
   "source": [
    "num, n16, n10, n8, n2 = 0,0,0,0,0\n",
    "\n",
    "num1 = int(input('숫자'))\n",
    "num2 = int(input('숫자'))\n",
    "# 16\n",
    "a = num1 + num2\n",
    "b = num1 - num2\n",
    "c = num1 * num2\n",
    "\n",
    "print (\"16진수는 + = %s  - = %s * = %s\" %(hex(a),hex(b),hex(c)))"
   ]
  },
  {
   "cell_type": "code",
   "execution_count": 40,
   "id": "2545b65d",
   "metadata": {},
   "outputs": [
    {
     "name": "stdout",
     "output_type": "stream",
     "text": [
      "나이1678\n",
      "됨\n"
     ]
    }
   ],
   "source": [
    "a = int(input(\"나이\"))\n",
    "if a < 19 :\n",
    "    print(\"안돼\")\n",
    "else : \n",
    "    print (\"됨\")"
   ]
  },
  {
   "cell_type": "code",
   "execution_count": 38,
   "id": "ce298ea5",
   "metadata": {},
   "outputs": [
    {
     "name": "stdout",
     "output_type": "stream",
     "text": [
      "a작\n",
      " a 3\n"
     ]
    }
   ],
   "source": [
    "a = 3\n",
    "if a < 5 : \n",
    "    print (\"a작\")\n",
    "if a > 5 :\n",
    "    print (\"a 큰\")\n",
    "if a == 3 :\n",
    "    print (\" a 3\")"
   ]
  },
  {
   "cell_type": "code",
   "execution_count": 39,
   "id": "334ab1f4",
   "metadata": {},
   "outputs": [
    {
     "name": "stdout",
     "output_type": "stream",
     "text": [
      "숫자54\n",
      "54는 짝수입니다\n"
     ]
    }
   ],
   "source": [
    "# 짝 홀 판독기\n",
    "\n",
    "a= int(input('숫자'))\n",
    "\n",
    "if a % 2 == 0 :\n",
    "    print ( \"%d는 짝수입니다\" %(a))\n",
    "else :\n",
    "    print ( \"홀수입니다\")"
   ]
  },
  {
   "cell_type": "code",
   "execution_count": 43,
   "id": "4137c7e7",
   "metadata": {},
   "outputs": [
    {
     "name": "stdout",
     "output_type": "stream",
     "text": [
      "30\n",
      "tt\n"
     ]
    }
   ],
   "source": [
    "a = int(input())\n",
    "if a > 50:\n",
    "    if a < 100:\n",
    "        print(\"t\")\n",
    "    else :\n",
    "        print(\"ty\")\n",
    "else:\n",
    "    print(\"tt\")\n"
   ]
  },
  {
   "cell_type": "code",
   "execution_count": 46,
   "id": "501797b4",
   "metadata": {},
   "outputs": [
    {
     "name": "stdout",
     "output_type": "stream",
     "text": [
      "-39\n",
      "오류\n"
     ]
    }
   ],
   "source": [
    "score = int(input())\n",
    "if score > 0 and score < 100:\n",
    "    if score > 75:\n",
    "        if score > 80:\n",
    "            if score > 90:\n",
    "                print(\"a\")\n",
    "            else :\n",
    "                print(\"b\")\n",
    "        else: print(\"c\")\n",
    "    else:\n",
    "        print(\"d\")\n",
    "else : \n",
    "    print (\"오류\")"
   ]
  },
  {
   "cell_type": "code",
   "execution_count": 50,
   "id": "8fc53c50",
   "metadata": {},
   "outputs": [
    {
     "name": "stdout",
     "output_type": "stream",
     "text": [
      "150\n",
      "A\n"
     ]
    }
   ],
   "source": [
    "score = int(input())\n",
    "if score >= 90:\n",
    "    print (\"A\")\n",
    "elif score >= 80:\n",
    "    print (\"B\")\n",
    "elif score >= 70:\n",
    "    print (\"C\")\n",
    "elif score >= 60:\n",
    "    print (\"D\")\n",
    "elif score >= 0:\n",
    "    print (\"F\")\n",
    "else : \n",
    "    print (오류)"
   ]
  },
  {
   "cell_type": "code",
   "execution_count": 57,
   "id": "80c47107",
   "metadata": {},
   "outputs": [
    {
     "name": "stdout",
     "output_type": "stream",
     "text": [
      "등급은?B\n",
      "가격은?5000\n",
      "등급은 B 이고 판매가는 3500 이다\n",
      "Done\n"
     ]
    }
   ],
   "source": [
    "score = input('등급은?')\n",
    "price = int(input('가격은?'))\n",
    "rate = ''\n",
    "\n",
    "if score == 'A':\n",
    "    price *= 0.7\n",
    "elif score == 'B':\n",
    "    price *= 0.7\n",
    "elif score == 'C':\n",
    "    price *= 0.92\n",
    "elif score == 'Z':\n",
    "    price += 5000\n",
    "else : \n",
    "    print (\"오류\")\n",
    "print (\"등급은 %s 이고 판매가는 %d 이다\"%(score, price))\n",
    "print ('Done')"
   ]
  },
  {
   "cell_type": "code",
   "execution_count": 59,
   "id": "0b7c945f",
   "metadata": {},
   "outputs": [
    {
     "name": "stdout",
     "output_type": "stream",
     "text": [
      "1*3\n",
      "3\n"
     ]
    }
   ],
   "source": [
    "words = input()\n",
    "\n",
    "if words == '+':\n",
    "    a = int(input())\n",
    "    b = int(input())\n",
    "    result = a+b\n",
    "else :\n",
    "    result = eval(words)\n",
    "\n",
    "print (result)"
   ]
  },
  {
   "cell_type": "code",
   "execution_count": 69,
   "id": "e9da7a01",
   "metadata": {},
   "outputs": [
    {
     "name": "stdout",
     "output_type": "stream",
     "text": [
      "55\n",
      "100\n"
     ]
    }
   ],
   "source": [
    "a,i = 0, 0\n",
    "for i in range (11):\n",
    "    a += i\n",
    "\n",
    "print (a)\n",
    "\n",
    "a, i =0,0\n",
    "\n",
    "for i in range (21):\n",
    "    if i % 2 == 1 :\n",
    "        a += i\n",
    "print (a)"
   ]
  },
  {
   "cell_type": "code",
   "execution_count": 70,
   "id": "77e41d5a",
   "metadata": {},
   "outputs": [
    {
     "name": "stdout",
     "output_type": "stream",
     "text": [
      "867\n"
     ]
    }
   ],
   "source": [
    "a = 0\n",
    "for i in range (0,101):\n",
    "    if i % 3 == 0 and not i % 6==0:\n",
    "        a += i\n",
    "print (a)"
   ]
  },
  {
   "cell_type": "code",
   "execution_count": 72,
   "id": "a0aa6667",
   "metadata": {},
   "outputs": [
    {
     "name": "stdout",
     "output_type": "stream",
     "text": [
      "187500\n"
     ]
    }
   ],
   "source": [
    "sum = 0\n",
    "for i in range (501,1001,2):\n",
    "    sum += i\n",
    "print(sum)"
   ]
  },
  {
   "cell_type": "code",
   "execution_count": 77,
   "id": "45b1516f",
   "metadata": {},
   "outputs": [
    {
     "name": "stdout",
     "output_type": "stream",
     "text": [
      "입력값45\n",
      "1035\n"
     ]
    }
   ],
   "source": [
    "a = int(input('입력값'))\n",
    "sum = 0\n",
    "for i in range (0,a+1):\n",
    "    sum += i\n",
    "    \n",
    "print(sum)"
   ]
  },
  {
   "cell_type": "code",
   "execution_count": 78,
   "id": "62ebc072",
   "metadata": {},
   "outputs": [
    {
     "name": "stdout",
     "output_type": "stream",
     "text": [
      "9\n",
      "5678\n",
      "3\n",
      "5372325\n"
     ]
    }
   ],
   "source": [
    "summer = 0\n",
    "x = int(input())\n",
    "y = int(input())\n",
    "z = int(input())\n",
    "\n",
    "for i in range (x,y+1,z):\n",
    "    summer += i\n",
    "print(summer)"
   ]
  },
  {
   "cell_type": "code",
   "execution_count": 83,
   "id": "d2529ae6",
   "metadata": {},
   "outputs": [
    {
     "name": "stdout",
     "output_type": "stream",
     "text": [
      "9\n",
      "9 X 1 = 9\n",
      "9 X 2 = 18\n",
      "9 X 3 = 27\n",
      "9 X 4 = 36\n",
      "9 X 5 = 45\n",
      "9 X 6 = 54\n",
      "9 X 7 = 63\n",
      "9 X 8 = 72\n",
      "9 X 9 = 81\n"
     ]
    }
   ],
   "source": [
    "i, j = 0,0\n",
    "i = int(input())\n",
    "for j in range (1,10,1):\n",
    "    print (\"%d X %d = %d\" %(i,j,i*j) )"
   ]
  },
  {
   "cell_type": "code",
   "execution_count": 88,
   "id": "4685f7db",
   "metadata": {},
   "outputs": [
    {
     "name": "stdout",
     "output_type": "stream",
     "text": [
      "1 * 1 = 1 1 * 2 = 2 1 * 3 = 3 1 * 4 = 4 1 * 5 = 5 1 * 6 = 6 1 * 7 = 7 1 * 8 = 8 1 * 9 = 9  \n",
      "2 * 1 = 2 2 * 2 = 4 2 * 3 = 6 2 * 4 = 8 2 * 5 = 10 2 * 6 = 12 2 * 7 = 14 2 * 8 = 16 2 * 9 = 18  \n",
      "3 * 1 = 3 3 * 2 = 6 3 * 3 = 9 3 * 4 = 12 3 * 5 = 15 3 * 6 = 18 3 * 7 = 21 3 * 8 = 24 3 * 9 = 27  \n",
      "4 * 1 = 4 4 * 2 = 8 4 * 3 = 12 4 * 4 = 16 4 * 5 = 20 4 * 6 = 24 4 * 7 = 28 4 * 8 = 32 4 * 9 = 36  \n",
      "5 * 1 = 5 5 * 2 = 10 5 * 3 = 15 5 * 4 = 20 5 * 5 = 25 5 * 6 = 30 5 * 7 = 35 5 * 8 = 40 5 * 9 = 45  \n",
      "6 * 1 = 6 6 * 2 = 12 6 * 3 = 18 6 * 4 = 24 6 * 5 = 30 6 * 6 = 36 6 * 7 = 42 6 * 8 = 48 6 * 9 = 54  \n",
      "7 * 1 = 7 7 * 2 = 14 7 * 3 = 21 7 * 4 = 28 7 * 5 = 35 7 * 6 = 42 7 * 7 = 49 7 * 8 = 56 7 * 9 = 63  \n",
      "8 * 1 = 8 8 * 2 = 16 8 * 3 = 24 8 * 4 = 32 8 * 5 = 40 8 * 6 = 48 8 * 7 = 56 8 * 8 = 64 8 * 9 = 72  \n",
      "9 * 1 = 9 9 * 2 = 18 9 * 3 = 27 9 * 4 = 36 9 * 5 = 45 9 * 6 = 54 9 * 7 = 63 9 * 8 = 72 9 * 9 = 81  \n"
     ]
    }
   ],
   "source": [
    "for i in range(1,10) :\n",
    "    for j in range (1,10):\n",
    "        print( \"%d * %d = %d\" %(i,j,i*j), end =\" \")\n",
    "    print (' ')"
   ]
  },
  {
   "cell_type": "code",
   "execution_count": null,
   "id": "43a7e707",
   "metadata": {},
   "outputs": [],
   "source": []
  }
 ],
 "metadata": {
  "kernelspec": {
   "display_name": "Python 3",
   "language": "python",
   "name": "python3"
  },
  "language_info": {
   "codemirror_mode": {
    "name": "ipython",
    "version": 3
   },
   "file_extension": ".py",
   "mimetype": "text/x-python",
   "name": "python",
   "nbconvert_exporter": "python",
   "pygments_lexer": "ipython3",
   "version": "3.8.8"
  }
 },
 "nbformat": 4,
 "nbformat_minor": 5
}
