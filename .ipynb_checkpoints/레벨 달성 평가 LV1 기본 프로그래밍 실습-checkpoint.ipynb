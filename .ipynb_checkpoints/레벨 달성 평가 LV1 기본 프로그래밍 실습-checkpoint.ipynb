{
 "cells": [
  {
   "cell_type": "code",
   "execution_count": null,
   "metadata": {
    "colab": {
     "base_uri": "https://localhost:8080/"
    },
    "executionInfo": {
     "elapsed": 246,
     "status": "ok",
     "timestamp": 1630065556932,
     "user": {
      "displayName": "Young Min Hong",
      "photoUrl": "",
      "userId": "02710847191408309946"
     },
     "user_tz": -540
    },
    "id": "MhLbtkjudrY_",
    "outputId": "7d34b743-a101-40f8-ded3-7b68ebc0d302"
   },
   "outputs": [
    {
     "name": "stdout",
     "output_type": "stream",
     "text": [
      "Drive already mounted at /content/gdrive; to attempt to forcibly remount, call drive.mount(\"/content/gdrive\", force_remount=True).\n"
     ]
    }
   ],
   "source": [
    "from google.colab import drive\n",
    "\n",
    "drive.mount('/content/gdrive')\n",
    "#Collab 써보느라"
   ]
  },
  {
   "cell_type": "markdown",
   "metadata": {
    "id": "6QxVLf5N22sM"
   },
   "source": [
    "# 1. 숫자 두개와 연산 입력받는 계산기 프로그램 함수로 만들기\n",
    "+ 숫자를 입력받을때 숫자가 아니면 숫자를 입력해주세요 라고 출력\n",
    "+ 선택 가능한 연산이 아닌 연산을 선택할시 잘못된 입력입니다 라고 출력\n",
    "+ 계산할 수 없는 연산은 계산할 수 없다고 출력\n",
    "+ def, input, isdigit, if-elif-else 활용"
   ]
  },
  {
   "cell_type": "code",
   "execution_count": 2,
   "metadata": {
    "colab": {
     "base_uri": "https://localhost:8080/"
    },
    "executionInfo": {
     "elapsed": 4546,
     "status": "ok",
     "timestamp": 1630068305152,
     "user": {
      "displayName": "Young Min Hong",
      "photoUrl": "",
      "userId": "02710847191408309946"
     },
     "user_tz": -540
    },
    "id": "F7EFilMT22sY",
    "outputId": "aea39599-90fe-43ff-cdfa-c2931dfcf644"
   },
   "outputs": [
    {
     "name": "stdout",
     "output_type": "stream",
     "text": [
      "입력해 주세요 : 6\n",
      "입력해 주세요 : 2\n",
      "연산자를 입력해 주세요 : *\n",
      "6 * 2 = 12.000000 입니다\n"
     ]
    }
   ],
   "source": [
    "calcul_list = ['+','-','*','/']\n",
    "num1 = input('입력해 주세요 : ')\n",
    "num2 = input('입력해 주세요 : ')\n",
    "calcul = input('연산자를 입력해 주세요 : ')\n",
    "def calculation(x,y,z):\n",
    "  if z == '+':\n",
    "    result = x+y\n",
    "  elif z == '-':\n",
    "    result = x-y\n",
    "  elif z == '*':\n",
    "    result = x*y\n",
    "  elif z == '/' :\n",
    "      result = x/y\n",
    "  return result\n",
    "\n",
    "\n",
    "if num1.isdigit() == False or num2.isdigit() == False:\n",
    "  print('숫자를 입력해 주세요')\n",
    "else:\n",
    "  if calcul in calcul_list :\n",
    "    if calcul == '/' and int(num2) == 0:\n",
    "      print('나눗셈의 분모는 0이 될 수 없습니다')\n",
    "    else :\n",
    "      result = calculation(int(num1),int(num2), calcul)\n",
    "      print( '%d %s %d = %f 입니다'%(int(num1), calcul, int(num2), result))\n",
    "  else :\n",
    "    print('올바른 연산자를 입력해 주세요')\n",
    "\n",
    "# 1. 숫자가 맞는가? 2. 리스트에 연산자가 포함되어 있는가? 3. 연산자에 맞는 연산이 진행되어야 한다.\n"
   ]
  },
  {
   "cell_type": "markdown",
   "metadata": {
    "id": "mpMt0fMA22sc"
   },
   "source": [
    "# 2. For문을 사용하여 전체 구구단 출력해보기\n",
    "+ for in range() 활용\n"
   ]
  },
  {
   "cell_type": "code",
   "execution_count": 3,
   "metadata": {
    "colab": {
     "base_uri": "https://localhost:8080/"
    },
    "executionInfo": {
     "elapsed": 2523,
     "status": "ok",
     "timestamp": 1630057631235,
     "user": {
      "displayName": "Young Min Hong",
      "photoUrl": "",
      "userId": "02710847191408309946"
     },
     "user_tz": -540
    },
    "id": "jfJTiwCM22se",
    "outputId": "fa979ad6-648f-4278-da1e-7ebab47b3e38"
   },
   "outputs": [
    {
     "name": "stdout",
     "output_type": "stream",
     "text": [
      "몇단을 외울까요? : 6\n",
      "6 * 1 = 6\n",
      "6 * 2 = 12\n",
      "6 * 3 = 18\n",
      "6 * 4 = 24\n",
      "6 * 5 = 30\n",
      "6 * 6 = 36\n",
      "6 * 7 = 42\n",
      "6 * 8 = 48\n",
      "6 * 9 = 54\n"
     ]
    }
   ],
   "source": [
    "number = int(input('몇단을 외울까요? : '))\n",
    "for i in range(9):\n",
    "  j = i+1\n",
    "  print('%d * %d = %d'%(number, j, number * j))\n",
    "\n"
   ]
  },
  {
   "cell_type": "markdown",
   "metadata": {
    "id": "ggOhm6on22sg"
   },
   "source": [
    "# 3. For 문을 사용하여 다음 그림 출력해보기\n",
    "+ for 문과 if-else문 활용"
   ]
  },
  {
   "cell_type": "code",
   "execution_count": 4,
   "metadata": {
    "id": "8qOMMwRF22si",
    "outputId": "7f2afe81-7204-4701-a993-90aff9e38bb3"
   },
   "outputs": [
    {
     "name": "stdout",
     "output_type": "stream",
     "text": [
      "    *\n",
      "   ---\n",
      "  *****\n",
      " -------\n",
      "*********\n",
      " -------\n",
      "  *****\n",
      "   ---\n",
      "    *\n"
     ]
    }
   ],
   "source": [
    "print(\"    *\")\n",
    "print(\"   ---\")\n",
    "print(\"  *****\")\n",
    "print(\" -------\")\n",
    "print(\"*********\")\n",
    "print(\" -------\")\n",
    "print(\"  *****\")\n",
    "print(\"   ---\")\n",
    "print(\"    *\")"
   ]
  },
  {
   "cell_type": "code",
   "execution_count": 5,
   "metadata": {
    "colab": {
     "base_uri": "https://localhost:8080/"
    },
    "executionInfo": {
     "elapsed": 267,
     "status": "ok",
     "timestamp": 1630058355245,
     "user": {
      "displayName": "Young Min Hong",
      "photoUrl": "",
      "userId": "02710847191408309946"
     },
     "user_tz": -540
    },
    "id": "WnzE6M-Z22sn",
    "outputId": "0ab553d4-3fea-4536-b9ae-12e3f7a5ec5a"
   },
   "outputs": [
    {
     "name": "stdout",
     "output_type": "stream",
     "text": [
      "     *\n",
      "    ---\n",
      "   *****\n",
      "  -------\n",
      " *********\n",
      "  -------\n",
      "   *****\n",
      "    ---\n",
      "     *\n"
     ]
    }
   ],
   "source": [
    "a = '*'\n",
    "b = ' '\n",
    "c = '-'\n",
    "for i in range (4):\n",
    "    if i%2 == 0:\n",
    "        print (b*(4-i), a*(2*i+1))\n",
    "    else : print (b*(4-i), c*(2*i+1))\n",
    "for i in range (5):\n",
    "    if i%2 == 0 :\n",
    "        print (b*i,a*(9-2*i))\n",
    "    else : print (b*i,c*(9-2*i))\n",
    "\n",
    "    "
   ]
  },
  {
   "cell_type": "markdown",
   "metadata": {
    "id": "lPwTJq1E22sq"
   },
   "source": [
    "# 4. 삼각형 클래스 만들어보기\n",
    "+ Field로는 밑변의 길이, 높이의 길이\n",
    "+ 클래스 변수로 전체 삼각형 개수 출력가능하게\n",
    "+ 면적을 출력하는 method포함\n",
    "+ 삼각형 2개 만들고, 현재까지 만들어진 삼각형 개수 와 각각의 넓이 출력해보기\n",
    "+ class, def 활용"
   ]
  },
  {
   "cell_type": "code",
   "execution_count": 6,
   "metadata": {
    "colab": {
     "base_uri": "https://localhost:8080/"
    },
    "executionInfo": {
     "elapsed": 255,
     "status": "ok",
     "timestamp": 1630059276164,
     "user": {
      "displayName": "Young Min Hong",
      "photoUrl": "",
      "userId": "02710847191408309946"
     },
     "user_tz": -540
    },
    "id": "RU9PC8Do22st",
    "outputId": "60411eca-75bb-4ad6-d00d-e93c9a2c57bb"
   },
   "outputs": [
    {
     "name": "stdout",
     "output_type": "stream",
     "text": [
      "넓이는 25 입니다\n",
      "넓이는 162 입니다\n",
      "현재 만들어진 삼각형 개수  = 2\n"
     ]
    }
   ],
   "source": [
    "class Triangle():\n",
    "  count = 0\n",
    "  def __init__(self, base, height):\n",
    "    self.base = base\n",
    "    self.height = height\n",
    "    Triangle.count += 1\n",
    "  def size (self ):\n",
    "    print(\"넓이는 %d 입니다\"%(self.base*self.height/2))\n",
    "\n",
    "t1 = Triangle(5,10)\n",
    "t2 = Triangle(13,25)\n",
    "t1.size()\n",
    "t2.size()\n",
    "print('현재 만들어진 삼각형 개수  =', Triangle.count)\n"
   ]
  },
  {
   "cell_type": "markdown",
   "metadata": {
    "id": "J73L1KyZ22sw"
   },
   "source": [
    "# 5. 정규분포 히스토그램 그려보기 - 10000개짜리 데이터로 50개의 구간으로 나눈것과 100개의 구간으로 나눈것으로\n",
    "+ matplotlib.pyplot, numpy 라이브러리 활용\n",
    "+ numpy 라이브러리의 random.normal 활용\n",
    "+ matplotlib.pyplot 라이브러리의 hist, xlabel, ylabel, legend, title, show() 활용"
   ]
  },
  {
   "cell_type": "code",
   "execution_count": 7,
   "metadata": {
    "id": "aTup_jVY22sy"
   },
   "outputs": [],
   "source": [
    "import matplotlib\n",
    "import numpy as np\n",
    "from matplotlib import pyplot as plt"
   ]
  },
  {
   "cell_type": "code",
   "execution_count": 8,
   "metadata": {
    "colab": {
     "base_uri": "https://localhost:8080/",
     "height": 296
    },
    "executionInfo": {
     "elapsed": 815,
     "status": "ok",
     "timestamp": 1630067809028,
     "user": {
      "displayName": "Young Min Hong",
      "photoUrl": "",
      "userId": "02710847191408309946"
     },
     "user_tz": -540
    },
    "id": "ck0ww8OIB5wi",
    "outputId": "b361aa8e-505e-4254-a3b7-53ff9cd09b19"
   },
   "outputs": [
    {
     "data": {
      "image/png": "[encoded data removed]",
      "text/plain": [
       "<Figure size 432x288 with 1 Axes>"
      ]
     },
     "metadata": {
      "needs_background": "light"
     },
     "output_type": "display_data"
    }
   ],
   "source": [
    "x = np.random.normal(size = 10000)\n",
    "plt.hist(x, bins = 50, density=True, label='Bins = 50')\n",
    "plt.xlabel('Normal_dis_50')\n",
    "plt.ylabel('Density')\n",
    "plt.title('Bins = 50')\n",
    "plt.legend()\n",
    "plt.show()"
   ]
  },
  {
   "cell_type": "code",
   "execution_count": 9,
   "metadata": {
    "colab": {
     "base_uri": "https://localhost:8080/",
     "height": 296
    },
    "executionInfo": {
     "elapsed": 696,
     "status": "ok",
     "timestamp": 1630067810907,
     "user": {
      "displayName": "Young Min Hong",
      "photoUrl": "",
      "userId": "02710847191408309946"
     },
     "user_tz": -540
    },
    "id": "-u7y8YrNl9qf",
    "outputId": "f38cff50-1a37-4ddd-981c-a9a761a2c5ea"
   },
   "outputs": [
    {
     "data": {
      "image/png": "[encoded data removed]",
      "text/plain": [
       "<Figure size 432x288 with 1 Axes>"
      ]
     },
     "metadata": {
      "needs_background": "light"
     },
     "output_type": "display_data"
    }
   ],
   "source": [
    "\n",
    "plt.hist(x, bins = 100, density=True, label='Bins = 100')\n",
    "plt.xlabel('Normal_dis_100')\n",
    "plt.ylabel('Y')\n",
    "plt.title('Bins = 100')\n",
    "plt.legend()\n",
    "plt.show()"
   ]
  },
  {
   "cell_type": "markdown",
   "metadata": {
    "id": "Ya1c8Jwc22s0"
   },
   "source": [
    "# 6. [Pclass] column 기준으로 새로운 데이터 프레임 만들어보기\n",
    "+ titanic_train.csv 파일 활용\n",
    "+ pandas 라이브러리 활용\n",
    "+ pandas 라이브러리의 read_csv 활용\n",
    "+ value_counts() 및 rename 활용\n",
    "+ head()로 결과 도출"
   ]
  },
  {
   "cell_type": "code",
   "execution_count": 10,
   "metadata": {
    "id": "uMuMDk8C22s2"
   },
   "outputs": [],
   "source": [
    "import pandas as pd"
   ]
  },
  {
   "cell_type": "code",
   "execution_count": 12,
   "metadata": {
    "id": "A28TZtY7a4Wi"
   },
   "outputs": [],
   "source": [
    "titanic = pd.read_csv('titanic_train.csv')"
   ]
  },
  {
   "cell_type": "code",
   "execution_count": 13,
   "metadata": {
    "colab": {
     "base_uri": "https://localhost:8080/",
     "height": 357
    },
    "executionInfo": {
     "elapsed": 279,
     "status": "ok",
     "timestamp": 1630065695080,
     "user": {
      "displayName": "Young Min Hong",
      "photoUrl": "",
      "userId": "02710847191408309946"
     },
     "user_tz": -540
    },
    "id": "R74iX4Zhe_9F",
    "outputId": "84fd52b3-0adc-4d05-bec7-b6390a2df42e"
   },
   "outputs": [
    {
     "data": {
      "text/html": [
       "<div>\n",
       "<style scoped>\n",
       "    .dataframe tbody tr th:only-of-type {\n",
       "        vertical-align: middle;\n",
       "    }\n",
       "\n",
       "    .dataframe tbody tr th {\n",
       "        vertical-align: top;\n",
       "    }\n",
       "\n",
       "    .dataframe thead th {\n",
       "        text-align: right;\n",
       "    }\n",
       "</style>\n",
       "<table border=\"1\" class=\"dataframe\">\n",
       "  <thead>\n",
       "    <tr style=\"text-align: right;\">\n",
       "      <th></th>\n",
       "      <th>PassengerId</th>\n",
       "      <th>Survived</th>\n",
       "      <th>Pclass</th>\n",
       "      <th>Name</th>\n",
       "      <th>Sex</th>\n",
       "      <th>Age</th>\n",
       "      <th>SibSp</th>\n",
       "      <th>Parch</th>\n",
       "      <th>Ticket</th>\n",
       "      <th>Fare</th>\n",
       "      <th>Cabin</th>\n",
       "      <th>Embarked</th>\n",
       "    </tr>\n",
       "  </thead>\n",
       "  <tbody>\n",
       "    <tr>\n",
       "      <th>0</th>\n",
       "      <td>1</td>\n",
       "      <td>0</td>\n",
       "      <td>3</td>\n",
       "      <td>Braund, Mr. Owen Harris</td>\n",
       "      <td>male</td>\n",
       "      <td>22.0</td>\n",
       "      <td>1</td>\n",
       "      <td>0</td>\n",
       "      <td>A/5 21171</td>\n",
       "      <td>7.2500</td>\n",
       "      <td>NaN</td>\n",
       "      <td>S</td>\n",
       "    </tr>\n",
       "    <tr>\n",
       "      <th>1</th>\n",
       "      <td>2</td>\n",
       "      <td>1</td>\n",
       "      <td>1</td>\n",
       "      <td>Cumings, Mrs. John Bradley (Florence Briggs Th...</td>\n",
       "      <td>female</td>\n",
       "      <td>38.0</td>\n",
       "      <td>1</td>\n",
       "      <td>0</td>\n",
       "      <td>PC 17599</td>\n",
       "      <td>71.2833</td>\n",
       "      <td>C85</td>\n",
       "      <td>C</td>\n",
       "    </tr>\n",
       "    <tr>\n",
       "      <th>2</th>\n",
       "      <td>3</td>\n",
       "      <td>1</td>\n",
       "      <td>3</td>\n",
       "      <td>Heikkinen, Miss. Laina</td>\n",
       "      <td>female</td>\n",
       "      <td>26.0</td>\n",
       "      <td>0</td>\n",
       "      <td>0</td>\n",
       "      <td>STON/O2. 3101282</td>\n",
       "      <td>7.9250</td>\n",
       "      <td>NaN</td>\n",
       "      <td>S</td>\n",
       "    </tr>\n",
       "    <tr>\n",
       "      <th>3</th>\n",
       "      <td>4</td>\n",
       "      <td>1</td>\n",
       "      <td>1</td>\n",
       "      <td>Futrelle, Mrs. Jacques Heath (Lily May Peel)</td>\n",
       "      <td>female</td>\n",
       "      <td>35.0</td>\n",
       "      <td>1</td>\n",
       "      <td>0</td>\n",
       "      <td>113803</td>\n",
       "      <td>53.1000</td>\n",
       "      <td>C123</td>\n",
       "      <td>S</td>\n",
       "    </tr>\n",
       "    <tr>\n",
       "      <th>4</th>\n",
       "      <td>5</td>\n",
       "      <td>0</td>\n",
       "      <td>3</td>\n",
       "      <td>Allen, Mr. William Henry</td>\n",
       "      <td>male</td>\n",
       "      <td>35.0</td>\n",
       "      <td>0</td>\n",
       "      <td>0</td>\n",
       "      <td>373450</td>\n",
       "      <td>8.0500</td>\n",
       "      <td>NaN</td>\n",
       "      <td>S</td>\n",
       "    </tr>\n",
       "    <tr>\n",
       "      <th>5</th>\n",
       "      <td>6</td>\n",
       "      <td>0</td>\n",
       "      <td>3</td>\n",
       "      <td>Moran, Mr. James</td>\n",
       "      <td>male</td>\n",
       "      <td>NaN</td>\n",
       "      <td>0</td>\n",
       "      <td>0</td>\n",
       "      <td>330877</td>\n",
       "      <td>8.4583</td>\n",
       "      <td>NaN</td>\n",
       "      <td>Q</td>\n",
       "    </tr>\n",
       "    <tr>\n",
       "      <th>6</th>\n",
       "      <td>7</td>\n",
       "      <td>0</td>\n",
       "      <td>1</td>\n",
       "      <td>McCarthy, Mr. Timothy J</td>\n",
       "      <td>male</td>\n",
       "      <td>54.0</td>\n",
       "      <td>0</td>\n",
       "      <td>0</td>\n",
       "      <td>17463</td>\n",
       "      <td>51.8625</td>\n",
       "      <td>E46</td>\n",
       "      <td>S</td>\n",
       "    </tr>\n",
       "    <tr>\n",
       "      <th>7</th>\n",
       "      <td>8</td>\n",
       "      <td>0</td>\n",
       "      <td>3</td>\n",
       "      <td>Palsson, Master. Gosta Leonard</td>\n",
       "      <td>male</td>\n",
       "      <td>2.0</td>\n",
       "      <td>3</td>\n",
       "      <td>1</td>\n",
       "      <td>349909</td>\n",
       "      <td>21.0750</td>\n",
       "      <td>NaN</td>\n",
       "      <td>S</td>\n",
       "    </tr>\n",
       "    <tr>\n",
       "      <th>8</th>\n",
       "      <td>9</td>\n",
       "      <td>1</td>\n",
       "      <td>3</td>\n",
       "      <td>Johnson, Mrs. Oscar W (Elisabeth Vilhelmina Berg)</td>\n",
       "      <td>female</td>\n",
       "      <td>27.0</td>\n",
       "      <td>0</td>\n",
       "      <td>2</td>\n",
       "      <td>347742</td>\n",
       "      <td>11.1333</td>\n",
       "      <td>NaN</td>\n",
       "      <td>S</td>\n",
       "    </tr>\n",
       "    <tr>\n",
       "      <th>9</th>\n",
       "      <td>10</td>\n",
       "      <td>1</td>\n",
       "      <td>2</td>\n",
       "      <td>Nasser, Mrs. Nicholas (Adele Achem)</td>\n",
       "      <td>female</td>\n",
       "      <td>14.0</td>\n",
       "      <td>1</td>\n",
       "      <td>0</td>\n",
       "      <td>237736</td>\n",
       "      <td>30.0708</td>\n",
       "      <td>NaN</td>\n",
       "      <td>C</td>\n",
       "    </tr>\n",
       "  </tbody>\n",
       "</table>\n",
       "</div>"
      ],
      "text/plain": [
       "   PassengerId  Survived  Pclass  \\\n",
       "0            1         0       3   \n",
       "1            2         1       1   \n",
       "2            3         1       3   \n",
       "3            4         1       1   \n",
       "4            5         0       3   \n",
       "5            6         0       3   \n",
       "6            7         0       1   \n",
       "7            8         0       3   \n",
       "8            9         1       3   \n",
       "9           10         1       2   \n",
       "\n",
       "                                                Name     Sex   Age  SibSp  \\\n",
       "0                            Braund, Mr. Owen Harris    male  22.0      1   \n",
       "1  Cumings, Mrs. John Bradley (Florence Briggs Th...  female  38.0      1   \n",
       "2                             Heikkinen, Miss. Laina  female  26.0      0   \n",
       "3       Futrelle, Mrs. Jacques Heath (Lily May Peel)  female  35.0      1   \n",
       "4                           Allen, Mr. William Henry    male  35.0      0   \n",
       "5                                   Moran, Mr. James    male   NaN      0   \n",
       "6                            McCarthy, Mr. Timothy J    male  54.0      0   \n",
       "7                     Palsson, Master. Gosta Leonard    male   2.0      3   \n",
       "8  Johnson, Mrs. Oscar W (Elisabeth Vilhelmina Berg)  female  27.0      0   \n",
       "9                Nasser, Mrs. Nicholas (Adele Achem)  female  14.0      1   \n",
       "\n",
       "   Parch            Ticket     Fare Cabin Embarked  \n",
       "0      0         A/5 21171   7.2500   NaN        S  \n",
       "1      0          PC 17599  71.2833   C85        C  \n",
       "2      0  STON/O2. 3101282   7.9250   NaN        S  \n",
       "3      0            113803  53.1000  C123        S  \n",
       "4      0            373450   8.0500   NaN        S  \n",
       "5      0            330877   8.4583   NaN        Q  \n",
       "6      0             17463  51.8625   E46        S  \n",
       "7      1            349909  21.0750   NaN        S  \n",
       "8      2            347742  11.1333   NaN        S  \n",
       "9      0            237736  30.0708   NaN        C  "
      ]
     },
     "execution_count": 13,
     "metadata": {},
     "output_type": "execute_result"
    }
   ],
   "source": [
    "titanic.head(10)"
   ]
  },
  {
   "cell_type": "code",
   "execution_count": 14,
   "metadata": {
    "colab": {
     "base_uri": "https://localhost:8080/",
     "height": 142
    },
    "executionInfo": {
     "elapsed": 285,
     "status": "ok",
     "timestamp": 1630066198552,
     "user": {
      "displayName": "Young Min Hong",
      "photoUrl": "",
      "userId": "02710847191408309946"
     },
     "user_tz": -540
    },
    "id": "2h0a7ksefL2J",
    "outputId": "c50b0fe2-0d66-41d6-9db4-d2229db8d7f2"
   },
   "outputs": [
    {
     "data": {
      "text/html": [
       "<div>\n",
       "<style scoped>\n",
       "    .dataframe tbody tr th:only-of-type {\n",
       "        vertical-align: middle;\n",
       "    }\n",
       "\n",
       "    .dataframe tbody tr th {\n",
       "        vertical-align: top;\n",
       "    }\n",
       "\n",
       "    .dataframe thead th {\n",
       "        text-align: right;\n",
       "    }\n",
       "</style>\n",
       "<table border=\"1\" class=\"dataframe\">\n",
       "  <thead>\n",
       "    <tr style=\"text-align: right;\">\n",
       "      <th></th>\n",
       "      <th>index</th>\n",
       "      <th>Embarked</th>\n",
       "    </tr>\n",
       "  </thead>\n",
       "  <tbody>\n",
       "    <tr>\n",
       "      <th>0</th>\n",
       "      <td>S</td>\n",
       "      <td>644</td>\n",
       "    </tr>\n",
       "    <tr>\n",
       "      <th>1</th>\n",
       "      <td>C</td>\n",
       "      <td>168</td>\n",
       "    </tr>\n",
       "    <tr>\n",
       "      <th>2</th>\n",
       "      <td>Q</td>\n",
       "      <td>77</td>\n",
       "    </tr>\n",
       "  </tbody>\n",
       "</table>\n",
       "</div>"
      ],
      "text/plain": [
       "  index  Embarked\n",
       "0     S       644\n",
       "1     C       168\n",
       "2     Q        77"
      ]
     },
     "execution_count": 14,
     "metadata": {},
     "output_type": "execute_result"
    }
   ],
   "source": [
    "counts = titanic['Embarked'].value_counts()\n",
    "new = counts.reset_index(inplace = False)\n",
    "new.head()"
   ]
  },
  {
   "cell_type": "code",
   "execution_count": 15,
   "metadata": {
    "colab": {
     "base_uri": "https://localhost:8080/",
     "height": 142
    },
    "executionInfo": {
     "elapsed": 289,
     "status": "ok",
     "timestamp": 1630066235820,
     "user": {
      "displayName": "Young Min Hong",
      "photoUrl": "",
      "userId": "02710847191408309946"
     },
     "user_tz": -540
    },
    "id": "O-edPLclfbzb",
    "outputId": "ffe27201-f764-484b-fc44-2fc63a7804cd"
   },
   "outputs": [
    {
     "data": {
      "text/html": [
       "<div>\n",
       "<style scoped>\n",
       "    .dataframe tbody tr th:only-of-type {\n",
       "        vertical-align: middle;\n",
       "    }\n",
       "\n",
       "    .dataframe tbody tr th {\n",
       "        vertical-align: top;\n",
       "    }\n",
       "\n",
       "    .dataframe thead th {\n",
       "        text-align: right;\n",
       "    }\n",
       "</style>\n",
       "<table border=\"1\" class=\"dataframe\">\n",
       "  <thead>\n",
       "    <tr style=\"text-align: right;\">\n",
       "      <th></th>\n",
       "      <th>Embarked</th>\n",
       "      <th>Counts</th>\n",
       "    </tr>\n",
       "  </thead>\n",
       "  <tbody>\n",
       "    <tr>\n",
       "      <th>0</th>\n",
       "      <td>S</td>\n",
       "      <td>644</td>\n",
       "    </tr>\n",
       "    <tr>\n",
       "      <th>1</th>\n",
       "      <td>C</td>\n",
       "      <td>168</td>\n",
       "    </tr>\n",
       "    <tr>\n",
       "      <th>2</th>\n",
       "      <td>Q</td>\n",
       "      <td>77</td>\n",
       "    </tr>\n",
       "  </tbody>\n",
       "</table>\n",
       "</div>"
      ],
      "text/plain": [
       "  Embarked  Counts\n",
       "0        S     644\n",
       "1        C     168\n",
       "2        Q      77"
      ]
     },
     "execution_count": 15,
     "metadata": {},
     "output_type": "execute_result"
    }
   ],
   "source": [
    "new.rename(columns={'index':'Embarked',\"Embarked\":'Counts'}, inplace = True)\n",
    "new"
   ]
  },
  {
   "cell_type": "markdown",
   "metadata": {
    "id": "zmMeLEn222s3"
   },
   "source": [
    "# 7. 성별('Sex')이 여성('Female')이며, 요금('Fare')은 15이상인 사람 추출하여 새로운 데이터 프레임 작성\n",
    "+ titanic_train.csv 파일 활용\n",
    "+ pandas 라이브러리 활용\n",
    "+ pandas 라이브러리의 read_csv 활용\n",
    "+ 인덱스 재설정\n",
    "+ head(10) 로 결과 도출"
   ]
  },
  {
   "cell_type": "code",
   "execution_count": 17,
   "metadata": {
    "id": "uYjcs82o22s4"
   },
   "outputs": [],
   "source": [
    "import pandas as pd\n",
    "titanic = pd.read_csv('titanic_train.csv')"
   ]
  },
  {
   "cell_type": "code",
   "execution_count": 26,
   "metadata": {
    "colab": {
     "base_uri": "https://localhost:8080/",
     "height": 445
    },
    "executionInfo": {
     "elapsed": 276,
     "status": "ok",
     "timestamp": 1630066642508,
     "user": {
      "displayName": "Young Min Hong",
      "photoUrl": "",
      "userId": "02710847191408309946"
     },
     "user_tz": -540
    },
    "id": "RGpvom4Qhiqb",
    "outputId": "e1fdcf15-d127-4f6d-94d0-5963bdbc5798"
   },
   "outputs": [
    {
     "data": {
      "text/html": [
       "<div>\n",
       "<style scoped>\n",
       "    .dataframe tbody tr th:only-of-type {\n",
       "        vertical-align: middle;\n",
       "    }\n",
       "\n",
       "    .dataframe tbody tr th {\n",
       "        vertical-align: top;\n",
       "    }\n",
       "\n",
       "    .dataframe thead th {\n",
       "        text-align: right;\n",
       "    }\n",
       "</style>\n",
       "<table border=\"1\" class=\"dataframe\">\n",
       "  <thead>\n",
       "    <tr style=\"text-align: right;\">\n",
       "      <th></th>\n",
       "      <th>PassengerId</th>\n",
       "      <th>Survived</th>\n",
       "      <th>Pclass</th>\n",
       "      <th>Name</th>\n",
       "      <th>Sex</th>\n",
       "      <th>Age</th>\n",
       "      <th>SibSp</th>\n",
       "      <th>Parch</th>\n",
       "      <th>Ticket</th>\n",
       "      <th>Fare</th>\n",
       "      <th>Cabin</th>\n",
       "      <th>Embarked</th>\n",
       "    </tr>\n",
       "  </thead>\n",
       "  <tbody>\n",
       "    <tr>\n",
       "      <th>0</th>\n",
       "      <td>2</td>\n",
       "      <td>1</td>\n",
       "      <td>1</td>\n",
       "      <td>Cumings, Mrs. John Bradley (Florence Briggs Th...</td>\n",
       "      <td>female</td>\n",
       "      <td>38.0</td>\n",
       "      <td>1</td>\n",
       "      <td>0</td>\n",
       "      <td>PC 17599</td>\n",
       "      <td>71.2833</td>\n",
       "      <td>C85</td>\n",
       "      <td>C</td>\n",
       "    </tr>\n",
       "    <tr>\n",
       "      <th>1</th>\n",
       "      <td>4</td>\n",
       "      <td>1</td>\n",
       "      <td>1</td>\n",
       "      <td>Futrelle, Mrs. Jacques Heath (Lily May Peel)</td>\n",
       "      <td>female</td>\n",
       "      <td>35.0</td>\n",
       "      <td>1</td>\n",
       "      <td>0</td>\n",
       "      <td>113803</td>\n",
       "      <td>53.1000</td>\n",
       "      <td>C123</td>\n",
       "      <td>S</td>\n",
       "    </tr>\n",
       "    <tr>\n",
       "      <th>2</th>\n",
       "      <td>10</td>\n",
       "      <td>1</td>\n",
       "      <td>2</td>\n",
       "      <td>Nasser, Mrs. Nicholas (Adele Achem)</td>\n",
       "      <td>female</td>\n",
       "      <td>14.0</td>\n",
       "      <td>1</td>\n",
       "      <td>0</td>\n",
       "      <td>237736</td>\n",
       "      <td>30.0708</td>\n",
       "      <td>NaN</td>\n",
       "      <td>C</td>\n",
       "    </tr>\n",
       "    <tr>\n",
       "      <th>3</th>\n",
       "      <td>11</td>\n",
       "      <td>1</td>\n",
       "      <td>3</td>\n",
       "      <td>Sandstrom, Miss. Marguerite Rut</td>\n",
       "      <td>female</td>\n",
       "      <td>4.0</td>\n",
       "      <td>1</td>\n",
       "      <td>1</td>\n",
       "      <td>PP 9549</td>\n",
       "      <td>16.7000</td>\n",
       "      <td>G6</td>\n",
       "      <td>S</td>\n",
       "    </tr>\n",
       "    <tr>\n",
       "      <th>4</th>\n",
       "      <td>12</td>\n",
       "      <td>1</td>\n",
       "      <td>1</td>\n",
       "      <td>Bonnell, Miss. Elizabeth</td>\n",
       "      <td>female</td>\n",
       "      <td>58.0</td>\n",
       "      <td>0</td>\n",
       "      <td>0</td>\n",
       "      <td>113783</td>\n",
       "      <td>26.5500</td>\n",
       "      <td>C103</td>\n",
       "      <td>S</td>\n",
       "    </tr>\n",
       "    <tr>\n",
       "      <th>5</th>\n",
       "      <td>16</td>\n",
       "      <td>1</td>\n",
       "      <td>2</td>\n",
       "      <td>Hewlett, Mrs. (Mary D Kingcome)</td>\n",
       "      <td>female</td>\n",
       "      <td>55.0</td>\n",
       "      <td>0</td>\n",
       "      <td>0</td>\n",
       "      <td>248706</td>\n",
       "      <td>16.0000</td>\n",
       "      <td>NaN</td>\n",
       "      <td>S</td>\n",
       "    </tr>\n",
       "    <tr>\n",
       "      <th>6</th>\n",
       "      <td>19</td>\n",
       "      <td>0</td>\n",
       "      <td>3</td>\n",
       "      <td>Vander Planke, Mrs. Julius (Emelia Maria Vande...</td>\n",
       "      <td>female</td>\n",
       "      <td>31.0</td>\n",
       "      <td>1</td>\n",
       "      <td>0</td>\n",
       "      <td>345763</td>\n",
       "      <td>18.0000</td>\n",
       "      <td>NaN</td>\n",
       "      <td>S</td>\n",
       "    </tr>\n",
       "    <tr>\n",
       "      <th>7</th>\n",
       "      <td>25</td>\n",
       "      <td>0</td>\n",
       "      <td>3</td>\n",
       "      <td>Palsson, Miss. Torborg Danira</td>\n",
       "      <td>female</td>\n",
       "      <td>8.0</td>\n",
       "      <td>3</td>\n",
       "      <td>1</td>\n",
       "      <td>349909</td>\n",
       "      <td>21.0750</td>\n",
       "      <td>NaN</td>\n",
       "      <td>S</td>\n",
       "    </tr>\n",
       "    <tr>\n",
       "      <th>8</th>\n",
       "      <td>26</td>\n",
       "      <td>1</td>\n",
       "      <td>3</td>\n",
       "      <td>Asplund, Mrs. Carl Oscar (Selma Augusta Emilia...</td>\n",
       "      <td>female</td>\n",
       "      <td>38.0</td>\n",
       "      <td>1</td>\n",
       "      <td>5</td>\n",
       "      <td>347077</td>\n",
       "      <td>31.3875</td>\n",
       "      <td>NaN</td>\n",
       "      <td>S</td>\n",
       "    </tr>\n",
       "    <tr>\n",
       "      <th>9</th>\n",
       "      <td>32</td>\n",
       "      <td>1</td>\n",
       "      <td>1</td>\n",
       "      <td>Spencer, Mrs. William Augustus (Marie Eugenie)</td>\n",
       "      <td>female</td>\n",
       "      <td>NaN</td>\n",
       "      <td>1</td>\n",
       "      <td>0</td>\n",
       "      <td>PC 17569</td>\n",
       "      <td>146.5208</td>\n",
       "      <td>B78</td>\n",
       "      <td>C</td>\n",
       "    </tr>\n",
       "  </tbody>\n",
       "</table>\n",
       "</div>"
      ],
      "text/plain": [
       "   PassengerId  Survived  Pclass  \\\n",
       "0            2         1       1   \n",
       "1            4         1       1   \n",
       "2           10         1       2   \n",
       "3           11         1       3   \n",
       "4           12         1       1   \n",
       "5           16         1       2   \n",
       "6           19         0       3   \n",
       "7           25         0       3   \n",
       "8           26         1       3   \n",
       "9           32         1       1   \n",
       "\n",
       "                                                Name     Sex   Age  SibSp  \\\n",
       "0  Cumings, Mrs. John Bradley (Florence Briggs Th...  female  38.0      1   \n",
       "1       Futrelle, Mrs. Jacques Heath (Lily May Peel)  female  35.0      1   \n",
       "2                Nasser, Mrs. Nicholas (Adele Achem)  female  14.0      1   \n",
       "3                    Sandstrom, Miss. Marguerite Rut  female   4.0      1   \n",
       "4                           Bonnell, Miss. Elizabeth  female  58.0      0   \n",
       "5                   Hewlett, Mrs. (Mary D Kingcome)   female  55.0      0   \n",
       "6  Vander Planke, Mrs. Julius (Emelia Maria Vande...  female  31.0      1   \n",
       "7                      Palsson, Miss. Torborg Danira  female   8.0      3   \n",
       "8  Asplund, Mrs. Carl Oscar (Selma Augusta Emilia...  female  38.0      1   \n",
       "9     Spencer, Mrs. William Augustus (Marie Eugenie)  female   NaN      1   \n",
       "\n",
       "   Parch    Ticket      Fare Cabin Embarked  \n",
       "0      0  PC 17599   71.2833   C85        C  \n",
       "1      0    113803   53.1000  C123        S  \n",
       "2      0    237736   30.0708   NaN        C  \n",
       "3      1   PP 9549   16.7000    G6        S  \n",
       "4      0    113783   26.5500  C103        S  \n",
       "5      0    248706   16.0000   NaN        S  \n",
       "6      0    345763   18.0000   NaN        S  \n",
       "7      1    349909   21.0750   NaN        S  \n",
       "8      5    347077   31.3875   NaN        S  \n",
       "9      0  PC 17569  146.5208   B78        C  "
      ]
     },
     "execution_count": 26,
     "metadata": {},
     "output_type": "execute_result"
    }
   ],
   "source": [
    "k = titanic.Sex == 'female'\n",
    "j = titanic.Fare >= 15\n",
    "df = titanic[k&j]\n",
    "df.reset_index(inplace = True)\n",
    "drop = df.copy()\n",
    "drop.drop('index', axis = 1, inplace = True)\n",
    "drop.head(10)"
   ]
  },
  {
   "cell_type": "markdown",
   "metadata": {
    "id": "C5d4vSA722s5"
   },
   "source": [
    "# 8. 나이에 따라 분류하는 [Age_cat] column추가\n",
    "+ titanic_train.csv 파일 활용\n",
    "+ pandas 라이브러리 활용\n",
    "+ pandas 라이브러리의 read_csv 활용\n",
    "+ def, if-elif-else, apply 활용\n",
    "+ \n",
    "+ 5이하 : Baby\n",
    "+ 5초과 12이하 : Child\n",
    "+ 12초과 18이하 : Teenager\n",
    "+ 18초과 25이하 : Student\n",
    "+ 25초과 35이하 : Young Adult\n",
    "+ 35초과 60이하 : Adult\n",
    "+ 60초과 : Elderly"
   ]
  },
  {
   "cell_type": "code",
   "execution_count": 28,
   "metadata": {
    "id": "fhx-Kv4P22s7"
   },
   "outputs": [],
   "source": [
    "import pandas as pd\n",
    "titanic = pd.read_csv('titanic_train.csv')"
   ]
  },
  {
   "cell_type": "code",
   "execution_count": 29,
   "metadata": {
    "id": "ov9LPyHjjIkK"
   },
   "outputs": [],
   "source": [
    "def Age_diversify(x):\n",
    "  if x <= 5:\n",
    "    result = 'Baby'\n",
    "  elif x <= 12:\n",
    "    result = 'Child'\n",
    "  elif x <= 18:\n",
    "    result = 'Teenager'\n",
    "  elif x <= 25:\n",
    "    result = 'Student'\n",
    "  elif x <= 35:\n",
    "    result = 'Young Adult'\n",
    "  elif x <= 60:\n",
    "    result = 'Adult'\n",
    "  else :\n",
    "    result = 'Elderly'\n",
    "  return result\n",
    "\n",
    "titanic['Age_cat'] = titanic.Age.apply(lambda x : Age_diversify(x))\n",
    "                                    "
   ]
  },
  {
   "cell_type": "code",
   "execution_count": 30,
   "metadata": {
    "colab": {
     "base_uri": "https://localhost:8080/"
    },
    "executionInfo": {
     "elapsed": 257,
     "status": "ok",
     "timestamp": 1630067202722,
     "user": {
      "displayName": "Young Min Hong",
      "photoUrl": "",
      "userId": "02710847191408309946"
     },
     "user_tz": -540
    },
    "id": "qcnEuQOgkQR_",
    "outputId": "d0237bae-8be9-47d6-a6fd-e4cf5689fdda"
   },
   "outputs": [
    {
     "data": {
      "text/plain": [
       "Elderly        199\n",
       "Young Adult    196\n",
       "Adult          195\n",
       "Student        162\n",
       "Teenager        70\n",
       "Baby            44\n",
       "Child           25\n",
       "Name: Age_cat, dtype: int64"
      ]
     },
     "execution_count": 30,
     "metadata": {},
     "output_type": "execute_result"
    }
   ],
   "source": [
    "titanic.Age_cat.value_counts()"
   ]
  },
  {
   "cell_type": "code",
   "execution_count": null,
   "metadata": {
    "id": "WzRCg6WjkaX2"
   },
   "outputs": [],
   "source": []
  }
 ],
 "metadata": {
  "colab": {
   "collapsed_sections": [],
   "name": "레벨 달성 평가 LV1 기본 프로그래밍 실습.ipynb",
   "provenance": []
  },
  "kernelspec": {
   "display_name": "Python 3",
   "language": "python",
   "name": "python3"
  },
  "language_info": {
   "codemirror_mode": {
    "name": "ipython",
    "version": 3
   },
   "file_extension": ".py",
   "mimetype": "text/x-python",
   "name": "python",
   "nbconvert_exporter": "python",
   "pygments_lexer": "ipython3",
   "version": "3.8.8"
  }
 },
 "nbformat": 4,
 "nbformat_minor": 1
}
