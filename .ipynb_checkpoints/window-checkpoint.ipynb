{
 "cells": [
  {
   "cell_type": "code",
   "execution_count": 6,
   "id": "1833e0ce",
   "metadata": {},
   "outputs": [],
   "source": [
    "#widget 시작\n",
    "from tkinter import *\n",
    "window = Tk()\n",
    "## 사이에 여러가지 설정을 해야 한다##\n",
    "window.title('연습') #타이틀\n",
    "window.geometry(\"400x100\") #사이즈 가운데 x는 소문자 x\n",
    "window.resizable(width = False, height = False) \n",
    "window.mainloop() #팝업창 유지하는 코드"
   ]
  },
  {
   "cell_type": "code",
   "execution_count": 9,
   "id": "d0da6f33",
   "metadata": {},
   "outputs": [],
   "source": [
    "#label\n",
    "from tkinter import *\n",
    "window = Tk()\n",
    "label1 = Label(window, text = '파이썬,')\n",
    "label2 = Label(window, text = '열심히',font = ('궁처체',30),fg = 'blue', bg = 'red')\n",
    "label1.pack()\n",
    "label2.pack()\n",
    "\n",
    "window.mainloop()"
   ]
  },
  {
   "cell_type": "code",
   "execution_count": 28,
   "id": "98b1b394",
   "metadata": {},
   "outputs": [],
   "source": [
    "#사진 넣기\n",
    "\n",
    "from tkinter import *\n",
    "window = Tk()\n",
    "\n",
    "window.title('그림')\n",
    "photo = PhotoImage(file = 'gif/dog.gif', master = window)\n",
    "\n",
    "label1 = Label(window, image = photo)\n",
    "\n",
    "label1.pack()\n",
    "\n",
    "window.mainloop()"
   ]
  },
  {
   "cell_type": "code",
   "execution_count": 27,
   "id": "2878f1b0",
   "metadata": {
    "scrolled": true
   },
   "outputs": [],
   "source": [
    "from tkinter import *\n",
    "from tkinter import messagebox\n",
    "window = Tk()\n",
    "\n",
    "def myFunc():\n",
    "    messagebox.showinfo('강아지', '강아지')\n",
    "\n",
    "photo = PhotoImage(file = 'gif/cat.gif', master=window)\n",
    "button1=Button(window,image = photo, command = myFunc)\n",
    "\n",
    "button1.pack()\n",
    "\n",
    "window.mainloop()"
   ]
  },
  {
   "cell_type": "code",
   "execution_count": 32,
   "id": "09f28e41",
   "metadata": {},
   "outputs": [],
   "source": [
    "from tkinter import *\n",
    "from tkinter import messagebox\n",
    "window=Tk()\n",
    "\n",
    "def myfunc():\n",
    "    if chk.get() == 0:\n",
    "        messagebox.showinfo(\"\",\"체크\")\n",
    "    else:\n",
    "        messagebox.showinfo(\"\",\"체크함\")\n",
    "chk = IntVar()\n",
    "cb1 = Checkbutton(window,text = '클릭', variable= chk, command = myfunc)\n",
    "cb1.pack()\n",
    "\n",
    "window.mainloop()"
   ]
  },
  {
   "cell_type": "code",
   "execution_count": 35,
   "id": "a2eb118c",
   "metadata": {
    "scrolled": true
   },
   "outputs": [],
   "source": [
    "from tkinter import *\n",
    "\n",
    "window = Tk()\n",
    "\n",
    "def myFunc():\n",
    "    if var.get() == 1:\n",
    "        label1.configure (text = '1')\n",
    "    elif var.get() == 2:\n",
    "        label1.configure (text = '2')\n",
    "    else : \n",
    "        label1.configure (text = '3')\n",
    "        \n",
    "var = IntVar()\n",
    "rb1 = Radiobutton (window, text = '1', variable=var, value=1, command =myFunc)\n",
    "rb2 = Radiobutton (window, text = '2', variable=var, value=2, command =myFunc)\n",
    "rb3 = Radiobutton (window, text = '3', variable=var, value=3, command =myFunc)\n",
    "\n",
    "label1 = Label(window, text = 'number', fg = 'red')\n",
    "\n",
    "rb1.pack()\n",
    "rb2.pack()\n",
    "rb3.pack()\n",
    "label1.pack()\n",
    "\n",
    "window.mainloop()"
   ]
  },
  {
   "cell_type": "code",
   "execution_count": 39,
   "id": "3a88c909",
   "metadata": {},
   "outputs": [],
   "source": [
    "from tkinter import *\n",
    "window = Tk()\n",
    "\n",
    "button1 = Button(window,text = '눌러라1')\n",
    "button2 = Button(window,text = '눌러라2')\n",
    "button3 = Button(window,text = '눌러라3')\n",
    "\n",
    "button1.pack(side = RIGHT)\n",
    "button2.pack(side = LEFT)\n",
    "button3.pack(side = LEFT) # 마지막의 순서가 가장 오른쪽, 왼쪽으로 가게된다\n",
    "#for문을 활용해서 수평정렬이 가능도 하다\n",
    "window.mainloop()"
   ]
  },
  {
   "cell_type": "code",
   "execution_count": 46,
   "id": "02984d56",
   "metadata": {},
   "outputs": [],
   "source": [
    "# pack 은 배치, place는 고정\n",
    "\n",
    "from tkinter import *\n",
    "btnList = [\"\"] *9\n",
    "fnameList = ['jeju1.gif','jeju2.gif','jeju3.gif','jeju4.gif','jeju5.gif','jeju6.gif','jeju7.gif','jeju8.gif','jeju9.gif']\n",
    "photoList = [None]*9\n",
    "i, k = 0,0\n",
    "xPos ,yPos = 0,0\n",
    "num = 0\n",
    "window = Tk()\n",
    "window.geometry('1200x1200')\n",
    "\n",
    "for i in range (0,9):\n",
    "    photoList[i] = PhotoImage(file = 'gif/'+fnameList[i], master = window)\n",
    "    btnList [i] = Button(window,image = photoList[i])\n",
    "    \n",
    "for i in range(0,3):\n",
    "    for ki in range (0,3):\n",
    "        btnList[num].place(x = xPos, y = yPos)\n",
    "        num +=1\n",
    "        xPos+= 300\n",
    "    xPos = 0\n",
    "    yPos +=300\n",
    "    \n",
    "window.mainloop()\n",
    "    \n"
   ]
  },
  {
   "cell_type": "code",
   "execution_count": null,
   "id": "283ac3f8",
   "metadata": {},
   "outputs": [],
   "source": [
    "fnameList = [\"'jeju1.gif','jeju1.gif','jeju1.gif','jeju1.gif','jeju1.gif','jeju1.gif','jeju1.gif','jeju1.gif','jeju1.gif',\"]\n",
    "num = 0\n",
    "\n",
    "def clickNext():\n",
    "    global num\n",
    "    num += 1\n",
    "    if num > 8:\n",
    "        num = 0\n",
    "    photo = PhotoImage(file = 'gif/'+ fnameList[num], master = window)\n",
    "    pLabel.configure(image = photo)\n",
    "    pLabel.image = photo\n",
    "    \n",
    "def clickPrev():\n",
    "    global num\n",
    "    num -= 1\n",
    "    if num < 0:\n",
    "        num = 8\n",
    "    photo = PhotoImage(file = 'gif/'+ fnameList[num], master = window)\n",
    "    pLabel.configure(image = photo)\n",
    "    pLabel.image = photo\n",
    "\n",
    "    \n",
    "window = Tk()\n",
    "window.geometry ('750x500')\n",
    "window.title = ('사진')\n",
    "btnPrev = Button(window, text = \"이전\",command = clickPrev)\n",
    "btnNext = Button(window, text = \"이후\",command = clickNext)\n",
    "\n",
    "photo = PhotoImage(file = 'gif')\n",
    "#미완성, pdf 참고해서 완료해 보던가"
   ]
  },
  {
   "cell_type": "code",
   "execution_count": 51,
   "id": "5fa8983d",
   "metadata": {},
   "outputs": [],
   "source": [
    "#마우스 클릭, 위젯 클릭 시 함수 호출 법도 있다\n",
    "from tkinter import *\n",
    "\n",
    "def clickMouse(event):\n",
    "    txt = ''\n",
    "    if event.num == 1:\n",
    "        txt += \"마우스 왼쪽 버튼이(\"\n",
    "    elif event.num == 3:\n",
    "        txt += \"마우스 오른쪽 버튼이(\"\n",
    "        \n",
    "    txt += str(event.y) + ',' + str(event.x) + \")에서 클릭됨\"\n",
    "    label1.configure(text=txt)\n",
    "    \n",
    "window = Tk()\n",
    "window.geometry('400x400')\n",
    "\n",
    "label1 = Label(window, text = '이곳이 바뀜')\n",
    "\n",
    "window.bind(\"<Button>\", clickMouse)\n",
    "\n",
    "label1.pack()\n",
    "window.mainloop()\n"
   ]
  },
  {
   "cell_type": "code",
   "execution_count": 56,
   "id": "08e2867e",
   "metadata": {},
   "outputs": [],
   "source": [
    "# 메뉴의 형식. 하위 & 상위\n",
    "from tkinter import *\n",
    "\n",
    "def func_open ():\n",
    "    messagebox.showinfo(\"메뉴 선택\", \"열기 선택\")\n",
    "def func_exit():\n",
    "    window.quit()\n",
    "    window.destroy()\n",
    "window = Tk()\n",
    "\n",
    "mainMenu = Menu(window)\n",
    "window.config(menu = mainMenu)\n",
    "\n",
    "fileMenu = Menu(mainMenu)\n",
    "mainMenu.add_cascade(label = '파일', menu = fileMenu)\n",
    "\n",
    "fileMenu.add_command(label='열기',command = func_open)\n",
    "fileMenu.add_separator()\n",
    "fileMenu.add_command(label = '종료', command= func_exit)\n",
    "\n",
    "window.mainloop()"
   ]
  },
  {
   "cell_type": "code",
   "execution_count": 59,
   "id": "64ec1f09",
   "metadata": {
    "scrolled": true
   },
   "outputs": [
    {
     "ename": "NameError",
     "evalue": "name 'label' is not defined",
     "output_type": "error",
     "traceback": [
      "\u001b[1;31m---------------------------------------------------------------------------\u001b[0m",
      "\u001b[1;31mNameError\u001b[0m                                 Traceback (most recent call last)",
      "\u001b[1;32m<ipython-input-59-76b25f80a79a>\u001b[0m in \u001b[0;36m<module>\u001b[1;34m\u001b[0m\n\u001b[0;32m      7\u001b[0m \u001b[1;33m\u001b[0m\u001b[0m\n\u001b[0;32m      8\u001b[0m \u001b[0mvalue\u001b[0m \u001b[1;33m=\u001b[0m \u001b[0maskinteger\u001b[0m\u001b[1;33m(\u001b[0m\u001b[1;34m'확대 배수'\u001b[0m\u001b[1;33m,\u001b[0m \u001b[1;34m'주사위 숫자 입력'\u001b[0m\u001b[1;33m,\u001b[0m \u001b[0mminvalue\u001b[0m \u001b[1;33m=\u001b[0m \u001b[1;36m1\u001b[0m\u001b[1;33m,\u001b[0m \u001b[0mmaxvalue\u001b[0m \u001b[1;33m=\u001b[0m \u001b[1;36m6\u001b[0m\u001b[1;33m)\u001b[0m\u001b[1;33m\u001b[0m\u001b[1;33m\u001b[0m\u001b[0m\n\u001b[1;32m----> 9\u001b[1;33m \u001b[0mlabel\u001b[0m\u001b[1;33m.\u001b[0m\u001b[0mconfigure\u001b[0m \u001b[1;33m(\u001b[0m\u001b[0mtext\u001b[0m \u001b[1;33m=\u001b[0m \u001b[0mstr\u001b[0m\u001b[1;33m(\u001b[0m\u001b[0mvalue\u001b[0m\u001b[1;33m)\u001b[0m\u001b[1;33m)\u001b[0m\u001b[1;33m\u001b[0m\u001b[1;33m\u001b[0m\u001b[0m\n\u001b[0m\u001b[0;32m     10\u001b[0m \u001b[1;33m\u001b[0m\u001b[0m\n\u001b[0;32m     11\u001b[0m \u001b[0mwindow\u001b[0m\u001b[1;33m.\u001b[0m\u001b[0mmainloop\u001b[0m\u001b[1;33m(\u001b[0m\u001b[1;33m)\u001b[0m\u001b[1;33m\u001b[0m\u001b[1;33m\u001b[0m\u001b[0m\n",
      "\u001b[1;31mNameError\u001b[0m: name 'label' is not defined"
     ]
    }
   ],
   "source": [
    "from tkinter import *\n",
    "from tkinter.simpledialog import *\n",
    "window = Tk()\n",
    "window.geometry('400x400')\n",
    "label1 = Label (window,text = '입력 값:')\n",
    "label1.pack()\n",
    "\n",
    "value = askinteger('확대 배수', '주사위 숫자 입력', minvalue = 1, maxvalue = 6)\n",
    "label.configure (text = str(value))\n",
    "\n",
    "window.mainloop()\n"
   ]
  },
  {
   "cell_type": "code",
   "execution_count": 2,
   "id": "d0dab61d",
   "metadata": {},
   "outputs": [],
   "source": [
    "from tkinter import *\n",
    "from tkinter.filedialog import *\n",
    "\n",
    "window = Tk()\n",
    "window.geometry('400x400')\n",
    "\n",
    "label1 = Label(window, text = '선택 파일 이름')\n",
    "label1.pack()\n",
    "\n",
    "filename = askopenfilename(parent = window, filetypes = (('gif 파일', '*.gif'), ('모든파일','*~*')))\n",
    "label1.configure(text = str(filename))\n",
    "\n",
    "window.mainloop()"
   ]
  },
  {
   "cell_type": "code",
   "execution_count": null,
   "id": "efc4f1d1",
   "metadata": {},
   "outputs": [],
   "source": []
  }
 ],
 "metadata": {
  "kernelspec": {
   "display_name": "Python 3",
   "language": "python",
   "name": "python3"
  },
  "language_info": {
   "codemirror_mode": {
    "name": "ipython",
    "version": 3
   },
   "file_extension": ".py",
   "mimetype": "text/x-python",
   "name": "python",
   "nbconvert_exporter": "python",
   "pygments_lexer": "ipython3",
   "version": "3.8.8"
  }
 },
 "nbformat": 4,
 "nbformat_minor": 5
}
