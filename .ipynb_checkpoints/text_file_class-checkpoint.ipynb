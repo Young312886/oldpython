{
 "cells": [
  {
   "cell_type": "code",
   "execution_count": 23,
   "id": "0523f3b0",
   "metadata": {},
   "outputs": [
    {
     "name": "stdout",
     "output_type": "stream",
     "text": [
      "안녕하세요\n",
      "텍스트 파일\n",
      "마지막ㄴ\n"
     ]
    }
   ],
   "source": [
    "\n",
    "txt_file = open (\"text.txt\", \"r\", encoding =  \"UTF8\")\n",
    "\n",
    "for i in range(0,3):\n",
    "    instr = txt_file.readline()\n",
    "    print (instr, end = \"\")\n",
    "\n",
    "txt_file.close()"
   ]
  },
  {
   "cell_type": "code",
   "execution_count": 26,
   "id": "091f7a1d",
   "metadata": {},
   "outputs": [
    {
     "name": "stdout",
     "output_type": "stream",
     "text": [
      "안녕하세요\n",
      "텍스트 파일\n",
      "마지막ㄴ\n",
      "asfdl\n",
      "alsdiena"
     ]
    }
   ],
   "source": [
    "#while 문으로 활용\n",
    "intro = open (\"text.txt\", \"r\", encoding =  \"UTF8\")\n",
    "while True:\n",
    "    instr = intro.readline()\n",
    "    if instr == \"\":\n",
    "        break\n",
    "    print (instr, end = \"\")\n",
    "    \n",
    "intro.close()"
   ]
  },
  {
   "cell_type": "code",
   "execution_count": 27,
   "id": "1a95b787",
   "metadata": {},
   "outputs": [
    {
     "name": "stdout",
     "output_type": "stream",
     "text": [
      "안녕하세요\n",
      "텍스트 파일\n",
      "마지막ㄴ\n",
      "asfdl\n",
      "alsdiena"
     ]
    }
   ],
   "source": [
    "intro = open (\"text.txt\", \"r\", encoding =  \"UTF8\")\n",
    "List = intro.readlines()\n",
    "for a in List :\n",
    "    print (a, end=\"\")\n",
    "    \n",
    "intro.close()"
   ]
  },
  {
   "cell_type": "code",
   "execution_count": 28,
   "id": "424ee80e",
   "metadata": {},
   "outputs": [
    {
     "name": "stdout",
     "output_type": "stream",
     "text": [
      "['안녕하세요\\n', '텍스트 파일\\n', '마지막ㄴ\\n', 'asfdl\\n', 'alsdiena']\n"
     ]
    }
   ],
   "source": [
    "with open ('text.txt','r', encoding = 'UTF8') as intro :\n",
    "    List = intro.readlines()\n",
    "    print (List)\n",
    "# with as는 자연스럽게 close 까지 됨 , 쓰기도 된다"
   ]
  },
  {
   "cell_type": "code",
   "execution_count": 31,
   "id": "59c1a2c4",
   "metadata": {},
   "outputs": [
    {
     "name": "stdout",
     "output_type": "stream",
     "text": [
      "파일명 + 확장자 :text.txt\n",
      "안녕하세요\n",
      "텍스트 파일\n",
      "마지막ㄴ\n",
      "asfdl\n",
      "alsdiena"
     ]
    }
   ],
   "source": [
    "name = input ('파일명 + 확장자 :') # 확장자 안 받고 싶으면 밑에다가 name +\".txt\"로 작성해주자\n",
    "Text = open (name, 'r', encoding = 'UTF8')\n",
    "List = Text.readlines()\n",
    "\n",
    "for a in List :\n",
    "    print (a, end = \"\")\n",
    "Text.close()"
   ]
  },
  {
   "cell_type": "code",
   "execution_count": 35,
   "id": "e452c72f",
   "metadata": {},
   "outputs": [
    {
     "name": "stdout",
     "output_type": "stream",
     "text": [
      "파일명 + 확장자 :tea\n",
      "tea 없다\n"
     ]
    }
   ],
   "source": [
    "import os\n",
    "\n",
    "name = input ('파일명 + 확장자 :') # 확장자 안 받고 싶으면 밑에다가 name +\".txt\"로 작성해주자\n",
    "\n",
    "\n",
    "\n",
    "if os.path.exists(name):\n",
    "    Text = open (name, 'r', encoding = 'UTF8')\n",
    "    List = Text.readlines()\n",
    "    for a in List :\n",
    "        print (a, end = \"\")\n",
    "    Text.close()\n",
    "\n",
    "else :\n",
    "    print (\"%s 없다\" %(name))\n",
    "    "
   ]
  },
  {
   "cell_type": "code",
   "execution_count": 36,
   "id": "bd4beeb4",
   "metadata": {},
   "outputs": [
    {
     "name": "stdout",
     "output_type": "stream",
     "text": [
      "내용 입력:ㅁㄴ이라\n",
      "내용 입력:먀두\n",
      "내용 입력:\n"
     ]
    }
   ],
   "source": [
    "#이제 쓸꺼임\n",
    "new = open (\"text2.txt\", \"w\", encoding =  \"UTF8\")\n",
    "\n",
    "while True :\n",
    "    Str = input('내용 입력:')\n",
    "    if Str != \"\":\n",
    "        new.write(Str + '\\n')\n",
    "    else :\n",
    "        break\n",
    "        \n",
    "new.close()\n",
    "# write는 새 파일을 자연스럽게 생성, 줄은 자동 줄바꿈 안됨, \n"
   ]
  },
  {
   "cell_type": "code",
   "execution_count": 38,
   "id": "300e43ea",
   "metadata": {},
   "outputs": [],
   "source": [
    "#copy 수작업\n",
    "def copy(x,y):\n",
    "    before = open(x,'r',encoding = 'UTF8')\n",
    "    after = open (y, 'w', encoding = 'UTF8')\n",
    "    before_lines = before.readlines()\n",
    "    for lines in before_lines :\n",
    "        after.write(lines)\n",
    "    before.close()\n",
    "    after.close()\n",
    "\n",
    "copy ('text.txt', 'text3.txt')"
   ]
  },
  {
   "cell_type": "code",
   "execution_count": 39,
   "id": "7ca62f2b",
   "metadata": {},
   "outputs": [
    {
     "data": {
      "text/plain": [
       "'text1.txt'"
      ]
     },
     "execution_count": 39,
     "metadata": {},
     "output_type": "execute_result"
    }
   ],
   "source": [
    "#또는 shutil 사용 폴더일 경우 copytree 사용 (절대경로 사용이 좀 더 유리할 듯)\n",
    "import shutil\n",
    "shutil.copy ( 'text.txt', 'text1.txt')"
   ]
  },
  {
   "cell_type": "code",
   "execution_count": 40,
   "id": "2063a91b",
   "metadata": {},
   "outputs": [],
   "source": [
    "#디렉토리(폴더) 생성기 + 밑에는 삭제기\n",
    "import os\n",
    "import shutil\n",
    "\n",
    "os.mkdir ('newtree')\n",
    "\n",
    "#shutil.rmtree('newtree')"
   ]
  },
  {
   "cell_type": "code",
   "execution_count": null,
   "id": "5f76d3f0",
   "metadata": {},
   "outputs": [],
   "source": [
    "import os.path\n",
    "\n",
    "#os.path.exists() 존재하는가?\n",
    "#os.path.isfile() 파일인가?\n",
    "#os.path.isdir() 폴더인가?"
   ]
  },
  {
   "cell_type": "code",
   "execution_count": 46,
   "id": "60a9087e",
   "metadata": {},
   "outputs": [
    {
     "data": {
      "text/plain": [
       "64"
      ]
     },
     "execution_count": 46,
     "metadata": {},
     "output_type": "execute_result"
    }
   ],
   "source": [
    "import os\n",
    "#os.remove('text2.txt') # 삭제, 하나씩\n",
    "\n",
    "import os.path\n",
    "os.path.getsize('text.txt') # byte단위이다"
   ]
  },
  {
   "cell_type": "code",
   "execution_count": 72,
   "id": "27420d56",
   "metadata": {},
   "outputs": [
    {
     "name": "stdout",
     "output_type": "stream",
     "text": [
      "무슨 작업을 진행할 것 입니까?2\n",
      "작업 할 파일명 : new1.txt\n",
      "저장할 파일명 :text5.txt\n"
     ]
    }
   ],
   "source": [
    "#암호화 하는 코드 \n",
    "n = 0\n",
    "new_word = []\n",
    "def encoding (x):\n",
    "    j = ord (x)\n",
    "    k = j + 15\n",
    "    k=chr (k)\n",
    "    return k\n",
    "def decoding (x):\n",
    "    k = ord(x)\n",
    "    j = k - 15\n",
    "    j=chr(j)\n",
    "    return j\n",
    "## 또는 이 값을 if 로 변수를 정하는 방향으로 진행되어도 좋다\n",
    "n = int(input('무슨 작업을 진행할 것 입니까?'))\n",
    "intro = input('작업 할 파일명 : ')\n",
    "outro = input ('저장할 파일명 :')\n",
    "\n",
    "if n == 1:\n",
    "    before = open(intro,'r',encoding = 'UTF8')\n",
    "    after = open (outro, 'w', encoding = 'UTF8')\n",
    "    list1 = before.readlines()\n",
    "    for i in range(len(list1)):\n",
    "        word = list1 [i]\n",
    "        for j in word:\n",
    "            new = encoding (j)\n",
    "            new_word.append(new)\n",
    "    Str=''.join(new_word)\n",
    "    after.writelines(Str)\n",
    "    before.close()\n",
    "    after.close()\n",
    "elif n == 2:\n",
    "    before = open(intro,'r',encoding = 'UTF8')\n",
    "    after = open (outro, 'w', encoding = 'UTF8')\n",
    "    list1 = before.readlines()\n",
    "    for i in range(len(list1)):\n",
    "        word = list1 [i]\n",
    "        for j in word:\n",
    "            new = decoding (j)\n",
    "            new_word.append(new)\n",
    "    Str=''.join(new_word)\n",
    "    after.writelines(Str)\n",
    "    before.close()\n",
    "    after.close()\n",
    "else : \n",
    "    print ('잘못된 사항 입니다')"
   ]
  },
  {
   "cell_type": "code",
   "execution_count": 61,
   "id": "df699e22",
   "metadata": {},
   "outputs": [
    {
     "name": "stdout",
     "output_type": "stream",
     "text": [
      "115\n"
     ]
    }
   ],
   "source": [
    "listk = ['skad','woei','wie']\n",
    "j = listk[0][0]\n",
    "k = ord(j)\n",
    "print (k)"
   ]
  },
  {
   "cell_type": "code",
   "execution_count": 80,
   "id": "560b0207",
   "metadata": {},
   "outputs": [
    {
     "name": "stdout",
     "output_type": "stream",
     "text": [
      "100\n",
      "130\n",
      "blue 30\n"
     ]
    }
   ],
   "source": [
    "# 설계도 작성 과 호출 , 즉 field + method \n",
    "# 여기서 method 는 지역함수 취급한다\n",
    "class Car :\n",
    "    color = ''\n",
    "    speed = 0\n",
    "    def upSpeed(self, value):\n",
    "        self.speed += value\n",
    "    def downSpeed(self,value):\n",
    "        self.speed -= value\n",
    "car1 = Car()\n",
    "car1.color = 'blue'\n",
    "car1.speed =100\n",
    "print (car1.speed)\n",
    "\n",
    "\n",
    "car1.upSpeed (30)\n",
    "print (car1.speed)\n",
    "car1.downSpeed(100)\n",
    "print(car1.color, car1.speed)"
   ]
  },
  {
   "cell_type": "code",
   "execution_count": 85,
   "id": "75778686",
   "metadata": {},
   "outputs": [
    {
     "name": "stdout",
     "output_type": "stream",
     "text": [
      "첫번째 자동차 속도는 60, 색은 black. zaku의 속도는 80, 색은 기본인 green. redstar의 속도는 3배인 240, 색은 당연히 red\n"
     ]
    }
   ],
   "source": [
    "class Car :\n",
    "    color = 'green'\n",
    "    speed = 0 ##기본 값 들이다\n",
    "    name = ''\n",
    "    def upSpeed (self, value):\n",
    "        self.speed += value\n",
    "    def downSpeed (self, value):\n",
    "        self.speed -= value\n",
    "        \n",
    "car1 = Car()\n",
    "car1.name = ''\n",
    "car1.speed = 60\n",
    "car1.color = 'black'\n",
    "car2 = Car()\n",
    "car2.name = 'zaku'\n",
    "car2.speed = 80\n",
    "car3 = Car()\n",
    "car3.name = 'redstar'\n",
    "car3.speed = 240\n",
    "car3.color = 'red'\n",
    "\n",
    "print ('첫번째 자동차 속도는 %d, 색은 %s. %s의 속도는 %d, 색은 기본인 %s. %s의 속도는 3배인 %d, 색은 당연히 %s' \n",
    "       %(car1.speed, car1.color, car2.name, car2.speed, car2.color,car3.name, car3.speed, car3.color,))"
   ]
  },
  {
   "cell_type": "code",
   "execution_count": 98,
   "id": "c1d9b786",
   "metadata": {},
   "outputs": [
    {
     "name": "stdout",
     "output_type": "stream",
     "text": [
      "40입니다\n"
     ]
    }
   ],
   "source": [
    "class Square :\n",
    "    width = 100\n",
    "    length = 100\n",
    "    def size(self):\n",
    "        print (\"%d입니다\" %(self.width *self.length))\n",
    "### def __init__(self): 는 초기 값을 넣어주는 다른 방법    \n",
    "##쓰는 이유는, 클래스 안에 변수를 직접적으로 활용하기 위해서\n",
    "\n",
    "square1 = Square()\n",
    "square1.width = 5\n",
    "square1.length = 8\n",
    "square1.size()\n"
   ]
  },
  {
   "cell_type": "code",
   "execution_count": 106,
   "id": "c08c89e6",
   "metadata": {},
   "outputs": [
    {
     "name": "stdout",
     "output_type": "stream",
     "text": [
      "red 50\n"
     ]
    }
   ],
   "source": [
    "# 즉, 생성자를 쓰면 이게 가능하다\n",
    "class Car ():\n",
    "    def __init__(self, color, speed):\n",
    "        self.color = color\n",
    "        self.speed = speed\n",
    "car1 = Car('red',50)\n",
    "print (car1.color, car1.speed)"
   ]
  },
  {
   "cell_type": "code",
   "execution_count": 107,
   "id": "24f83223",
   "metadata": {},
   "outputs": [
    {
     "name": "stdout",
     "output_type": "stream",
     "text": [
      "4\n",
      "6\n",
      "4 6\n"
     ]
    }
   ],
   "source": [
    "class Square():\n",
    "    def __init__(self, right =100, left=100): # 미리 입력해 두면 기본값으로 설정\n",
    "        self.right = right\n",
    "        self.left = left\n",
    "right = int(input())\n",
    "left= int(input())\n",
    "\n",
    "rock1 = Square(right, left) # 또는 rock1 = Square (right = 13, left = 50)\n",
    "print(rock1.right, rock1.left)"
   ]
  },
  {
   "cell_type": "code",
   "execution_count": 112,
   "id": "b566ca37",
   "metadata": {},
   "outputs": [
    {
     "name": "stdout",
     "output_type": "stream",
     "text": [
      "50 1\n"
     ]
    }
   ],
   "source": [
    "class Car():\n",
    "    count = 0\n",
    "    def __init__(self, speed):\n",
    "        self.speed = speed\n",
    "        Car.count += 1 # 내부 변수형태\n",
    "        \n",
    "car1 = Car(50)\n",
    "print (car1.speed, car1.count)\n",
    "car2 = Car(60)\n",
    "print ()"
   ]
  },
  {
   "cell_type": "code",
   "execution_count": null,
   "id": "e3c5cb9f",
   "metadata": {},
   "outputs": [],
   "source": [
    "import random\n",
    "rand.randrange(0,1)\n",
    "for i in randrange(5):\n",
    "    a.append([])"
   ]
  },
  {
   "cell_type": "code",
   "execution_count": 116,
   "id": "2f71911f",
   "metadata": {},
   "outputs": [],
   "source": [
    "## 상속 / 필드들은 다 동일한 새로운 클래스가 형성되는 것\n",
    "\n",
    "class Car ():\n",
    "    def __init__(self, color='blue', speed = 0):\n",
    "        self.color = color\n",
    "        self.speed = speed\n",
    "    def upspeed (self,value):\n",
    "        self.speed += value\n",
    "    def downspeed (self,value):\n",
    "        self.speed-= value\n",
    "class Bike(Car) : # 이미 car를 넣어줌으로써 위의 모든 사항들이 포함된 상황\n",
    "    def __init__ (self, name ='yamaha', speed = 0):\n",
    "        self.name = name\n",
    "        self.speed = speed\n",
    "    def speed100(self):\n",
    "        self.speed = 100 # 새 함수 추가 하는 것임. 기존꺼는 그대로 유지 (또는 전환할 수 도 있다) 단, 상위 클래스에 영향 없다\n",
    "mybike = Bike()\n",
    "\n",
    "        "
   ]
  },
  {
   "cell_type": "code",
   "execution_count": 118,
   "id": "5271908f",
   "metadata": {},
   "outputs": [
    {
     "name": "stdout",
     "output_type": "stream",
     "text": [
      "150\n"
     ]
    }
   ],
   "source": [
    "class Car():\n",
    "    def __init__(self, speed):\n",
    "        self.speed = speed\n",
    "        \n",
    "    def upspeed (self, value):\n",
    "        self.speed += value\n",
    "class Truck(Car):\n",
    "    def upspeed (self, value):\n",
    "        self.speed += value\n",
    "        if self.speed >= 150:\n",
    "            self.speed = 150\n",
    "#class 안의 내용이 같아지려면 pass 를 아래에 쓰도록 하자. (이하 동문의 뜻)\n",
    "truck1 = Truck(130)\n",
    "truck1.upspeed(30)\n",
    "print(truck1.speed)\n"
   ]
  },
  {
   "cell_type": "code",
   "execution_count": 3,
   "id": "5cff4cfe",
   "metadata": {},
   "outputs": [
    {
     "data": {
      "text/plain": [
       "<function turtle.mainloop()>"
      ]
     },
     "execution_count": 3,
     "metadata": {},
     "output_type": "execute_result"
    }
   ],
   "source": [
    "import turtle\n",
    "import random\n",
    "\n",
    "#모양 - 펜 색상, 두께 랜덤\n",
    "# 사각 = 모양의 하위 클래스, 모양 그리기\n",
    "\n",
    "class Shape ():\n",
    "    def __init__(self):\n",
    "        self.kturtle = turtle.Turtle('turtle')\n",
    "        \n",
    "    def setPen(self):\n",
    "        r = random.random()\n",
    "        g = random.random()\n",
    "        b = random.random()\n",
    "        self.kturtle.pencolor((r,g,b))\n",
    "        k = random.randrange(1,10)\n",
    "        self.kturtle.pensize(k)\n",
    "    def drawSahpe(slef):\n",
    "        pass\n",
    "        \n",
    "class Rectangle(Shape):\n",
    "    def __init__(self, x, y):\n",
    "        Shape.__init__(self)\n",
    "        self.x = x\n",
    "        self.y = y\n",
    "        i = random.randrange(20,100)\n",
    "        j = random.randrange(20,100)\n",
    "    def drawShape(self):\n",
    "        self.kturtle.pendup()\n",
    "        self.kturtle.goto(x-i/2,y-j/2)\n",
    "        self.kturtle.pendown()\n",
    "        for l in range(0,2):\n",
    "            self.kturtle.forward(i)\n",
    "            self.kturtle.right(90)\n",
    "            self.kturtle.forward(j)\n",
    "            self.kturtle.right(90)\n",
    "        \n",
    "def screenLeftClick(x,y):\n",
    "    rect = Rectangle(x,y)\n",
    "    rect.drawShape()\n",
    "    \n",
    "turtle.title(\"거북이로 직사각형 그리기\")\n",
    "\n",
    "turtle.onscreenclick(screenLeftClick,1)\n",
    "turtle.done"
   ]
  },
  {
   "cell_type": "code",
   "execution_count": null,
   "id": "a6e1ee37",
   "metadata": {},
   "outputs": [],
   "source": []
  },
  {
   "cell_type": "code",
   "execution_count": null,
   "id": "85122040",
   "metadata": {},
   "outputs": [],
   "source": []
  }
 ],
 "metadata": {
  "kernelspec": {
   "display_name": "Python 3",
   "language": "python",
   "name": "python3"
  },
  "language_info": {
   "codemirror_mode": {
    "name": "ipython",
    "version": 3
   },
   "file_extension": ".py",
   "mimetype": "text/x-python",
   "name": "python",
   "nbconvert_exporter": "python",
   "pygments_lexer": "ipython3",
   "version": "3.8.8"
  }
 },
 "nbformat": 4,
 "nbformat_minor": 5
}
