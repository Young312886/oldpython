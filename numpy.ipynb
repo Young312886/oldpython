{
 "cells": [
  {
   "cell_type": "code",
   "execution_count": 1,
   "id": "17e2fb26",
   "metadata": {},
   "outputs": [
    {
     "name": "stdout",
     "output_type": "stream",
     "text": [
      "3.0\n"
     ]
    }
   ],
   "source": [
    "import numpy as np\n",
    "x = np.array([1,3,5]) #반드시 소괄호로 열고, 다시 대괄호로 list 작성\n",
    "print(x.mean())"
   ]
  },
  {
   "cell_type": "code",
   "execution_count": 5,
   "id": "d1a50222",
   "metadata": {
    "scrolled": true
   },
   "outputs": [
    {
     "name": "stdout",
     "output_type": "stream",
     "text": [
      "3.3333333333333335\n"
     ]
    },
    {
     "name": "stderr",
     "output_type": "stream",
     "text": [
      "<ipython-input-5-dc743dfe1840>:5: VisibleDeprecationWarning: Creating an ndarray from ragged nested sequences (which is a list-or-tuple of lists-or-tuples-or ndarrays with different lengths or shapes) is deprecated. If you meant to do this, you must specify 'dtype=object' when creating the ndarray.\n",
      "  x = np.array(list1)\n"
     ]
    }
   ],
   "source": [
    "x = np.array([[1,3,5],[2,4,5]]) # 두개 이상시 대괄호 한번 더 2차원이다\n",
    "print(x.mean())\n",
    "\n",
    "list1 = [[1,2,3],[4,5]]\n",
    "x = np.array(list1) #완벽한 행렬이 되어야 하므로, 빈칸이 존재하는 리스트는 행렬이 될 수 없다 ex) 2*3\n",
    "#또한 ndarray 안에는 한가지 데이터만 포함 가능"
   ]
  },
  {
   "cell_type": "code",
   "execution_count": 9,
   "id": "42d766c5",
   "metadata": {},
   "outputs": [
    {
     "data": {
      "text/plain": [
       "array([  1,   3, 127], dtype=int8)"
      ]
     },
     "execution_count": 9,
     "metadata": {},
     "output_type": "execute_result"
    }
   ],
   "source": [
    "#astype = 타입 변환 (대용량 = > 소용량)메모리 절약 위함 dtype = 타입 확인 or 타입 설정\n",
    "x = np.array([1,2,3], dtype = 'int8')\n",
    "x = np.array([1,3,127])\n",
    "x = x.astype('int8')\n",
    "x # 보면 공간이 생겨버림 = 데이터 낭비. 반면에 강제로 줄이는 과정을 진행하면 숫자 오류나 손실 발생 가능(조심)"
   ]
  },
  {
   "cell_type": "code",
   "execution_count": 19,
   "id": "6088a0ba",
   "metadata": {},
   "outputs": [
    {
     "name": "stdout",
     "output_type": "stream",
     "text": [
      "(3,) (2, 3) (2, 3, 3)\n",
      "4\n",
      "[2.         4.33333333]\n"
     ]
    },
    {
     "data": {
      "text/plain": [
       "54.77777777777778"
      ]
     },
     "execution_count": 19,
     "metadata": {},
     "output_type": "execute_result"
    }
   ],
   "source": [
    "x = np.array([1,2,3])\n",
    "y = np.array([[1,2,3],[3,4,6]])\n",
    "z = np.array([[[4,6,8],[1,4,7],[56,47,3]],\n",
    "              [[1,2,3],[54,67,98],[15,67,543]]])\n",
    "print(x.shape, y.shape, z.shape)\n",
    "print(y[1][1]) # 숫자는 0에서부터 시작한다는 사실을 잊지 말자\n",
    "print(y.mean(axis=1))\n",
    "z.mean()"
   ]
  },
  {
   "cell_type": "code",
   "execution_count": 23,
   "id": "c4f8bc79",
   "metadata": {},
   "outputs": [
    {
     "name": "stdout",
     "output_type": "stream",
     "text": [
      "[[1 2 3]\n",
      " [3 4 6]] [[1 2]\n",
      " [3 3]\n",
      " [4 6]]\n"
     ]
    }
   ],
   "source": [
    "y = np.array([[1,2,3],[3,4,6]])\n",
    "print(y,y.reshape(3,2))"
   ]
  },
  {
   "cell_type": "code",
   "execution_count": 27,
   "id": "7a28f553",
   "metadata": {},
   "outputs": [
    {
     "data": {
      "text/plain": [
       "array([[[0., 0., 0., 0.],\n",
       "        [0., 0., 0., 0.],\n",
       "        [0., 0., 0., 0.]],\n",
       "\n",
       "       [[0., 0., 0., 0.],\n",
       "        [0., 0., 0., 0.],\n",
       "        [0., 0., 0., 0.]]])"
      ]
     },
     "execution_count": 27,
     "metadata": {},
     "output_type": "execute_result"
    }
   ],
   "source": [
    "a = np.zeros([2,3,4]) #np.ones 또한 동일, 대신 1로\n",
    "a"
   ]
  },
  {
   "cell_type": "code",
   "execution_count": 30,
   "id": "69519992",
   "metadata": {},
   "outputs": [
    {
     "data": {
      "text/plain": [
       "array([1, 2, 3, 4, 5, 6, 7, 8])"
      ]
     },
     "execution_count": 30,
     "metadata": {},
     "output_type": "execute_result"
    }
   ],
   "source": [
    "a= np.array([1,2,3,4,5,6,7,8])\n",
    "a"
   ]
  },
  {
   "cell_type": "code",
   "execution_count": 34,
   "id": "2f6f31a2",
   "metadata": {},
   "outputs": [
    {
     "data": {
      "text/plain": [
       "array([1, 2, 3, 4, 5, 6, 7, 8])"
      ]
     },
     "execution_count": 34,
     "metadata": {},
     "output_type": "execute_result"
    }
   ],
   "source": [
    "a[:]\n"
   ]
  },
  {
   "cell_type": "code",
   "execution_count": 35,
   "id": "3422f122",
   "metadata": {},
   "outputs": [
    {
     "data": {
      "text/plain": [
       "array([3, 4, 5, 6, 7, 8])"
      ]
     },
     "execution_count": 35,
     "metadata": {},
     "output_type": "execute_result"
    }
   ],
   "source": [
    "a[2:]\n"
   ]
  },
  {
   "cell_type": "code",
   "execution_count": 36,
   "id": "50831d71",
   "metadata": {},
   "outputs": [
    {
     "data": {
      "text/plain": [
       "array([1, 2, 3])"
      ]
     },
     "execution_count": 36,
     "metadata": {},
     "output_type": "execute_result"
    }
   ],
   "source": [
    "a[:3]"
   ]
  },
  {
   "cell_type": "code",
   "execution_count": 37,
   "id": "37fca9ef",
   "metadata": {},
   "outputs": [
    {
     "data": {
      "text/plain": [
       "array([2, 4, 6, 8])"
      ]
     },
     "execution_count": 37,
     "metadata": {},
     "output_type": "execute_result"
    }
   ],
   "source": [
    "a[1::2] ### 작성시 가로 세로 유의"
   ]
  },
  {
   "cell_type": "code",
   "execution_count": 56,
   "id": "83041e9b",
   "metadata": {
    "scrolled": true
   },
   "outputs": [
    {
     "name": "stdout",
     "output_type": "stream",
     "text": [
      "[ 6  7  8  9 10]\n",
      "[ 2  7 12 17 22]\n",
      "[[ 9 10]\n",
      " [14 15]]\n"
     ]
    }
   ],
   "source": [
    "x = np.array([[1,2,3,4,5],[6,7,8,9,10],[11,12,13,14,15],[16,17,18,19,20],[21,22,23,24,25]])\n",
    "print(x [1][:]) # x[1:2] , x[1] 도 가능 단, x[1,2]는 2차원으로 출력된다 (shape이 다르다)\n",
    "print(x[:,1])\n",
    "print(x[1:3,3:5])"
   ]
  },
  {
   "cell_type": "code",
   "execution_count": null,
   "id": "8e460e86",
   "metadata": {},
   "outputs": [],
   "source": []
  }
 ],
 "metadata": {
  "kernelspec": {
   "display_name": "Python 3",
   "language": "python",
   "name": "python3"
  },
  "language_info": {
   "codemirror_mode": {
    "name": "ipython",
    "version": 3
   },
   "file_extension": ".py",
   "mimetype": "text/x-python",
   "name": "python",
   "nbconvert_exporter": "python",
   "pygments_lexer": "ipython3",
   "version": "3.8.8"
  }
 },
 "nbformat": 4,
 "nbformat_minor": 5
}
