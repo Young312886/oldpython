{
 "cells": [
  {
   "cell_type": "markdown",
   "id": "ac318b2e",
   "metadata": {},
   "source": [
    "alsk\n",
    "========\n",
    "tat\n",
    "--------\n",
    "# af\n",
    "## asdf\n",
    "### asdf\n",
    "###### asdf"
   ]
  },
  {
   "cell_type": "markdown",
   "id": "c5fd1262",
   "metadata": {},
   "source": [
    ">> asdf\n",
    "\n",
    "\n",
    "1. asf\n",
    "2. asdf\n",
    "3. asdfewe\n"
   ]
  },
  {
   "cell_type": "markdown",
   "id": "3d42c3af",
   "metadata": {},
   "source": [
    "- qkf\n",
    "    - adsf\n",
    "        - wein"
   ]
  },
  {
   "cell_type": "code",
   "execution_count": 1,
   "id": "d60c7b05",
   "metadata": {},
   "outputs": [
    {
     "name": "stdout",
     "output_type": "stream",
     "text": [
      "mmmm\n"
     ]
    }
   ],
   "source": [
    "print (\"mmmm\")\n",
    "a = 1"
   ]
  },
  {
   "cell_type": "code",
   "execution_count": 2,
   "id": "ee1d30d2",
   "metadata": {},
   "outputs": [
    {
     "name": "stdout",
     "output_type": "stream",
     "text": [
      "1\n"
     ]
    }
   ],
   "source": [
    "print(a)"
   ]
  },
  {
   "cell_type": "code",
   "execution_count": 3,
   "id": "5394bbd7",
   "metadata": {},
   "outputs": [],
   "source": [
    "# 무한 코드 탈출 : 위의 네모 or 재시작"
   ]
  },
  {
   "cell_type": "code",
   "execution_count": 4,
   "id": "64ffb657",
   "metadata": {},
   "outputs": [
    {
     "name": "stdout",
     "output_type": "stream",
     "text": [
      "64.0\n"
     ]
    }
   ],
   "source": [
    "ftemp = 99.0\n",
    "ctemp = (ftemp-32.0) - 3\n",
    "print (ctemp)"
   ]
  },
  {
   "cell_type": "code",
   "execution_count": 5,
   "id": "220585dc",
   "metadata": {},
   "outputs": [],
   "source": [
    "a = 100\n",
    "b = 50\n",
    "f = 300\n",
    "c = f\n",
    "d = a + b\n",
    "e = a+b+c+d\n"
   ]
  },
  {
   "cell_type": "code",
   "execution_count": 6,
   "id": "93d05a4e",
   "metadata": {},
   "outputs": [
    {
     "name": "stdout",
     "output_type": "stream",
     "text": [
      "150\n",
      "a+b= 150\n",
      "100 + 50 = 150\n",
      "100 - 50 = 50\n",
      "100 / 50 = 2.0\n",
      "100 X 50 = 5000\n"
     ]
    }
   ],
   "source": [
    "result = a+b\n",
    "print (result)\n",
    "print (\"a+b=\", result)\n",
    "result = a+b\n",
    "print (a, \"+\", b, \"=\" , result)\n",
    "result = a-b\n",
    "print (a, \"-\", b, \"=\" , result)\n",
    "result = a/b\n",
    "print (a, \"/\", b, \"=\" , result)\n",
    "result = a*b\n",
    "print (a, \"X\", b, \"=\" , result)\n"
   ]
  },
  {
   "cell_type": "code",
   "execution_count": 13,
   "id": "6eda902c",
   "metadata": {},
   "outputs": [
    {
     "name": "stdout",
     "output_type": "stream",
     "text": [
      "10\n",
      "3\n",
      "10 + 3 = 13\n",
      "10 - 3 = 7\n",
      "10 / 3 = 3.3333333333333335\n",
      "10 X 3 = 30\n",
      "10 // 3 = 3\n",
      "10 % 3 = 1\n",
      "10 ** 3 = 1000\n"
     ]
    }
   ],
   "source": [
    "a = int(input())\n",
    "b = int(input())\n",
    "result = a+b\n",
    "print (a, \"+\", b, \"=\" , result)\n",
    "result = a - b\n",
    "print (a, \"-\", b, \"=\" , result)\n",
    "result = a/b\n",
    "print (a, \"/\", b, \"=\" , result)\n",
    "result = a*b\n",
    "print (a, \"X\", b, \"=\" , result)\n",
    "result = a//b\n",
    "print (a, \"//\", b, \"=\" , result)\n",
    "result = a%b\n",
    "print (a, \"%\", b, \"=\" , result)\n",
    "result = a**b\n",
    "print (a, \"**\", b, \"=\", result)\n",
    "# ** 를 통해 제곱을 빠르게 나타낼 수 있다!!"
   ]
  },
  {
   "cell_type": "code",
   "execution_count": 38,
   "id": "13a3848c",
   "metadata": {},
   "outputs": [],
   "source": []
  },
  {
   "cell_type": "code",
   "execution_count": 39,
   "id": "16c5b3b8",
   "metadata": {},
   "outputs": [],
   "source": [
    "import turtle as T\n",
    "T.shape ('turtle')\n",
    "T.forward(200)\n",
    "T.right(200)\n",
    "T.forward(200)\n",
    "T.right(200)\n",
    "T.forward(200)\n",
    "T.right(200)\n",
    "T.forward(200)\n",
    "T.right(200)\n",
    "T.forward(200)\n",
    "T.right(200)\n",
    "T.forward(200)\n",
    "T.right(200)\n",
    "T.forward(200)\n",
    "T.right(200)\n",
    "T.forward(200)\n",
    "T.right(200)\n",
    "T.forward(200)\n",
    "T.right(200)\n",
    "\n",
    "\n",
    "T.done()\n"
   ]
  },
  {
   "cell_type": "code",
   "execution_count": 3,
   "id": "56f77df4",
   "metadata": {
    "scrolled": false
   },
   "outputs": [],
   "source": [
    "import turtle as T\n",
    "T.shape('turtle')\n",
    "T.forward(400)\n",
    "T.right(120)\n",
    "T.forward(200)\n",
    "T.right(60)\n",
    "T.forward(200)\n",
    "T.right(60)\n",
    "T.forward(200)\n",
    "T.right(120)\n",
    "T.forward(200)\n",
    "T.left(90)\n",
    "T.forward(300)\n",
    "T.right(120)\n",
    "T.forward(200)\n",
    "T.right(120)\n",
    "T.forward(200)\n",
    "\n",
    "\n",
    "T.done()"
   ]
  },
  {
   "cell_type": "code",
   "execution_count": 4,
   "id": "5c998363",
   "metadata": {
    "scrolled": true
   },
   "outputs": [
    {
     "ename": "Terminator",
     "evalue": "",
     "output_type": "error",
     "traceback": [
      "\u001b[1;31m---------------------------------------------------------------------------\u001b[0m",
      "\u001b[1;31mTerminator\u001b[0m                                Traceback (most recent call last)",
      "\u001b[1;32m<ipython-input-4-3c8380c7f942>\u001b[0m in \u001b[0;36m<module>\u001b[1;34m\u001b[0m\n\u001b[0;32m      8\u001b[0m \u001b[1;32mimport\u001b[0m \u001b[0mturtle\u001b[0m \u001b[1;32mas\u001b[0m \u001b[0mT\u001b[0m\u001b[1;33m\u001b[0m\u001b[1;33m\u001b[0m\u001b[0m\n\u001b[0;32m      9\u001b[0m \u001b[1;33m\u001b[0m\u001b[0m\n\u001b[1;32m---> 10\u001b[1;33m \u001b[0mT\u001b[0m\u001b[1;33m.\u001b[0m\u001b[0mforward\u001b[0m\u001b[1;33m(\u001b[0m\u001b[1;36m400\u001b[0m\u001b[1;33m)\u001b[0m\u001b[1;33m\u001b[0m\u001b[1;33m\u001b[0m\u001b[0m\n\u001b[0m\u001b[0;32m     11\u001b[0m \u001b[0mr120\u001b[0m\u001b[1;33m(\u001b[0m\u001b[1;33m)\u001b[0m\u001b[1;33m\u001b[0m\u001b[1;33m\u001b[0m\u001b[0m\n\u001b[0;32m     12\u001b[0m \u001b[0mr60\u001b[0m\u001b[1;33m(\u001b[0m\u001b[1;33m)\u001b[0m\u001b[1;33m\u001b[0m\u001b[1;33m\u001b[0m\u001b[0m\n",
      "\u001b[1;32m~\\anaconda3\\lib\\turtle.py\u001b[0m in \u001b[0;36mforward\u001b[1;34m(distance)\u001b[0m\n",
      "\u001b[1;31mTerminator\u001b[0m: "
     ]
    }
   ],
   "source": [
    "def r120():\n",
    "    T.right(120)\n",
    "    T.forward(200)\n",
    "def r60():\n",
    "    T.right(60)\n",
    "    T.forward(200)\n",
    "\n",
    "import turtle as T\n",
    "\n",
    "T.forward(400)\n",
    "r120()\n",
    "r60()\n",
    "r60()\n",
    "r120()\n",
    "\n",
    "T.done\n",
    "# 왜 자꾸 강제종료를 해야지 재 실행 되는지 모르겠다\n",
    "'''\n",
    "여기 사이는 주석처리된 글 입니다\n",
    "'''"
   ]
  },
  {
   "cell_type": "code",
   "execution_count": 1,
   "id": "46049834",
   "metadata": {},
   "outputs": [],
   "source": [
    "import turtle as T\n",
    "T.shape('turtle')\n",
    "def star():\n",
    "    T.forward(150)\n",
    "    T.right(144)\n",
    "    T.forward(150)\n",
    "    T.right(144)\n",
    "    T.forward(150)\n",
    "    T.right(144)\n",
    "    T.forward(150)\n",
    "    T.right(144)\n",
    "    T.forward(145)\n",
    "\n",
    "def format(x,y):\n",
    "    n =1\n",
    "    for number in range(1,y):\n",
    "        if number < y: \n",
    "            continue\n",
    "        number = number+1\n",
    "        T.forward(x)\n",
    "        T.right(360/y)\n",
    "        \n",
    "format(30,6)    \n",
    "\n",
    "T.done()"
   ]
  },
  {
   "cell_type": "code",
   "execution_count": 6,
   "id": "6c992581",
   "metadata": {
    "scrolled": true
   },
   "outputs": [
    {
     "ename": "Terminator",
     "evalue": "",
     "output_type": "error",
     "traceback": [
      "\u001b[1;31m---------------------------------------------------------------------------\u001b[0m",
      "\u001b[1;31mTerminator\u001b[0m                                Traceback (most recent call last)",
      "\u001b[1;32m<ipython-input-6-e67ba1fcfa6b>\u001b[0m in \u001b[0;36m<module>\u001b[1;34m\u001b[0m\n\u001b[0;32m      1\u001b[0m \u001b[1;32mimport\u001b[0m \u001b[0mturtle\u001b[0m\u001b[1;33m\u001b[0m\u001b[1;33m\u001b[0m\u001b[0m\n\u001b[0;32m      2\u001b[0m \u001b[1;33m\u001b[0m\u001b[0m\n\u001b[1;32m----> 3\u001b[1;33m \u001b[0mA\u001b[0m \u001b[1;33m=\u001b[0m \u001b[0mturtle\u001b[0m\u001b[1;33m.\u001b[0m\u001b[0mTurtle\u001b[0m\u001b[1;33m(\u001b[0m\u001b[1;33m)\u001b[0m\u001b[1;33m\u001b[0m\u001b[1;33m\u001b[0m\u001b[0m\n\u001b[0m\u001b[0;32m      4\u001b[0m \u001b[0mB\u001b[0m \u001b[1;33m=\u001b[0m \u001b[0mturtle\u001b[0m\u001b[1;33m.\u001b[0m\u001b[0mTurtle\u001b[0m\u001b[1;33m(\u001b[0m\u001b[1;33m)\u001b[0m\u001b[1;33m\u001b[0m\u001b[1;33m\u001b[0m\u001b[0m\n\u001b[0;32m      5\u001b[0m \u001b[1;33m\u001b[0m\u001b[0m\n",
      "\u001b[1;32m~\\anaconda3\\lib\\turtle.py\u001b[0m in \u001b[0;36m__init__\u001b[1;34m(self, shape, undobuffersize, visible)\u001b[0m\n\u001b[0;32m   3812\u001b[0m         \u001b[1;32mif\u001b[0m \u001b[0mTurtle\u001b[0m\u001b[1;33m.\u001b[0m\u001b[0m_screen\u001b[0m \u001b[1;32mis\u001b[0m \u001b[1;32mNone\u001b[0m\u001b[1;33m:\u001b[0m\u001b[1;33m\u001b[0m\u001b[1;33m\u001b[0m\u001b[0m\n\u001b[0;32m   3813\u001b[0m             \u001b[0mTurtle\u001b[0m\u001b[1;33m.\u001b[0m\u001b[0m_screen\u001b[0m \u001b[1;33m=\u001b[0m \u001b[0mScreen\u001b[0m\u001b[1;33m(\u001b[0m\u001b[1;33m)\u001b[0m\u001b[1;33m\u001b[0m\u001b[1;33m\u001b[0m\u001b[0m\n\u001b[1;32m-> 3814\u001b[1;33m         RawTurtle.__init__(self, Turtle._screen,\n\u001b[0m\u001b[0;32m   3815\u001b[0m                            \u001b[0mshape\u001b[0m\u001b[1;33m=\u001b[0m\u001b[0mshape\u001b[0m\u001b[1;33m,\u001b[0m\u001b[1;33m\u001b[0m\u001b[1;33m\u001b[0m\u001b[0m\n\u001b[0;32m   3816\u001b[0m                            \u001b[0mundobuffersize\u001b[0m\u001b[1;33m=\u001b[0m\u001b[0mundobuffersize\u001b[0m\u001b[1;33m,\u001b[0m\u001b[1;33m\u001b[0m\u001b[1;33m\u001b[0m\u001b[0m\n",
      "\u001b[1;32m~\\anaconda3\\lib\\turtle.py\u001b[0m in \u001b[0;36m__init__\u001b[1;34m(self, canvas, shape, undobuffersize, visible)\u001b[0m\n\u001b[0;32m   2556\u001b[0m         \u001b[0mself\u001b[0m\u001b[1;33m.\u001b[0m\u001b[0m_undobuffersize\u001b[0m \u001b[1;33m=\u001b[0m \u001b[0mundobuffersize\u001b[0m\u001b[1;33m\u001b[0m\u001b[1;33m\u001b[0m\u001b[0m\n\u001b[0;32m   2557\u001b[0m         \u001b[0mself\u001b[0m\u001b[1;33m.\u001b[0m\u001b[0mundobuffer\u001b[0m \u001b[1;33m=\u001b[0m \u001b[0mTbuffer\u001b[0m\u001b[1;33m(\u001b[0m\u001b[0mundobuffersize\u001b[0m\u001b[1;33m)\u001b[0m\u001b[1;33m\u001b[0m\u001b[1;33m\u001b[0m\u001b[0m\n\u001b[1;32m-> 2558\u001b[1;33m         \u001b[0mself\u001b[0m\u001b[1;33m.\u001b[0m\u001b[0m_update\u001b[0m\u001b[1;33m(\u001b[0m\u001b[1;33m)\u001b[0m\u001b[1;33m\u001b[0m\u001b[1;33m\u001b[0m\u001b[0m\n\u001b[0m\u001b[0;32m   2559\u001b[0m \u001b[1;33m\u001b[0m\u001b[0m\n\u001b[0;32m   2560\u001b[0m     \u001b[1;32mdef\u001b[0m \u001b[0mreset\u001b[0m\u001b[1;33m(\u001b[0m\u001b[0mself\u001b[0m\u001b[1;33m)\u001b[0m\u001b[1;33m:\u001b[0m\u001b[1;33m\u001b[0m\u001b[1;33m\u001b[0m\u001b[0m\n",
      "\u001b[1;32m~\\anaconda3\\lib\\turtle.py\u001b[0m in \u001b[0;36m_update\u001b[1;34m(self)\u001b[0m\n\u001b[0;32m   2659\u001b[0m             \u001b[1;32mreturn\u001b[0m\u001b[1;33m\u001b[0m\u001b[1;33m\u001b[0m\u001b[0m\n\u001b[0;32m   2660\u001b[0m         \u001b[1;32melif\u001b[0m \u001b[0mscreen\u001b[0m\u001b[1;33m.\u001b[0m\u001b[0m_tracing\u001b[0m \u001b[1;33m==\u001b[0m \u001b[1;36m1\u001b[0m\u001b[1;33m:\u001b[0m\u001b[1;33m\u001b[0m\u001b[1;33m\u001b[0m\u001b[0m\n\u001b[1;32m-> 2661\u001b[1;33m             \u001b[0mself\u001b[0m\u001b[1;33m.\u001b[0m\u001b[0m_update_data\u001b[0m\u001b[1;33m(\u001b[0m\u001b[1;33m)\u001b[0m\u001b[1;33m\u001b[0m\u001b[1;33m\u001b[0m\u001b[0m\n\u001b[0m\u001b[0;32m   2662\u001b[0m             \u001b[0mself\u001b[0m\u001b[1;33m.\u001b[0m\u001b[0m_drawturtle\u001b[0m\u001b[1;33m(\u001b[0m\u001b[1;33m)\u001b[0m\u001b[1;33m\u001b[0m\u001b[1;33m\u001b[0m\u001b[0m\n\u001b[0;32m   2663\u001b[0m             \u001b[0mscreen\u001b[0m\u001b[1;33m.\u001b[0m\u001b[0m_update\u001b[0m\u001b[1;33m(\u001b[0m\u001b[1;33m)\u001b[0m                  \u001b[1;31m# TurtleScreenBase\u001b[0m\u001b[1;33m\u001b[0m\u001b[1;33m\u001b[0m\u001b[0m\n",
      "\u001b[1;32m~\\anaconda3\\lib\\turtle.py\u001b[0m in \u001b[0;36m_update_data\u001b[1;34m(self)\u001b[0m\n\u001b[0;32m   2645\u001b[0m \u001b[1;33m\u001b[0m\u001b[0m\n\u001b[0;32m   2646\u001b[0m     \u001b[1;32mdef\u001b[0m \u001b[0m_update_data\u001b[0m\u001b[1;33m(\u001b[0m\u001b[0mself\u001b[0m\u001b[1;33m)\u001b[0m\u001b[1;33m:\u001b[0m\u001b[1;33m\u001b[0m\u001b[1;33m\u001b[0m\u001b[0m\n\u001b[1;32m-> 2647\u001b[1;33m         \u001b[0mself\u001b[0m\u001b[1;33m.\u001b[0m\u001b[0mscreen\u001b[0m\u001b[1;33m.\u001b[0m\u001b[0m_incrementudc\u001b[0m\u001b[1;33m(\u001b[0m\u001b[1;33m)\u001b[0m\u001b[1;33m\u001b[0m\u001b[1;33m\u001b[0m\u001b[0m\n\u001b[0m\u001b[0;32m   2648\u001b[0m         \u001b[1;32mif\u001b[0m \u001b[0mself\u001b[0m\u001b[1;33m.\u001b[0m\u001b[0mscreen\u001b[0m\u001b[1;33m.\u001b[0m\u001b[0m_updatecounter\u001b[0m \u001b[1;33m!=\u001b[0m \u001b[1;36m0\u001b[0m\u001b[1;33m:\u001b[0m\u001b[1;33m\u001b[0m\u001b[1;33m\u001b[0m\u001b[0m\n\u001b[0;32m   2649\u001b[0m             \u001b[1;32mreturn\u001b[0m\u001b[1;33m\u001b[0m\u001b[1;33m\u001b[0m\u001b[0m\n",
      "\u001b[1;32m~\\anaconda3\\lib\\turtle.py\u001b[0m in \u001b[0;36m_incrementudc\u001b[1;34m(self)\u001b[0m\n\u001b[0;32m   1291\u001b[0m         \u001b[1;32mif\u001b[0m \u001b[1;32mnot\u001b[0m \u001b[0mTurtleScreen\u001b[0m\u001b[1;33m.\u001b[0m\u001b[0m_RUNNING\u001b[0m\u001b[1;33m:\u001b[0m\u001b[1;33m\u001b[0m\u001b[1;33m\u001b[0m\u001b[0m\n\u001b[0;32m   1292\u001b[0m             \u001b[0mTurtleScreen\u001b[0m\u001b[1;33m.\u001b[0m\u001b[0m_RUNNING\u001b[0m \u001b[1;33m=\u001b[0m \u001b[1;32mTrue\u001b[0m\u001b[1;33m\u001b[0m\u001b[1;33m\u001b[0m\u001b[0m\n\u001b[1;32m-> 1293\u001b[1;33m             \u001b[1;32mraise\u001b[0m \u001b[0mTerminator\u001b[0m\u001b[1;33m\u001b[0m\u001b[1;33m\u001b[0m\u001b[0m\n\u001b[0m\u001b[0;32m   1294\u001b[0m         \u001b[1;32mif\u001b[0m \u001b[0mself\u001b[0m\u001b[1;33m.\u001b[0m\u001b[0m_tracing\u001b[0m \u001b[1;33m>\u001b[0m \u001b[1;36m0\u001b[0m\u001b[1;33m:\u001b[0m\u001b[1;33m\u001b[0m\u001b[1;33m\u001b[0m\u001b[0m\n\u001b[0;32m   1295\u001b[0m             \u001b[0mself\u001b[0m\u001b[1;33m.\u001b[0m\u001b[0m_updatecounter\u001b[0m \u001b[1;33m+=\u001b[0m \u001b[1;36m1\u001b[0m\u001b[1;33m\u001b[0m\u001b[1;33m\u001b[0m\u001b[0m\n",
      "\u001b[1;31mTerminator\u001b[0m: "
     ]
    }
   ],
   "source": [
    "import turtle\n",
    "\n",
    "A = turtle.Turtle()\n",
    "B = turtle.Turtle()\n",
    "\n",
    "A.shpae('turtle')\n",
    "B.shape('triangle')\n",
    "\n",
    "A.forward(200)\n",
    "B.right(90)\n",
    "A.forward(200)\n",
    "\n",
    "turtle.done"
   ]
  },
  {
   "cell_type": "code",
   "execution_count": 3,
   "id": "bb7ebeea",
   "metadata": {},
   "outputs": [],
   "source": [
    "import turtle\n",
    "import random\n",
    "\n",
    "def Leftclick(x,y):\n",
    "    global r, g, b\n",
    "    turtle.pencolor((r,g,b))\n",
    "    turtle.pendown()\n",
    "    turtle.goto(x,y)\n",
    "\n",
    "def Rightclick(x,y):\n",
    "    turtle.penup()\n",
    "    turtle.goto(x,y)\n",
    "    \n",
    "def screenclick(x,y):\n",
    "    global r, g, b\n",
    "    tSize = random.randrange(1,10)\n",
    "    turtle.shapesize(tSize)\n",
    "    r = random.random()\n",
    "    g = random.random()\n",
    "    b = random.random()\n",
    "\n",
    "pSize = 10\n",
    "r, g, b= 0.0, 0.0, 0.0\n",
    "\n",
    "turtle.title(\"그림\")\n",
    "turtle.shape('turtle')\n",
    "turtle.pensize(pSize)\n",
    "\n",
    "turtle.onscreenclick(Leftclick,1)\n",
    "turtle.onscreenclick(Rightclick,2)\n",
    "turtle.onscreenclick(screenclick,3)\n",
    "\n",
    "turtle.done()"
   ]
  },
  {
   "cell_type": "code",
   "execution_count": null,
   "id": "e84fdd13",
   "metadata": {},
   "outputs": [],
   "source": [
    "\n",
    "\n",
    "\n",
    "\n"
   ]
  },
  {
   "cell_type": "code",
   "execution_count": null,
   "id": "27d98e21",
   "metadata": {},
   "outputs": [],
   "source": []
  }
 ],
 "metadata": {
  "kernelspec": {
   "display_name": "Python 3",
   "language": "python",
   "name": "python3"
  },
  "language_info": {
   "codemirror_mode": {
    "name": "ipython",
    "version": 3
   },
   "file_extension": ".py",
   "mimetype": "text/x-python",
   "name": "python",
   "nbconvert_exporter": "python",
   "pygments_lexer": "ipython3",
   "version": "3.8.8"
  }
 },
 "nbformat": 4,
 "nbformat_minor": 5
}
