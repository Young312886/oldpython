{
 "cells": [
  {
   "cell_type": "code",
   "execution_count": 4,
   "id": "265d0094",
   "metadata": {},
   "outputs": [
    {
     "name": "stdout",
     "output_type": "stream",
     "text": [
      "족발      보쌈\n",
      "허니      엽떡\n",
      "짜장면    파김치\n",
      "파스타     피자\n",
      "dtype: object\n",
      "['족발', '짜장면', '파스타', '허니']\n"
     ]
    }
   ],
   "source": [
    "import pandas as pd\n",
    "x = pd.Series (['보쌈','엽떡','파김치','피자'],index = ['족발','허니','짜장면','파스타'])\n",
    "print(x) #시리즈이 장점 = 순서가 고정(딕셔너리랑 다름) 딕셔너리의 장점들을 가지고 있음 (인덱스들리 형성)\n",
    " #게다가 수정이 가능하다\n",
    "print(sorted(x.index))"
   ]
  },
  {
   "cell_type": "code",
   "execution_count": 6,
   "id": "e632e7c9",
   "metadata": {},
   "outputs": [
    {
     "name": "stdout",
     "output_type": "stream",
     "text": [
      "[3, 5, 7, 8]\n"
     ]
    }
   ],
   "source": [
    "x = pd.Series([3,7,5,8])\n",
    "print(sorted(x.values))"
   ]
  },
  {
   "cell_type": "code",
   "execution_count": 9,
   "id": "c5151b91",
   "metadata": {},
   "outputs": [
    {
     "data": {
      "text/plain": [
       "부산    7.0\n",
       "광주    5.0\n",
       "인천    8.0\n",
       "서울    3.0\n",
       "제주    NaN\n",
       "dtype: float64"
      ]
     },
     "execution_count": 9,
     "metadata": {},
     "output_type": "execute_result"
    }
   ],
   "source": [
    "x = pd.Series([3,7,5,8], index=['서울','부산','광주','인천'])\n",
    "x.reindex(['부산','광주','인천','서울','제주'])\n"
   ]
  },
  {
   "cell_type": "code",
   "execution_count": 10,
   "id": "ce82bfe7",
   "metadata": {},
   "outputs": [
    {
     "name": "stdout",
     "output_type": "stream",
     "text": [
      "서울     3\n",
      "부산     7\n",
      "광주     5\n",
      "인천     8\n",
      "제주    10\n",
      "dtype: int64\n"
     ]
    }
   ],
   "source": [
    "#수정은 간다\n",
    "x['제주'] = 10\n",
    "print(x) ##참고로 reindex는 그 당시에만 그 순서로만 나열, 기존의 데이터는 변화가 없다"
   ]
  },
  {
   "cell_type": "code",
   "execution_count": 11,
   "id": "7a925a8d",
   "metadata": {},
   "outputs": [
    {
     "data": {
      "text/plain": [
       "족발      보쌈막국수\n",
       "허니       엽떡배떡\n",
       "짜장면    파김치탕수육\n",
       "파스타      피자피클\n",
       "dtype: object"
      ]
     },
     "execution_count": 11,
     "metadata": {},
     "output_type": "execute_result"
    }
   ],
   "source": [
    "#numpy처럼 덧셈,뺄셈, 곱셈 사칙연산 다 가능 (index끼리) 단, 한쪽에 없으면 nan으로 치환됨\n",
    "#문자는?\n",
    "x = pd.Series(['보쌈','엽떡','파김치','피자'], index = ['족발','허니','짜장면','파스타'])\n",
    "y = pd.Series(['막국수','배떡','탕수육','피클'],index = ['족발','허니','짜장면','파스타'])\n",
    "x+y"
   ]
  },
  {
   "cell_type": "code",
   "execution_count": 13,
   "id": "07427125",
   "metadata": {},
   "outputs": [
    {
     "name": "stdout",
     "output_type": "stream",
     "text": [
      "[1 3 4 5 2 7 8]\n"
     ]
    }
   ],
   "source": [
    "#unique() 데이터 구성 요소들을 표현할때 유리 (중복값 줄이기)\n",
    "medal = [1,3,4,5,2,5,4,2,5,7,8]\n",
    "x = pd.Series(medal)\n",
    "\n",
    "print(pd.unique(x)) #문자도 된다"
   ]
  },
  {
   "cell_type": "code",
   "execution_count": 14,
   "id": "83c3ff2c",
   "metadata": {},
   "outputs": [],
   "source": [
    "#슬라이싱은 기존과 동일. 단 불러오기 한 a 에서의 [0]은 찾을 수 없을 수 있다.\n",
    "#이유는 원본의 순서와 동일, 즉 index 자체도 불러오기가 되기 때문"
   ]
  },
  {
   "cell_type": "code",
   "execution_count": 17,
   "id": "94dd0307",
   "metadata": {},
   "outputs": [],
   "source": [
    "ary = [[1,2],[3,4],[5,6]]\n",
    "data = pd.DataFrame(ary,columns = ['First', 'Second'], index = ['one', 'two','three'])\n"
   ]
  },
  {
   "cell_type": "code",
   "execution_count": 19,
   "id": "26891d44",
   "metadata": {},
   "outputs": [
    {
     "data": {
      "text/plain": [
       "one      1\n",
       "two      3\n",
       "three    5\n",
       "Name: First, dtype: int64"
      ]
     },
     "execution_count": 19,
     "metadata": {},
     "output_type": "execute_result"
    }
   ],
   "source": [
    "data.loc[:,'First']"
   ]
  },
  {
   "cell_type": "code",
   "execution_count": 22,
   "id": "88416ea5",
   "metadata": {},
   "outputs": [
    {
     "data": {
      "text/html": [
       "<div>\n",
       "<style scoped>\n",
       "    .dataframe tbody tr th:only-of-type {\n",
       "        vertical-align: middle;\n",
       "    }\n",
       "\n",
       "    .dataframe tbody tr th {\n",
       "        vertical-align: top;\n",
       "    }\n",
       "\n",
       "    .dataframe thead th {\n",
       "        text-align: right;\n",
       "    }\n",
       "</style>\n",
       "<table border=\"1\" class=\"dataframe\">\n",
       "  <thead>\n",
       "    <tr style=\"text-align: right;\">\n",
       "      <th></th>\n",
       "      <th>First</th>\n",
       "      <th>Second</th>\n",
       "      <th>Third</th>\n",
       "      <th>Fourth</th>\n",
       "      <th>Fifth</th>\n",
       "    </tr>\n",
       "  </thead>\n",
       "  <tbody>\n",
       "    <tr>\n",
       "      <th>one</th>\n",
       "      <td>1</td>\n",
       "      <td>2</td>\n",
       "      <td>3</td>\n",
       "      <td>4</td>\n",
       "      <td>5</td>\n",
       "    </tr>\n",
       "    <tr>\n",
       "      <th>two</th>\n",
       "      <td>6</td>\n",
       "      <td>7</td>\n",
       "      <td>8</td>\n",
       "      <td>9</td>\n",
       "      <td>10</td>\n",
       "    </tr>\n",
       "    <tr>\n",
       "      <th>three</th>\n",
       "      <td>11</td>\n",
       "      <td>12</td>\n",
       "      <td>13</td>\n",
       "      <td>14</td>\n",
       "      <td>15</td>\n",
       "    </tr>\n",
       "    <tr>\n",
       "      <th>four</th>\n",
       "      <td>16</td>\n",
       "      <td>17</td>\n",
       "      <td>18</td>\n",
       "      <td>19</td>\n",
       "      <td>20</td>\n",
       "    </tr>\n",
       "  </tbody>\n",
       "</table>\n",
       "</div>"
      ],
      "text/plain": [
       "       First  Second  Third  Fourth  Fifth\n",
       "one        1       2      3       4      5\n",
       "two        6       7      8       9     10\n",
       "three     11      12     13      14     15\n",
       "four      16      17     18      19     20"
      ]
     },
     "execution_count": 22,
     "metadata": {},
     "output_type": "execute_result"
    }
   ],
   "source": [
    "ary = [[1,2,3,4,5],[6,7,8,9,10],[11,12,13,14,15],[16,17,18,19,20]]\n",
    "data = pd.DataFrame(ary, columns = ['First','Second','Third','Fourth','Fifth'],index = ['one','two','three','four'])\n",
    "data"
   ]
  },
  {
   "cell_type": "code",
   "execution_count": 26,
   "id": "c47e6147",
   "metadata": {},
   "outputs": [
    {
     "name": "stdout",
     "output_type": "stream",
     "text": [
      "       First  Second  Third  Fourth  Fifth\n",
      "two        6       7      8       9     10\n",
      "three     11      12     13      14     15\n",
      "       Third  Fourth  Fifth\n",
      "one        3       4      5\n",
      "two        8       9     10\n",
      "three     13      14     15\n",
      "four      18      19     20\n",
      "      Second  Fourth  Fifth\n",
      "one        2       4      5\n",
      "four      17      19     20\n"
     ]
    }
   ],
   "source": [
    "print(data.loc['two':'three'])\n",
    "print(data.loc[:, 'Third':'Fifth'])\n",
    "print(data.loc[['one','four'],('Second','Fourth','Fifth')])"
   ]
  },
  {
   "cell_type": "code",
   "execution_count": 29,
   "id": "93161f9f",
   "metadata": {},
   "outputs": [
    {
     "name": "stdout",
     "output_type": "stream",
     "text": [
      "       First  Second  Third  Fourth  Fifth\n",
      "two        6       7      8       9     10\n",
      "three     11      12     13      14     15\n",
      "two       7\n",
      "three    12\n",
      "Name: Second, dtype: int64\n"
     ]
    }
   ],
   "source": [
    "#tail & head 는 데이터프레임의 뒤 & 앞에서의 순서 데이터 불러오기\n",
    "\n",
    "bools = [False, True, True, False]\n",
    "print(data[bools])\n",
    "print(data.Second[bools]) #True 값만 산출"
   ]
  },
  {
   "cell_type": "markdown",
   "id": "fe4a3a4d",
   "metadata": {},
   "source": [
    "max , min, 다 각각의 axis 별로 적용 가능. "
   ]
  },
  {
   "cell_type": "code",
   "execution_count": null,
   "id": "4b3b32b1",
   "metadata": {},
   "outputs": [],
   "source": [
    "data = pd.open_csv('tita')"
   ]
  }
 ],
 "metadata": {
  "kernelspec": {
   "display_name": "Python 3",
   "language": "python",
   "name": "python3"
  },
  "language_info": {
   "codemirror_mode": {
    "name": "ipython",
    "version": 3
   },
   "file_extension": ".py",
   "mimetype": "text/x-python",
   "name": "python",
   "nbconvert_exporter": "python",
   "pygments_lexer": "ipython3",
   "version": "3.8.8"
  }
 },
 "nbformat": 4,
 "nbformat_minor": 5
}
