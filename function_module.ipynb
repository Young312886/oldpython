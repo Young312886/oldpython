{
 "cells": [
  {
   "cell_type": "code",
   "execution_count": 1,
   "id": "c21bfd9b",
   "metadata": {},
   "outputs": [
    {
     "name": "stdout",
     "output_type": "stream",
     "text": [
      "무슨 커피?보통/설탕/블랙설탕\n",
      "물 붓기\n",
      "종이컵 준비\n",
      "설탕 커피를 탄다\n",
      "물을 붓는다\n",
      "스푼으로 젓는다\n",
      "무슨 커피?보통/설탕/블랙블랙\n",
      "물 붓기\n",
      "종이컵 준비\n",
      "보통 커피를 탄다\n",
      "물을 붓는다\n",
      "스푼으로 젓는다\n",
      "무슨 커피?보통/설탕/블랙설탕\n",
      "물 붓기\n",
      "종이컵 준비\n",
      "설탕 커피를 탄다\n",
      "물을 붓는다\n",
      "스푼으로 젓는다\n"
     ]
    }
   ],
   "source": [
    "for i in range(3):\n",
    "    coffee = input('무슨 커피?보통/설탕/블랙')\n",
    "    print ('물 붓기')\n",
    "    print ('종이컵 준비')\n",
    "    if coffee == '보통':\n",
    "        print ('보통 커피를 탄다')\n",
    "    elif coffee == '설탕':\n",
    "        print ('설탕 커피를 탄다')\n",
    "    elif coffee == '블랙':\n",
    "        print ('보통 커피를 탄다')\n",
    "    print('물을 붓는다')\n",
    "    print('스푼으로 젓는다')"
   ]
  },
  {
   "cell_type": "code",
   "execution_count": 3,
   "id": "2fe29f84",
   "metadata": {},
   "outputs": [
    {
     "name": "stdout",
     "output_type": "stream",
     "text": [
      "무슨커피? :사람\n",
      "물 붓기\n",
      "종이컵 준비\n",
      "사람 커피를 탄다\n",
      "물을 붓는다\n",
      "스푼으로 젓는다\n",
      "무슨커피? :너는\n",
      "물 붓기\n",
      "종이컵 준비\n",
      "너는 커피를 탄다\n",
      "물을 붓는다\n",
      "스푼으로 젓는다\n",
      "무슨커피? :노예\n",
      "물 붓기\n",
      "종이컵 준비\n",
      "노예 커피를 탄다\n",
      "물을 붓는다\n",
      "스푼으로 젓는다\n"
     ]
    }
   ],
   "source": [
    "def coffee(x):\n",
    "    print ('물 붓기')\n",
    "    print ('종이컵 준비')\n",
    "    print ( '%s 커피를 탄다'%x)\n",
    "    print('물을 붓는다')\n",
    "    print('스푼으로 젓는다')\n",
    "\n",
    "for i in range(3):\n",
    "    coffee (input('무슨커피? :'))"
   ]
  },
  {
   "cell_type": "code",
   "execution_count": 6,
   "id": "cc36d308",
   "metadata": {},
   "outputs": [
    {
     "name": "stdout",
     "output_type": "stream",
     "text": [
      "무슨 음료?스무디\n",
      "스무디 제조\n"
     ]
    }
   ],
   "source": [
    "\n",
    "\n",
    "def maker():\n",
    "    k = input('무슨 음료?')\n",
    "    if k =='스무디':\n",
    "        print ('스무디 제조')\n",
    "    elif k =='커피' :\n",
    "        print ('커피 제조')\n",
    "# if x =='커피': 이 형식이 좀 더 깔끔 할 듯 (리스트도 굳이 지정 안해도 되고) 아니면 함수 두개 만들어서, if 문으로 두개 돌리기\n",
    "\n",
    "        \n",
    "maker ()\n"
   ]
  },
  {
   "cell_type": "code",
   "execution_count": 8,
   "id": "f21ffcde",
   "metadata": {
    "scrolled": true
   },
   "outputs": [
    {
     "name": "stdout",
     "output_type": "stream",
     "text": [
      "number3\n",
      "number4\n",
      "7\n"
     ]
    }
   ],
   "source": [
    "def plus(x,y):\n",
    "    print (x+y)\n",
    "    \n",
    "x = int(input('number'))\n",
    "y = int(input('number'))\n",
    "plus(x,y)"
   ]
  },
  {
   "cell_type": "markdown",
   "id": "f5d4395e",
   "metadata": {},
   "source": [
    "d"
   ]
  },
  {
   "cell_type": "code",
   "execution_count": 29,
   "id": "5c2da9ec",
   "metadata": {
    "scrolled": true
   },
   "outputs": [
    {
     "name": "stdout",
     "output_type": "stream",
     "text": [
      "nubmer4\n",
      "number5\n",
      "기호/\n",
      "0.8\n"
     ]
    }
   ],
   "source": [
    "def cal(x,y,ca):\n",
    "    if x.isdigit() and y.isdigit() :\n",
    "        x, y = int(x), int(y)\n",
    "        if ca == '*':\n",
    "            result = (x*y)\n",
    "        elif ca == '/' and y!=0:\n",
    "            result = x/y\n",
    "        elif ca == '/':\n",
    "            result = ('분모는 0이 될 수 없습니다')\n",
    "    return result\n",
    "x = input('nubmer')\n",
    "y = input('number')\n",
    "ca = input('기호')\n",
    "a = cal(x,y,ca)\n",
    "print (a)\n"
   ]
  },
  {
   "cell_type": "markdown",
   "id": "4df90664",
   "metadata": {},
   "source": [
    "지역과 전역 변수 \n",
    "지역은 그 함수 안에서만 놈\n",
    "반대로 global 쓰면 함수 안에서 바꾼 숫자가 나와서도 적용이 된다. => 짧은 변수에 유리\n",
    "즉, 영향을 미칠 수 있게 된다.\n",
    "반면에 엄청 길다면? 변수가 복잡하다면?\n",
    "return 함수를 마지막에 써서 밖에서 지정해 주면 오히려 편하다\n",
    "ex ) def f(x):\n",
    "laksjdf;l\n",
    "return (x)\n",
    "\n",
    "x = f(x)\n",
    "면 x는 바뀐 x값이 된다.(return은 여러가지 된다)"
   ]
  },
  {
   "cell_type": "code",
   "execution_count": 32,
   "id": "1ea6248b",
   "metadata": {},
   "outputs": [
    {
     "name": "stdout",
     "output_type": "stream",
     "text": [
      "number4\n",
      "number6\n",
      "10 -2\n"
     ]
    }
   ],
   "source": [
    "def calculation (x,y):\n",
    "    plus = x+y\n",
    "    minus = x-y\n",
    "    return plus, minus\n",
    "\n",
    "x = int(input('number'))\n",
    "y = int (input('number'))\n",
    "a,b = calculation(x,y)\n",
    "print (a,b)"
   ]
  },
  {
   "cell_type": "markdown",
   "id": "4b83fd94",
   "metadata": {},
   "source": [
    "함수 변수에는 기본값을 지정해 둘 수 있다.\n",
    "이걸 이용해서 코드를 간단하게 만들 수 있다.\n",
    "*변수 는 tuple\n",
    "**변수 는 dictionary\n",
    "로 함수에 넣을 수 있다"
   ]
  },
  {
   "cell_type": "code",
   "execution_count": 34,
   "id": "dbbd02b1",
   "metadata": {},
   "outputs": [
    {
     "name": "stdout",
     "output_type": "stream",
     "text": [
      "반복 횟수3\n",
      "number2\n",
      "number3\n",
      "number4\n",
      "9\n"
     ]
    }
   ],
   "source": [
    "def sum_all(x) : #또는 def sum_all(x = 4)로 횟수 지정 가능\n",
    "    result = 0\n",
    "    for i in range (x):\n",
    "        a = int(input('number'))\n",
    "        result += a\n",
    "    return result\n",
    "x = int(input('반복 횟수'))\n",
    "sum_ = sum_all(x)\n",
    "print(sum_)"
   ]
  },
  {
   "cell_type": "code",
   "execution_count": 38,
   "id": "c3b47dde",
   "metadata": {},
   "outputs": [
    {
     "name": "stdout",
     "output_type": "stream",
     "text": [
      "횟수 : 9\n",
      "[12, 4, 22, 11, 39, 6, 19, 17, 9]\n"
     ]
    }
   ],
   "source": [
    "import random\n",
    "\n",
    "def Lotto (x = 6):\n",
    "    nums = []\n",
    "    for i in range (0,x):\n",
    "        nums.append (random.randrange(1,45,1))\n",
    "    return nums\n",
    "x = int (input('횟수 : '))\n",
    "lotto = Lotto(x)\n",
    "print(lotto)\n",
    "    "
   ]
  },
  {
   "cell_type": "markdown",
   "id": "a7a96cd2",
   "metadata": {},
   "source": [
    "모듈 시작\n",
    "모듈은 함수들의 집합.\n",
    "사용자가 직접 정의 할 수 있다. import를 활용해서 받아올 수 있다.\n"
   ]
  },
  {
   "cell_type": "code",
   "execution_count": 14,
   "id": "e0489970",
   "metadata": {
    "scrolled": true
   },
   "outputs": [
    {
     "name": "stdout",
     "output_type": "stream",
     "text": [
      "됬다\n"
     ]
    }
   ],
   "source": [
    "import module1\n",
    "module1.function1()"
   ]
  },
  {
   "cell_type": "code",
   "execution_count": 15,
   "id": "297502c3",
   "metadata": {
    "scrolled": false
   },
   "outputs": [
    {
     "name": "stdout",
     "output_type": "stream",
     "text": [
      "됬다\n"
     ]
    }
   ],
   "source": [
    "from module1 import * #별표는 모든것을 의미\n",
    "from module1 import function1\n",
    "module1.function1()\n"
   ]
  },
  {
   "cell_type": "code",
   "execution_count": 14,
   "id": "d2a77bd4",
   "metadata": {},
   "outputs": [
    {
     "data": {
      "text/plain": [
       "['_STRUCT_TM_ITEMS',\n",
       " '__doc__',\n",
       " '__loader__',\n",
       " '__name__',\n",
       " '__package__',\n",
       " '__spec__',\n",
       " 'altzone',\n",
       " 'asctime',\n",
       " 'ctime',\n",
       " 'daylight',\n",
       " 'get_clock_info',\n",
       " 'gmtime',\n",
       " 'localtime',\n",
       " 'mktime',\n",
       " 'monotonic',\n",
       " 'monotonic_ns',\n",
       " 'perf_counter',\n",
       " 'perf_counter_ns',\n",
       " 'process_time',\n",
       " 'process_time_ns',\n",
       " 'sleep',\n",
       " 'strftime',\n",
       " 'strptime',\n",
       " 'struct_time',\n",
       " 'thread_time',\n",
       " 'thread_time_ns',\n",
       " 'time',\n",
       " 'time_ns',\n",
       " 'timezone',\n",
       " 'tzname']"
      ]
     },
     "execution_count": 14,
     "metadata": {},
     "output_type": "execute_result"
    }
   ],
   "source": [
    "import time\n",
    "dir(time) #time 안에 있는 함수들을 나열해 준다 (기능은 알아서 찾아보시오)"
   ]
  },
  {
   "cell_type": "markdown",
   "id": "57a042d9",
   "metadata": {},
   "source": [
    "from modules.Untitled import * \n",
    "=> 식으로 패키지를 로드 할 수 있다.(파일안의 함수 로드하기)\n",
    "\n",
    "내부함수 = 함수안의 함수\n",
    "=> 함수 내의 함수를 정의하기 위한 기능. 즉, 지역함수\n",
    "\n",
    "람다함수는 간단한 함수 \n",
    "ex)더하기 함수\n",
    "hap2 = lambda num1, num2 : num1_num2\n",
    "함수이름 = lambda 변수 : return할 값(결과)\n",
    "\n",
    "재귀 함수 = 반복함수 함수 정의 안에 자신을 넣어버려서 반복되게 만든다"
   ]
  },
  {
   "cell_type": "code",
   "execution_count": 25,
   "id": "cf7dd199",
   "metadata": {},
   "outputs": [
    {
     "name": "stdout",
     "output_type": "stream",
     "text": [
      "2\n"
     ]
    }
   ],
   "source": [
    "def pactorial (num):\n",
    "    result = 1\n",
    "    if num <=1:\n",
    "        return num\n",
    "    else : \n",
    "        return num * pactorial(num-1)\n",
    "k = pactorial (2)\n",
    "print (k)"
   ]
  },
  {
   "cell_type": "code",
   "execution_count": 26,
   "id": "dabec3f1",
   "metadata": {},
   "outputs": [],
   "source": [
    "#이제는 yield 를 활용해서 계속해서 값을 반환하는 것 함수 종료 안됨 => list 를 활용해보자"
   ]
  },
  {
   "cell_type": "code",
   "execution_count": 3,
   "id": "9b095bfa",
   "metadata": {
    "scrolled": false
   },
   "outputs": [
    {
     "ename": "AttributeError",
     "evalue": "'function' object has no attribute 'getshapes'",
     "output_type": "error",
     "traceback": [
      "\u001b[1;31m---------------------------------------------------------------------------\u001b[0m",
      "\u001b[1;31mAttributeError\u001b[0m                            Traceback (most recent call last)",
      "\u001b[1;32m<ipython-input-3-a4db418cddc4>\u001b[0m in \u001b[0;36m<module>\u001b[1;34m\u001b[0m\n\u001b[0;32m      6\u001b[0m \u001b[0mswidth\u001b[0m \u001b[1;33m=\u001b[0m \u001b[1;36m500\u001b[0m\u001b[1;33m\u001b[0m\u001b[1;33m\u001b[0m\u001b[0m\n\u001b[0;32m      7\u001b[0m \u001b[0msheight\u001b[0m \u001b[1;33m=\u001b[0m \u001b[1;36m500\u001b[0m\u001b[1;33m\u001b[0m\u001b[1;33m\u001b[0m\u001b[0m\n\u001b[1;32m----> 8\u001b[1;33m \u001b[0mmodule1\u001b[0m\u001b[1;33m.\u001b[0m\u001b[0mturtle\u001b[0m\u001b[1;33m(\u001b[0m\u001b[0mswidth\u001b[0m\u001b[1;33m,\u001b[0m \u001b[0msheight\u001b[0m\u001b[1;33m)\u001b[0m\u001b[1;33m\u001b[0m\u001b[1;33m\u001b[0m\u001b[0m\n\u001b[0m\u001b[0;32m      9\u001b[0m \u001b[1;33m\u001b[0m\u001b[0m\n\u001b[0;32m     10\u001b[0m \u001b[1;32mfor\u001b[0m \u001b[0mj\u001b[0m \u001b[1;32min\u001b[0m \u001b[0mrange\u001b[0m\u001b[1;33m(\u001b[0m\u001b[1;36m10\u001b[0m\u001b[1;33m)\u001b[0m\u001b[1;33m:\u001b[0m\u001b[1;33m\u001b[0m\u001b[1;33m\u001b[0m\u001b[0m\n",
      "\u001b[1;32m~\\Documents\\Ubion\\Jupyter\\module1.py\u001b[0m in \u001b[0;36mturtle\u001b[1;34m(swidth, sheight)\u001b[0m\n\u001b[0;32m      8\u001b[0m \u001b[1;32mdef\u001b[0m \u001b[0mturtle\u001b[0m\u001b[1;33m(\u001b[0m\u001b[0mswidth\u001b[0m\u001b[1;33m,\u001b[0m \u001b[0msheight\u001b[0m\u001b[1;33m)\u001b[0m\u001b[1;33m:\u001b[0m\u001b[1;33m\u001b[0m\u001b[1;33m\u001b[0m\u001b[0m\n\u001b[0;32m      9\u001b[0m     \u001b[0mturtle_list\u001b[0m \u001b[1;33m=\u001b[0m \u001b[1;33m[\u001b[0m\u001b[1;33m]\u001b[0m\u001b[1;33m\u001b[0m\u001b[1;33m\u001b[0m\u001b[0m\n\u001b[1;32m---> 10\u001b[1;33m     \u001b[0ma\u001b[0m \u001b[1;33m=\u001b[0m \u001b[0mturtle\u001b[0m\u001b[1;33m.\u001b[0m\u001b[0mgetshapes\u001b[0m\u001b[1;33m(\u001b[0m\u001b[1;33m)\u001b[0m\u001b[1;33m\u001b[0m\u001b[1;33m\u001b[0m\u001b[0m\n\u001b[0m\u001b[0;32m     11\u001b[0m     \u001b[0mturtle\u001b[0m\u001b[1;33m.\u001b[0m\u001b[0msetup\u001b[0m\u001b[1;33m(\u001b[0m\u001b[0mwidth\u001b[0m \u001b[1;33m=\u001b[0m \u001b[0mswidth\u001b[0m \u001b[1;33m+\u001b[0m\u001b[1;36m50\u001b[0m\u001b[1;33m,\u001b[0m \u001b[0mheight\u001b[0m \u001b[1;33m=\u001b[0m \u001b[0msheight\u001b[0m \u001b[1;33m+\u001b[0m\u001b[1;36m50\u001b[0m\u001b[1;33m)\u001b[0m\u001b[1;33m\u001b[0m\u001b[1;33m\u001b[0m\u001b[0m\n\u001b[0;32m     12\u001b[0m     \u001b[0mturtle\u001b[0m\u001b[1;33m.\u001b[0m\u001b[0mscreensize\u001b[0m\u001b[1;33m(\u001b[0m\u001b[0mswidth\u001b[0m\u001b[1;33m,\u001b[0m \u001b[0msheight\u001b[0m\u001b[1;33m)\u001b[0m\u001b[1;33m\u001b[0m\u001b[1;33m\u001b[0m\u001b[0m\n",
      "\u001b[1;31mAttributeError\u001b[0m: 'function' object has no attribute 'getshapes'"
     ]
    }
   ],
   "source": [
    "\n",
    "from tkinter.simpledialog import *\n",
    "\n",
    "\n",
    "import module1\n",
    "from module1 import turtle\n",
    "swidth = 500\n",
    "sheight = 500\n",
    "module1.turtle(swidth, sheight)\n",
    "\n",
    "for j in range(10):\n",
    "    myTurtle = turtle.Turtle()\n",
    "    myTurtle.shape(turtle_list[j][5])\n",
    "    myTurtle.color(turtle_list[j][0],turtle_list[j][1],turtle_list[j][2])\n",
    "    myTurtle.pencolor(turtle_list[j][0],turtle_list[j][1],turtle_list[j][2])\n",
    "    myTurtle.goto(turtle_list[j][3],turtle_list[j][4])"
   ]
  },
  {
   "cell_type": "code",
   "execution_count": null,
   "id": "706e67e9",
   "metadata": {},
   "outputs": [],
   "source": []
  }
 ],
 "metadata": {
  "kernelspec": {
   "display_name": "Python 3",
   "language": "python",
   "name": "python3"
  },
  "language_info": {
   "codemirror_mode": {
    "name": "ipython",
    "version": 3
   },
   "file_extension": ".py",
   "mimetype": "text/x-python",
   "name": "python",
   "nbconvert_exporter": "python",
   "pygments_lexer": "ipython3",
   "version": "3.8.8"
  }
 },
 "nbformat": 4,
 "nbformat_minor": 5
}
