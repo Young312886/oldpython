{
 "cells": [
  {
   "cell_type": "code",
   "execution_count": 4,
   "id": "177f365a",
   "metadata": {},
   "outputs": [],
   "source": [
    "a = 5 ; b, c = 3, 7"
   ]
  },
  {
   "cell_type": "code",
   "execution_count": 5,
   "id": "f79c775f",
   "metadata": {},
   "outputs": [
    {
     "name": "stdout",
     "output_type": "stream",
     "text": [
      "8 15 1.6666666666666667 1 2 125\n"
     ]
    }
   ],
   "source": [
    "print ( a+b, a*b, a/b, a//b, a%b, a**b)"
   ]
  },
  {
   "cell_type": "code",
   "execution_count": 10,
   "id": "665b9ea4",
   "metadata": {},
   "outputs": [],
   "source": [
    "r = a+(b*c)\n",
    "t = (a+b)*c\n",
    "q = a+b*c"
   ]
  },
  {
   "cell_type": "code",
   "execution_count": 11,
   "id": "8a0608ce",
   "metadata": {},
   "outputs": [
    {
     "name": "stdout",
     "output_type": "stream",
     "text": [
      "26\n",
      "56 26\n"
     ]
    }
   ],
   "source": [
    "print (r)\n",
    "print (t, q)"
   ]
  },
  {
   "cell_type": "code",
   "execution_count": 12,
   "id": "33d6c8ba",
   "metadata": {},
   "outputs": [
    {
     "name": "stdout",
     "output_type": "stream",
     "text": [
      "8\n",
      "16\n"
     ]
    }
   ],
   "source": [
    "a += 3\n",
    "print (a)\n",
    "a *= 2\n",
    "print (a)"
   ]
  },
  {
   "cell_type": "code",
   "execution_count": 21,
   "id": "d6ca37ef",
   "metadata": {},
   "outputs": [
    {
     "name": "stdout",
     "output_type": "stream",
     "text": [
      "잔돈은 얼마입니까?1396\n",
      "잔돈은\n",
      "500원짜리 2개 \n",
      "100원짜리 3개 \n",
      "50원짜리 1개 \n",
      "10원짜리 4개 입니다\n",
      "남은 돈은 6원 입니다\n"
     ]
    }
   ],
   "source": [
    "#변수 정의 파트가 필요하다\n",
    "# money, coin500, coin100, coin50, coin10 = 0,0,0,0,0\n",
    "\n",
    "money = int(input(\"잔돈은 얼마입니까?\"))\n",
    "coin500 = money // 500\n",
    "money %= 500\n",
    "coin100 = money // 100\n",
    "money %= 100\n",
    "coin50 = money // 50\n",
    "money %= 50\n",
    "coin10 = money // 10\n",
    "money %=  10\n",
    "\n",
    "\n",
    "print ( \"잔돈은\\n500원짜리 %d개 \\n100원짜리 %d개 \\n50원짜리 %d개 \\n10원짜리 %d개 입니다\\n남은 돈은 %d원 입니다\"\n",
    "       %(coin500, coin100, coin50, coin10, money))"
   ]
  },
  {
   "cell_type": "code",
   "execution_count": 22,
   "id": "3644def7",
   "metadata": {},
   "outputs": [
    {
     "name": "stdout",
     "output_type": "stream",
     "text": [
      "!#\n"
     ]
    }
   ],
   "source": [
    "if(1234):print(\"!#\")\n",
    "if (0) : print (\"afdshu\")"
   ]
  },
  {
   "cell_type": "code",
   "execution_count": 23,
   "id": "ba5bd173",
   "metadata": {},
   "outputs": [
    {
     "name": "stdout",
     "output_type": "stream",
     "text": [
      "2\n"
     ]
    }
   ],
   "source": [
    "a, b= 10,7\n",
    "print (a&b)"
   ]
  },
  {
   "cell_type": "code",
   "execution_count": 26,
   "id": "64152048",
   "metadata": {},
   "outputs": [
    {
     "name": "stdout",
     "output_type": "stream",
     "text": [
      "41 & f = 1\n",
      "41 | F = 4F\n"
     ]
    }
   ],
   "source": [
    "a = ord('A')\n",
    "mask = 0x0F\n",
    "\n",
    "print(\"%x & %x = %x\" % (a, mask, a & mask))\n",
    "print (\"%X | %X = %X\" %(a, mask, a|mask))\n"
   ]
  },
  {
   "cell_type": "code",
   "execution_count": 33,
   "id": "35ab6c40",
   "metadata": {},
   "outputs": [
    {
     "name": "stdout",
     "output_type": "stream",
     "text": [
      "몇년도 입니까?2100\n",
      "2100 년은 윤년이 아닙니다\n"
     ]
    }
   ],
   "source": [
    "#윤년 계산 법 4로 나눠지면 윤년, 근데 100으로도 나눠지면 아님, 근데 400으로 \n",
    "#나눠지면 또 됨\n",
    "y = int(input(\"몇년도 입니까?\"))\n",
    "\n",
    "if (y % 4 == 0) and not(y % 100 == 0) : k = True\n",
    "if y % 400 == 0 : k = True\n",
    "\n",
    "    \n",
    "if k == True : \n",
    "    print ( \"%d 년은 윤년입니다\" %(y))\n",
    "else : \n",
    "    print ( \"%d 년은 윤년이 아닙니다\" %(y))\n",
    "    "
   ]
  },
  {
   "cell_type": "code",
   "execution_count": 36,
   "id": "e8191319",
   "metadata": {},
   "outputs": [
    {
     "name": "stdout",
     "output_type": "stream",
     "text": [
      "숫자6\n",
      "숫자9\n",
      "16진수는 + = 0xf  - = -0x3 * = 0x36\n"
     ]
    }
   ],
   "source": [
    "num, n16, n10, n8, n2 = 0,0,0,0,0\n",
    "\n",
    "num1 = int(input('숫자'))\n",
    "num2 = int(input('숫자'))\n",
    "# 16\n",
    "a = num1 + num2\n",
    "b = num1 - num2\n",
    "c = num1 * num2\n",
    "\n",
    "print (\"16진수는 + = %s  - = %s * = %s\" %(hex(a),hex(b),hex(c)))"
   ]
  },
  {
   "cell_type": "code",
   "execution_count": 40,
   "id": "3c3559b3",
   "metadata": {},
   "outputs": [
    {
     "name": "stdout",
     "output_type": "stream",
     "text": [
      "나이1678\n",
      "됨\n"
     ]
    }
   ],
   "source": [
    "a = int(input(\"나이\"))\n",
    "if a < 19 :\n",
    "    print(\"안돼\")\n",
    "else : \n",
    "    print (\"됨\")"
   ]
  },
  {
   "cell_type": "code",
   "execution_count": 38,
   "id": "a8d6a03b",
   "metadata": {},
   "outputs": [
    {
     "name": "stdout",
     "output_type": "stream",
     "text": [
      "a작\n",
      " a 3\n"
     ]
    }
   ],
   "source": [
    "a = 3\n",
    "if a < 5 : \n",
    "    print (\"a작\")\n",
    "if a > 5 :\n",
    "    print (\"a 큰\")\n",
    "if a == 3 :\n",
    "    print (\" a 3\")"
   ]
  },
  {
   "cell_type": "code",
   "execution_count": 39,
   "id": "04bcae67",
   "metadata": {},
   "outputs": [
    {
     "name": "stdout",
     "output_type": "stream",
     "text": [
      "숫자54\n",
      "54는 짝수입니다\n"
     ]
    }
   ],
   "source": [
    "# 짝 홀 판독기\n",
    "\n",
    "a= int(input('숫자'))\n",
    "\n",
    "if a % 2 == 0 :\n",
    "    print ( \"%d는 짝수입니다\" %(a))\n",
    "else :\n",
    "    print ( \"홀수입니다\")"
   ]
  },
  {
   "cell_type": "code",
   "execution_count": 43,
   "id": "8e239f57",
   "metadata": {},
   "outputs": [
    {
     "name": "stdout",
     "output_type": "stream",
     "text": [
      "30\n",
      "tt\n"
     ]
    }
   ],
   "source": [
    "a = int(input())\n",
    "if a > 50:\n",
    "    if a < 100:\n",
    "        print(\"t\")\n",
    "    else :\n",
    "        print(\"ty\")\n",
    "else:\n",
    "    print(\"tt\")\n"
   ]
  },
  {
   "cell_type": "code",
   "execution_count": 46,
   "id": "c2c3d2f4",
   "metadata": {},
   "outputs": [
    {
     "name": "stdout",
     "output_type": "stream",
     "text": [
      "-39\n",
      "오류\n"
     ]
    }
   ],
   "source": [
    "score = int(input())\n",
    "if score > 0 and score < 100:\n",
    "    if score > 75:\n",
    "        if score > 80:\n",
    "            if score > 90:\n",
    "                print(\"a\")\n",
    "            else :\n",
    "                print(\"b\")\n",
    "        else: print(\"c\")\n",
    "    else:\n",
    "        print(\"d\")\n",
    "else : \n",
    "    print (\"오류\")"
   ]
  },
  {
   "cell_type": "code",
   "execution_count": 50,
   "id": "d9d371e8",
   "metadata": {},
   "outputs": [
    {
     "name": "stdout",
     "output_type": "stream",
     "text": [
      "150\n",
      "A\n"
     ]
    }
   ],
   "source": [
    "score = int(input())\n",
    "if score >= 90:\n",
    "    print (\"A\")\n",
    "elif score >= 80:\n",
    "    print (\"B\")\n",
    "elif score >= 70:\n",
    "    print (\"C\")\n",
    "elif score >= 60:\n",
    "    print (\"D\")\n",
    "elif score >= 0:\n",
    "    print (\"F\")\n",
    "else : \n",
    "    print (오류)"
   ]
  },
  {
   "cell_type": "code",
   "execution_count": 57,
   "id": "282408a5",
   "metadata": {},
   "outputs": [
    {
     "name": "stdout",
     "output_type": "stream",
     "text": [
      "등급은?B\n",
      "가격은?5000\n",
      "등급은 B 이고 판매가는 3500 이다\n",
      "Done\n"
     ]
    }
   ],
   "source": [
    "score = input('등급은?')\n",
    "price = int(input('가격은?'))\n",
    "rate = ''\n",
    "\n",
    "if score == 'A':\n",
    "    price *= 0.7\n",
    "elif score == 'B':\n",
    "    price *= 0.7\n",
    "elif score == 'C':\n",
    "    price *= 0.92\n",
    "elif score == 'Z':\n",
    "    price += 5000\n",
    "else : \n",
    "    print (\"오류\")\n",
    "print (\"등급은 %s 이고 판매가는 %d 이다\"%(score, price))\n",
    "print ('Done')"
   ]
  },
  {
   "cell_type": "code",
   "execution_count": 59,
   "id": "0d429b7d",
   "metadata": {},
   "outputs": [
    {
     "name": "stdout",
     "output_type": "stream",
     "text": [
      "1*3\n",
      "3\n"
     ]
    }
   ],
   "source": [
    "words = input()\n",
    "\n",
    "if words == '+':\n",
    "    a = int(input())\n",
    "    b = int(input())\n",
    "    result = a+b\n",
    "else :\n",
    "    result = eval(words)\n",
    "\n",
    "print (result)"
   ]
  },
  {
   "cell_type": "code",
   "execution_count": 69,
   "id": "2972059d",
   "metadata": {},
   "outputs": [
    {
     "name": "stdout",
     "output_type": "stream",
     "text": [
      "55\n",
      "100\n"
     ]
    }
   ],
   "source": [
    "a,i = 0, 0\n",
    "for i in range (11):\n",
    "    a += i\n",
    "\n",
    "print (a)\n",
    "\n",
    "a, i =0,0\n",
    "\n",
    "for i in range (21):\n",
    "    if i % 2 == 1 :\n",
    "        a += i\n",
    "print (a)"
   ]
  },
  {
   "cell_type": "code",
   "execution_count": 70,
   "id": "11c59d42",
   "metadata": {},
   "outputs": [
    {
     "name": "stdout",
     "output_type": "stream",
     "text": [
      "867\n"
     ]
    }
   ],
   "source": [
    "a = 0\n",
    "for i in range (0,101):\n",
    "    if i % 3 == 0 and not i % 6==0:\n",
    "        a += i\n",
    "print (a)"
   ]
  },
  {
   "cell_type": "code",
   "execution_count": 72,
   "id": "649d399b",
   "metadata": {},
   "outputs": [
    {
     "name": "stdout",
     "output_type": "stream",
     "text": [
      "187500\n"
     ]
    }
   ],
   "source": [
    "sum = 0\n",
    "for i in range (501,1001,2):\n",
    "    sum += i\n",
    "print(sum)"
   ]
  },
  {
   "cell_type": "code",
   "execution_count": 77,
   "id": "cd0391be",
   "metadata": {},
   "outputs": [
    {
     "name": "stdout",
     "output_type": "stream",
     "text": [
      "입력값45\n",
      "1035\n"
     ]
    }
   ],
   "source": [
    "a = int(input('입력값'))\n",
    "sum = 0\n",
    "for i in range (0,a+1):\n",
    "    sum += i\n",
    "    \n",
    "print(sum)"
   ]
  },
  {
   "cell_type": "code",
   "execution_count": 78,
   "id": "43c1b47d",
   "metadata": {},
   "outputs": [
    {
     "name": "stdout",
     "output_type": "stream",
     "text": [
      "9\n",
      "5678\n",
      "3\n",
      "5372325\n"
     ]
    }
   ],
   "source": [
    "summer = 0\n",
    "x = int(input())\n",
    "y = int(input())\n",
    "z = int(input())\n",
    "\n",
    "for i in range (x,y+1,z):\n",
    "    summer += i\n",
    "print(summer)"
   ]
  },
  {
   "cell_type": "code",
   "execution_count": 83,
   "id": "5a1720d5",
   "metadata": {},
   "outputs": [
    {
     "name": "stdout",
     "output_type": "stream",
     "text": [
      "9\n",
      "9 X 1 = 9\n",
      "9 X 2 = 18\n",
      "9 X 3 = 27\n",
      "9 X 4 = 36\n",
      "9 X 5 = 45\n",
      "9 X 6 = 54\n",
      "9 X 7 = 63\n",
      "9 X 8 = 72\n",
      "9 X 9 = 81\n"
     ]
    }
   ],
   "source": [
    "i, j = 0,0\n",
    "i = int(input())\n",
    "for j in range (1,10,1):\n",
    "    print (\"%d X %d = %d\" %(i,j,i*j) )"
   ]
  },
  {
   "cell_type": "code",
   "execution_count": 90,
   "id": "fae2857e",
   "metadata": {},
   "outputs": [
    {
     "name": "stdout",
     "output_type": "stream",
     "text": [
      "1 x 1 =  1 1 x 2 =  2 1 x 3 =  3 1 x 4 =  4 1 x 5 =  5 1 x 6 =  6 1 x 7 =  7 1 x 8 =  8 1 x 9 =  9  \n",
      "2 x 1 =  2 2 x 2 =  4 2 x 3 =  6 2 x 4 =  8 2 x 5 = 10 2 x 6 = 12 2 x 7 = 14 2 x 8 = 16 2 x 9 = 18  \n",
      "3 x 1 =  3 3 x 2 =  6 3 x 3 =  9 3 x 4 = 12 3 x 5 = 15 3 x 6 = 18 3 x 7 = 21 3 x 8 = 24 3 x 9 = 27  \n",
      "4 x 1 =  4 4 x 2 =  8 4 x 3 = 12 4 x 4 = 16 4 x 5 = 20 4 x 6 = 24 4 x 7 = 28 4 x 8 = 32 4 x 9 = 36  \n",
      "5 x 1 =  5 5 x 2 = 10 5 x 3 = 15 5 x 4 = 20 5 x 5 = 25 5 x 6 = 30 5 x 7 = 35 5 x 8 = 40 5 x 9 = 45  \n",
      "6 x 1 =  6 6 x 2 = 12 6 x 3 = 18 6 x 4 = 24 6 x 5 = 30 6 x 6 = 36 6 x 7 = 42 6 x 8 = 48 6 x 9 = 54  \n",
      "7 x 1 =  7 7 x 2 = 14 7 x 3 = 21 7 x 4 = 28 7 x 5 = 35 7 x 6 = 42 7 x 7 = 49 7 x 8 = 56 7 x 9 = 63  \n",
      "8 x 1 =  8 8 x 2 = 16 8 x 3 = 24 8 x 4 = 32 8 x 5 = 40 8 x 6 = 48 8 x 7 = 56 8 x 8 = 64 8 x 9 = 72  \n",
      "9 x 1 =  9 9 x 2 = 18 9 x 3 = 27 9 x 4 = 36 9 x 5 = 45 9 x 6 = 54 9 x 7 = 63 9 x 8 = 72 9 x 9 = 81  \n"
     ]
    }
   ],
   "source": [
    "for i in range(1,10) :\n",
    "    for j in range (1,10):\n",
    "        print( \"%d x %d = %2d\" %(i,j,i*j), end =\" \")\n",
    "    print (' ')"
   ]
  },
  {
   "cell_type": "code",
   "execution_count": 93,
   "id": "835823e6",
   "metadata": {},
   "outputs": [
    {
     "name": "stdout",
     "output_type": "stream",
     "text": [
      "9 x 1 =  9 9 x 2 = 18 9 x 3 = 27 9 x 4 = 36 9 x 5 = 45 9 x 6 = 54 9 x 7 = 63 9 x 8 = 72 9 x 9 = 81  \n",
      "8 x 1 =  8 8 x 2 = 16 8 x 3 = 24 8 x 4 = 32 8 x 5 = 40 8 x 6 = 48 8 x 7 = 56 8 x 8 = 64 8 x 9 = 72  \n",
      "7 x 1 =  7 7 x 2 = 14 7 x 3 = 21 7 x 4 = 28 7 x 5 = 35 7 x 6 = 42 7 x 7 = 49 7 x 8 = 56 7 x 9 = 63  \n",
      "6 x 1 =  6 6 x 2 = 12 6 x 3 = 18 6 x 4 = 24 6 x 5 = 30 6 x 6 = 36 6 x 7 = 42 6 x 8 = 48 6 x 9 = 54  \n",
      "5 x 1 =  5 5 x 2 = 10 5 x 3 = 15 5 x 4 = 20 5 x 5 = 25 5 x 6 = 30 5 x 7 = 35 5 x 8 = 40 5 x 9 = 45  \n",
      "4 x 1 =  4 4 x 2 =  8 4 x 3 = 12 4 x 4 = 16 4 x 5 = 20 4 x 6 = 24 4 x 7 = 28 4 x 8 = 32 4 x 9 = 36  \n",
      "3 x 1 =  3 3 x 2 =  6 3 x 3 =  9 3 x 4 = 12 3 x 5 = 15 3 x 6 = 18 3 x 7 = 21 3 x 8 = 24 3 x 9 = 27  \n",
      "2 x 1 =  2 2 x 2 =  4 2 x 3 =  6 2 x 4 =  8 2 x 5 = 10 2 x 6 = 12 2 x 7 = 14 2 x 8 = 16 2 x 9 = 18  \n",
      "1 x 1 =  1 1 x 2 =  2 1 x 3 =  3 1 x 4 =  4 1 x 5 =  5 1 x 6 =  6 1 x 7 =  7 1 x 8 =  8 1 x 9 =  9  \n"
     ]
    }
   ],
   "source": [
    "for i in range(9,0,-1) :\n",
    "    for j in range (1,10):\n",
    "        print( \"%d x %d = %2d\" %(i,j,i*j), end =\" \")\n",
    "    print (' ')"
   ]
  },
  {
   "cell_type": "code",
   "execution_count": 102,
   "id": "9d772014",
   "metadata": {},
   "outputs": [
    {
     "name": "stdout",
     "output_type": "stream",
     "text": [
      "1 2 짝 4 5 짝 7 8 짝 10 \n",
      "11 12 짝 14 15 짝 17 18 짝 20 \n",
      "21 22 짝 24 25 짝 27 28 짝 30 \n",
      "31 32 짝 34 35 짝 37 38 짝 40 \n",
      "41 42 짝 44 45 짝 47 48 짝 50 \n",
      "51 52 짝 54 55 짝 57 58 짝 60 \n",
      "61 62 짝 64 65 짝 67 68 짝 70 \n",
      "71 72 짝 74 75 짝 77 78 짝 80 \n",
      "81 82 짝 84 85 짝 87 88 짝 90 \n",
      "91 92 짝 94 95 짝 97 98 짝 100 \n"
     ]
    }
   ],
   "source": [
    "i = 0\n",
    "while i < 100:\n",
    "    i += 1\n",
    "    if (i %10) % 3 ==0 and  i%10 !=0:\n",
    "        print (\"짝\", end = ' ' )\n",
    "    else : print (i, end = ' ')\n",
    "    if i % 10 == 0:\n",
    "        print('')\n"
   ]
  },
  {
   "cell_type": "code",
   "execution_count": 108,
   "id": "d93d8ad0",
   "metadata": {},
   "outputs": [
    {
     "name": "stdout",
     "output_type": "stream",
     "text": [
      "45 1035\n"
     ]
    }
   ],
   "source": [
    "i = 0\n",
    "sumall = 0\n",
    "while True :\n",
    "    i += 1\n",
    "    sumall += i\n",
    "    if sumall >1000:\n",
    "        break\n",
    "print (i, sumall)\n"
   ]
  },
  {
   "cell_type": "code",
   "execution_count": 115,
   "id": "22f97fb0",
   "metadata": {},
   "outputs": [
    {
     "name": "stdout",
     "output_type": "stream",
     "text": [
      "오류\n",
      "오류\n",
      "46.25\n"
     ]
    }
   ],
   "source": [
    "sum_all, n = 0, 0\n",
    "\n",
    "for i in [20,30,50,70,100,5049,50,30,110,20]:\n",
    "    if i > 100 or i < 0 :\n",
    "        print (\"오류\")\n",
    "        continue\n",
    "    n = n + 1\n",
    "    sum_all += i\n",
    "print (sum_all / n)"
   ]
  },
  {
   "cell_type": "code",
   "execution_count": 116,
   "id": "559ad901",
   "metadata": {},
   "outputs": [
    {
     "data": {
      "text/plain": [
       "46.25"
      ]
     },
     "execution_count": 116,
     "metadata": {},
     "output_type": "execute_result"
    }
   ],
   "source": [
    "n = 20+30+50+70+100+50+30+20\n",
    "i = 8\n",
    "n/i "
   ]
  },
  {
   "cell_type": "code",
   "execution_count": 119,
   "id": "e948aaf4",
   "metadata": {},
   "outputs": [
    {
     "name": "stdout",
     "output_type": "stream",
     "text": [
      "100\n",
      "37.78\n"
     ]
    }
   ],
   "source": [
    "Ftemp = int (input())\n",
    "\n",
    "Cel = (Ftemp-32) * 5/9\n",
    "print (round(Cel,2))"
   ]
  },
  {
   "cell_type": "code",
   "execution_count": 134,
   "id": "aa44a64d",
   "metadata": {
    "scrolled": true
   },
   "outputs": [
    {
     "name": "stdout",
     "output_type": "stream",
     "text": [
      "     *\n",
      "    ***\n",
      "   *****\n",
      "  *******\n",
      " *********\n",
      "  *******\n",
      "   *****\n",
      "    ***\n",
      "     *\n"
     ]
    }
   ],
   "source": [
    "a= '*'\n",
    "b = ''\n",
    "c = ' '\n",
    "j=0\n",
    "for i in range(0,4):\n",
    "    j = 4-i\n",
    "    print (c*j,a+a*2*i)\n",
    "for i in range(0,5):\n",
    "    print(c*i,a*(9-2*i))\n",
    "    "
   ]
  },
  {
   "cell_type": "code",
   "execution_count": 135,
   "id": "eda4751f",
   "metadata": {},
   "outputs": [
    {
     "name": "stdout",
     "output_type": "stream",
     "text": [
      "     *\n",
      "    ---\n",
      "   *****\n",
      "  -------\n",
      " *********\n",
      "  -------\n",
      "   *****\n",
      "    ---\n",
      "     *\n"
     ]
    }
   ],
   "source": [
    "for i in range (4):\n",
    "    if i%2 == 0:\n",
    "        print (' '*(4-i), \"*\"*(2*i+1))\n",
    "    else : print (' '*(4-i), \"-\"*(2*i+1))\n",
    "for i in range (5):\n",
    "    if i%2 == 0 :\n",
    "        print (' '*i,\"*\"*(9-2*i))\n",
    "    else : print (' '*i,\"-\"*(9-2*i))"
   ]
  },
  {
   "cell_type": "code",
   "execution_count": null,
   "id": "fda54a24",
   "metadata": {},
   "outputs": [],
   "source": []
  }
 ],
 "metadata": {
  "kernelspec": {
   "display_name": "Python 3",
   "language": "python",
   "name": "python3"
  },
  "language_info": {
   "codemirror_mode": {
    "name": "ipython",
    "version": 3
   },
   "file_extension": ".py",
   "mimetype": "text/x-python",
   "name": "python",
   "nbconvert_exporter": "python",
   "pygments_lexer": "ipython3",
   "version": "3.8.8"
  }
 },
 "nbformat": 4,
 "nbformat_minor": 5
}
